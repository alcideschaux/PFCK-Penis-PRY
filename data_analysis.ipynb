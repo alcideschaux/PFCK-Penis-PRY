{
 "cells": [
  {
   "cell_type": "markdown",
   "id": "dc638b5b-03d7-4d61-96a9-3468803edc4a",
   "metadata": {
    "jp-MarkdownHeadingCollapsed": true,
    "tags": []
   },
   "source": [
    "# Impact of Pathologic Features on PD-L1 and CD8 Expression in Penile Squamous Cell Carcinoma: A Machine Learning Analysis"
   ]
  },
  {
   "cell_type": "code",
   "execution_count": 1,
   "id": "0b69f9ab-a56b-436d-a8cc-8d3e544f6130",
   "metadata": {},
   "outputs": [],
   "source": [
    "import pandas as pd\n",
    "import numpy as np\n",
    "import scipy.stats\n",
    "import matplotlib.pyplot as plt\n",
    "import seaborn as sns\n",
    "\n",
    "sns.set(rc={'figure.figsize':(12.0,8.0)})\n",
    "\n",
    "df = pd.read_json('data.json')\n",
    "\n",
    "# Transforming and ordering features\n",
    "df = df.astype({'subtype':'category','grade':'category','host_response':'category'})\n",
    "df['subtype'] = df['subtype'].cat.reorder_categories(['Usual','Basaloid','Warty','Warty-Basaloid','Papillary','Verrucous','Sarcomatoid'], ordered=False)\n",
    "df['grade'] = df['grade'].cat.reorder_categories(['Grade 1','Grade 2','Grade 3'], ordered=True)\n",
    "df['host_response'] = df['host_response'].cat.reorder_categories(['No','Mild','Moderate','Intense'], ordered=True)\n",
    "\n",
    "# Functions for exploratory data analysis\n",
    "%run -i 'scripts.py'"
   ]
  },
  {
   "cell_type": "code",
   "execution_count": 2,
   "id": "37f95449-1ad0-43b8-b6df-07ac720e9f71",
   "metadata": {
    "outputsMetadata": {
     "0": {
      "height": 407,
      "type": "stream"
     }
    }
   },
   "outputs": [
    {
     "name": "stdout",
     "output_type": "stream",
     "text": [
      "<class 'pandas.core.frame.DataFrame'>\n",
      "Int64Index: 528 entries, 0 to 527\n",
      "Data columns (total 13 columns):\n",
      " #   Column                Non-Null Count  Dtype   \n",
      "---  ------                --------------  -----   \n",
      " 0   n                     528 non-null    int64   \n",
      " 1   sp                    528 non-null    object  \n",
      " 2   subtype               528 non-null    category\n",
      " 3   grade                 504 non-null    category\n",
      " 4   host_response         504 non-null    category\n",
      " 5   pdl1_tumor            504 non-null    float64 \n",
      " 6   pdl1_tumor_location   331 non-null    object  \n",
      " 7   pdl1_tumor_h          504 non-null    float64 \n",
      " 8   pdl1_lymph            497 non-null    float64 \n",
      " 9   cd8_intratumoral      506 non-null    float64 \n",
      " 10  cd8ki67_intratumoral  506 non-null    float64 \n",
      " 11  cd8_peritumoral       503 non-null    float64 \n",
      " 12  cd8ki67_peritumoral   501 non-null    float64 \n",
      "dtypes: category(3), float64(7), int64(1), object(2)\n",
      "memory usage: 47.6+ KB\n"
     ]
    }
   ],
   "source": [
    "df.info()"
   ]
  },
  {
   "cell_type": "code",
   "execution_count": 3,
   "id": "270a629e-1f4e-43b5-94a5-37749544df1e",
   "metadata": {
    "outputsMetadata": {
     "0": {
      "height": 193,
      "type": "dataFrame"
     }
    }
   },
   "outputs": [
    {
     "data": {
      "text/html": [
       "<div>\n",
       "<style scoped>\n",
       "    .dataframe tbody tr th:only-of-type {\n",
       "        vertical-align: middle;\n",
       "    }\n",
       "\n",
       "    .dataframe tbody tr th {\n",
       "        vertical-align: top;\n",
       "    }\n",
       "\n",
       "    .dataframe thead th {\n",
       "        text-align: right;\n",
       "    }\n",
       "</style>\n",
       "<table border=\"1\" class=\"dataframe\">\n",
       "  <thead>\n",
       "    <tr style=\"text-align: right;\">\n",
       "      <th></th>\n",
       "      <th>n</th>\n",
       "      <th>sp</th>\n",
       "      <th>subtype</th>\n",
       "      <th>grade</th>\n",
       "      <th>host_response</th>\n",
       "      <th>pdl1_tumor</th>\n",
       "      <th>pdl1_tumor_location</th>\n",
       "      <th>pdl1_tumor_h</th>\n",
       "      <th>pdl1_lymph</th>\n",
       "      <th>cd8_intratumoral</th>\n",
       "      <th>cd8ki67_intratumoral</th>\n",
       "      <th>cd8_peritumoral</th>\n",
       "      <th>cd8ki67_peritumoral</th>\n",
       "    </tr>\n",
       "  </thead>\n",
       "  <tbody>\n",
       "    <tr>\n",
       "      <th>0</th>\n",
       "      <td>0</td>\n",
       "      <td>S06-01500</td>\n",
       "      <td>Warty</td>\n",
       "      <td>Grade 3</td>\n",
       "      <td>Moderate</td>\n",
       "      <td>1.0</td>\n",
       "      <td>Cytoplasmic/Membraneous</td>\n",
       "      <td>1.0</td>\n",
       "      <td>5.0</td>\n",
       "      <td>0.0</td>\n",
       "      <td>0.0</td>\n",
       "      <td>15.0</td>\n",
       "      <td>0.0</td>\n",
       "    </tr>\n",
       "    <tr>\n",
       "      <th>1</th>\n",
       "      <td>1</td>\n",
       "      <td>S06-01500</td>\n",
       "      <td>Warty</td>\n",
       "      <td>Grade 3</td>\n",
       "      <td>Mild</td>\n",
       "      <td>30.0</td>\n",
       "      <td>Cytoplasmic/Membraneous</td>\n",
       "      <td>35.0</td>\n",
       "      <td>0.0</td>\n",
       "      <td>0.0</td>\n",
       "      <td>0.0</td>\n",
       "      <td>0.0</td>\n",
       "      <td>0.0</td>\n",
       "    </tr>\n",
       "    <tr>\n",
       "      <th>2</th>\n",
       "      <td>2</td>\n",
       "      <td>S06-01500</td>\n",
       "      <td>Warty</td>\n",
       "      <td>Grade 3</td>\n",
       "      <td>Mild</td>\n",
       "      <td>5.0</td>\n",
       "      <td>Cytoplasmic/Membraneous</td>\n",
       "      <td>5.0</td>\n",
       "      <td>5.0</td>\n",
       "      <td>0.0</td>\n",
       "      <td>0.0</td>\n",
       "      <td>0.0</td>\n",
       "      <td>0.0</td>\n",
       "    </tr>\n",
       "    <tr>\n",
       "      <th>3</th>\n",
       "      <td>3</td>\n",
       "      <td>S03-06011</td>\n",
       "      <td>Warty-Basaloid</td>\n",
       "      <td>Grade 3</td>\n",
       "      <td>Moderate</td>\n",
       "      <td>2.0</td>\n",
       "      <td>Cytoplasmic/Membraneous</td>\n",
       "      <td>2.0</td>\n",
       "      <td>6.0</td>\n",
       "      <td>37.0</td>\n",
       "      <td>0.0</td>\n",
       "      <td>33.0</td>\n",
       "      <td>0.0</td>\n",
       "    </tr>\n",
       "    <tr>\n",
       "      <th>4</th>\n",
       "      <td>4</td>\n",
       "      <td>S03-06011</td>\n",
       "      <td>Warty-Basaloid</td>\n",
       "      <td>Grade 3</td>\n",
       "      <td>Moderate</td>\n",
       "      <td>5.0</td>\n",
       "      <td>Cytoplasmic/Membraneous</td>\n",
       "      <td>5.0</td>\n",
       "      <td>2.0</td>\n",
       "      <td>24.0</td>\n",
       "      <td>0.0</td>\n",
       "      <td>50.0</td>\n",
       "      <td>0.0</td>\n",
       "    </tr>\n",
       "  </tbody>\n",
       "</table>\n",
       "</div>"
      ],
      "text/plain": [
       "   n         sp         subtype    grade host_response  pdl1_tumor  \\\n",
       "0  0  S06-01500           Warty  Grade 3      Moderate         1.0   \n",
       "1  1  S06-01500           Warty  Grade 3          Mild        30.0   \n",
       "2  2  S06-01500           Warty  Grade 3          Mild         5.0   \n",
       "3  3  S03-06011  Warty-Basaloid  Grade 3      Moderate         2.0   \n",
       "4  4  S03-06011  Warty-Basaloid  Grade 3      Moderate         5.0   \n",
       "\n",
       "       pdl1_tumor_location  pdl1_tumor_h  pdl1_lymph  cd8_intratumoral  \\\n",
       "0  Cytoplasmic/Membraneous           1.0         5.0               0.0   \n",
       "1  Cytoplasmic/Membraneous          35.0         0.0               0.0   \n",
       "2  Cytoplasmic/Membraneous           5.0         5.0               0.0   \n",
       "3  Cytoplasmic/Membraneous           2.0         6.0              37.0   \n",
       "4  Cytoplasmic/Membraneous           5.0         2.0              24.0   \n",
       "\n",
       "   cd8ki67_intratumoral  cd8_peritumoral  cd8ki67_peritumoral  \n",
       "0                   0.0             15.0                  0.0  \n",
       "1                   0.0              0.0                  0.0  \n",
       "2                   0.0              0.0                  0.0  \n",
       "3                   0.0             33.0                  0.0  \n",
       "4                   0.0             50.0                  0.0  "
      ]
     },
     "execution_count": 3,
     "metadata": {},
     "output_type": "execute_result"
    }
   ],
   "source": [
    "df.head()"
   ]
  },
  {
   "cell_type": "markdown",
   "id": "3e01d1d9-5077-4aff-adcd-5d95090c9f44",
   "metadata": {},
   "source": [
    "# Pathologic features"
   ]
  },
  {
   "cell_type": "code",
   "execution_count": 4,
   "id": "7776cb28-2c60-4a66-970d-dd5408135487",
   "metadata": {},
   "outputs": [
    {
     "data": {
      "text/plain": [
       "108"
      ]
     },
     "execution_count": 4,
     "metadata": {},
     "output_type": "execute_result"
    }
   ],
   "source": [
    "# Number of pathology cases\n",
    "df['sp'].nunique()"
   ]
  },
  {
   "cell_type": "code",
   "execution_count": 5,
   "id": "f481115b-8f82-4903-bcfc-c7d743d08e6f",
   "metadata": {},
   "outputs": [
    {
     "data": {
      "text/plain": [
       "528"
      ]
     },
     "execution_count": 5,
     "metadata": {},
     "output_type": "execute_result"
    }
   ],
   "source": [
    "# Number of TMA spots\n",
    "df.shape[0]"
   ]
  },
  {
   "cell_type": "markdown",
   "id": "a7a02ad1-d9bb-436d-93a8-f92de2916467",
   "metadata": {},
   "source": [
    "## Histologic subtype"
   ]
  },
  {
   "cell_type": "code",
   "execution_count": 6,
   "id": "5057dac1-e32c-4609-9192-f536903ee30e",
   "metadata": {
    "outputsMetadata": {
     "0": {
      "height": 242,
      "type": "dataFrame"
     }
    }
   },
   "outputs": [
    {
     "data": {
      "text/html": [
       "<div>\n",
       "<style scoped>\n",
       "    .dataframe tbody tr th:only-of-type {\n",
       "        vertical-align: middle;\n",
       "    }\n",
       "\n",
       "    .dataframe tbody tr th {\n",
       "        vertical-align: top;\n",
       "    }\n",
       "\n",
       "    .dataframe thead th {\n",
       "        text-align: right;\n",
       "    }\n",
       "</style>\n",
       "<table border=\"1\" class=\"dataframe\">\n",
       "  <thead>\n",
       "    <tr style=\"text-align: right;\">\n",
       "      <th></th>\n",
       "      <th>sp</th>\n",
       "    </tr>\n",
       "    <tr>\n",
       "      <th>subtype</th>\n",
       "      <th></th>\n",
       "    </tr>\n",
       "  </thead>\n",
       "  <tbody>\n",
       "    <tr>\n",
       "      <th>Usual</th>\n",
       "      <td>45</td>\n",
       "    </tr>\n",
       "    <tr>\n",
       "      <th>Warty-Basaloid</th>\n",
       "      <td>24</td>\n",
       "    </tr>\n",
       "    <tr>\n",
       "      <th>Warty</th>\n",
       "      <td>16</td>\n",
       "    </tr>\n",
       "    <tr>\n",
       "      <th>Basaloid</th>\n",
       "      <td>11</td>\n",
       "    </tr>\n",
       "    <tr>\n",
       "      <th>Papillary</th>\n",
       "      <td>9</td>\n",
       "    </tr>\n",
       "    <tr>\n",
       "      <th>Verrucous</th>\n",
       "      <td>2</td>\n",
       "    </tr>\n",
       "    <tr>\n",
       "      <th>Sarcomatoid</th>\n",
       "      <td>1</td>\n",
       "    </tr>\n",
       "  </tbody>\n",
       "</table>\n",
       "</div>"
      ],
      "text/plain": [
       "                sp\n",
       "subtype           \n",
       "Usual           45\n",
       "Warty-Basaloid  24\n",
       "Warty           16\n",
       "Basaloid        11\n",
       "Papillary        9\n",
       "Verrucous        2\n",
       "Sarcomatoid      1"
      ]
     },
     "execution_count": 6,
     "metadata": {},
     "output_type": "execute_result"
    }
   ],
   "source": [
    "df.groupby('subtype')['sp'].nunique().sort_values(ascending=False).to_frame()"
   ]
  },
  {
   "cell_type": "markdown",
   "id": "b9741348-c526-4e81-83ca-1227c50fe6f1",
   "metadata": {},
   "source": [
    "## Histologic grade"
   ]
  },
  {
   "cell_type": "code",
   "execution_count": 7,
   "id": "0d8508b3-e752-47bb-a7ce-9bb246ac40e5",
   "metadata": {
    "outputsMetadata": {
     "0": {
      "height": 144,
      "type": "dataFrame"
     }
    }
   },
   "outputs": [
    {
     "data": {
      "text/html": [
       "<div>\n",
       "<style scoped>\n",
       "    .dataframe tbody tr th:only-of-type {\n",
       "        vertical-align: middle;\n",
       "    }\n",
       "\n",
       "    .dataframe tbody tr th {\n",
       "        vertical-align: top;\n",
       "    }\n",
       "\n",
       "    .dataframe thead th {\n",
       "        text-align: right;\n",
       "    }\n",
       "</style>\n",
       "<table border=\"1\" class=\"dataframe\">\n",
       "  <thead>\n",
       "    <tr style=\"text-align: right;\">\n",
       "      <th></th>\n",
       "      <th>grade</th>\n",
       "    </tr>\n",
       "  </thead>\n",
       "  <tbody>\n",
       "    <tr>\n",
       "      <th>Grade 1</th>\n",
       "      <td>51</td>\n",
       "    </tr>\n",
       "    <tr>\n",
       "      <th>Grade 2</th>\n",
       "      <td>191</td>\n",
       "    </tr>\n",
       "    <tr>\n",
       "      <th>Grade 3</th>\n",
       "      <td>262</td>\n",
       "    </tr>\n",
       "  </tbody>\n",
       "</table>\n",
       "</div>"
      ],
      "text/plain": [
       "         grade\n",
       "Grade 1     51\n",
       "Grade 2    191\n",
       "Grade 3    262"
      ]
     },
     "execution_count": 7,
     "metadata": {},
     "output_type": "execute_result"
    }
   ],
   "source": [
    "df['grade'].value_counts(sort=False).to_frame()"
   ]
  },
  {
   "cell_type": "markdown",
   "id": "8912e67b-454e-4081-be2d-4be61daf0cf8",
   "metadata": {},
   "source": [
    "## Host response"
   ]
  },
  {
   "cell_type": "code",
   "execution_count": 8,
   "id": "43cba4dc-6435-43dd-88dc-8e2d3607de57",
   "metadata": {
    "outputsMetadata": {
     "0": {
      "height": 168,
      "type": "dataFrame"
     }
    }
   },
   "outputs": [
    {
     "data": {
      "text/html": [
       "<div>\n",
       "<style scoped>\n",
       "    .dataframe tbody tr th:only-of-type {\n",
       "        vertical-align: middle;\n",
       "    }\n",
       "\n",
       "    .dataframe tbody tr th {\n",
       "        vertical-align: top;\n",
       "    }\n",
       "\n",
       "    .dataframe thead th {\n",
       "        text-align: right;\n",
       "    }\n",
       "</style>\n",
       "<table border=\"1\" class=\"dataframe\">\n",
       "  <thead>\n",
       "    <tr style=\"text-align: right;\">\n",
       "      <th></th>\n",
       "      <th>host_response</th>\n",
       "    </tr>\n",
       "  </thead>\n",
       "  <tbody>\n",
       "    <tr>\n",
       "      <th>No</th>\n",
       "      <td>4</td>\n",
       "    </tr>\n",
       "    <tr>\n",
       "      <th>Mild</th>\n",
       "      <td>96</td>\n",
       "    </tr>\n",
       "    <tr>\n",
       "      <th>Moderate</th>\n",
       "      <td>154</td>\n",
       "    </tr>\n",
       "    <tr>\n",
       "      <th>Intense</th>\n",
       "      <td>250</td>\n",
       "    </tr>\n",
       "  </tbody>\n",
       "</table>\n",
       "</div>"
      ],
      "text/plain": [
       "          host_response\n",
       "No                    4\n",
       "Mild                 96\n",
       "Moderate            154\n",
       "Intense             250"
      ]
     },
     "execution_count": 8,
     "metadata": {},
     "output_type": "execute_result"
    }
   ],
   "source": [
    "df['host_response'].value_counts(sort=False).to_frame()"
   ]
  },
  {
   "cell_type": "markdown",
   "id": "0e3e8531-8c9e-4b15-ab65-5a765b567972",
   "metadata": {},
   "source": [
    "# Association between pathologic features"
   ]
  },
  {
   "cell_type": "markdown",
   "id": "c0dd3653-3dff-45d6-938f-e8a4ff359ece",
   "metadata": {},
   "source": [
    "## Histologic subtype and histologic grade"
   ]
  },
  {
   "cell_type": "code",
   "execution_count": 9,
   "id": "cf5fccca-4c22-4263-ab60-46e93e9fa81a",
   "metadata": {
    "outputsMetadata": {
     "0": {
      "height": 242,
      "type": "dataFrame"
     }
    }
   },
   "outputs": [
    {
     "data": {
      "text/html": [
       "<div>\n",
       "<style scoped>\n",
       "    .dataframe tbody tr th:only-of-type {\n",
       "        vertical-align: middle;\n",
       "    }\n",
       "\n",
       "    .dataframe tbody tr th {\n",
       "        vertical-align: top;\n",
       "    }\n",
       "\n",
       "    .dataframe thead th {\n",
       "        text-align: right;\n",
       "    }\n",
       "</style>\n",
       "<table border=\"1\" class=\"dataframe\">\n",
       "  <thead>\n",
       "    <tr style=\"text-align: right;\">\n",
       "      <th>grade</th>\n",
       "      <th>Grade 1</th>\n",
       "      <th>Grade 2</th>\n",
       "      <th>Grade 3</th>\n",
       "    </tr>\n",
       "    <tr>\n",
       "      <th>subtype</th>\n",
       "      <th></th>\n",
       "      <th></th>\n",
       "      <th></th>\n",
       "    </tr>\n",
       "  </thead>\n",
       "  <tbody>\n",
       "    <tr>\n",
       "      <th>Usual</th>\n",
       "      <td>34</td>\n",
       "      <td>103</td>\n",
       "      <td>57</td>\n",
       "    </tr>\n",
       "    <tr>\n",
       "      <th>Basaloid</th>\n",
       "      <td>0</td>\n",
       "      <td>0</td>\n",
       "      <td>64</td>\n",
       "    </tr>\n",
       "    <tr>\n",
       "      <th>Warty</th>\n",
       "      <td>1</td>\n",
       "      <td>30</td>\n",
       "      <td>45</td>\n",
       "    </tr>\n",
       "    <tr>\n",
       "      <th>Warty-Basaloid</th>\n",
       "      <td>0</td>\n",
       "      <td>28</td>\n",
       "      <td>92</td>\n",
       "    </tr>\n",
       "    <tr>\n",
       "      <th>Papillary</th>\n",
       "      <td>13</td>\n",
       "      <td>26</td>\n",
       "      <td>1</td>\n",
       "    </tr>\n",
       "    <tr>\n",
       "      <th>Verrucous</th>\n",
       "      <td>3</td>\n",
       "      <td>4</td>\n",
       "      <td>0</td>\n",
       "    </tr>\n",
       "    <tr>\n",
       "      <th>Sarcomatoid</th>\n",
       "      <td>0</td>\n",
       "      <td>0</td>\n",
       "      <td>3</td>\n",
       "    </tr>\n",
       "  </tbody>\n",
       "</table>\n",
       "</div>"
      ],
      "text/plain": [
       "grade           Grade 1  Grade 2  Grade 3\n",
       "subtype                                  \n",
       "Usual                34      103       57\n",
       "Basaloid              0        0       64\n",
       "Warty                 1       30       45\n",
       "Warty-Basaloid        0       28       92\n",
       "Papillary            13       26        1\n",
       "Verrucous             3        4        0\n",
       "Sarcomatoid           0        0        3"
      ]
     },
     "execution_count": 9,
     "metadata": {},
     "output_type": "execute_result"
    }
   ],
   "source": [
    "# Pivot table of subtype by grade\n",
    "create_pivot('subtype','grade')"
   ]
  },
  {
   "cell_type": "code",
   "execution_count": 10,
   "id": "73723f79-b5b4-45c7-9510-5065e384eaad",
   "metadata": {},
   "outputs": [
    {
     "data": {
      "image/png": "[encoded data removed]",
      "text/plain": [
       "<Figure size 864x576 with 1 Axes>"
      ]
     },
     "metadata": {},
     "output_type": "display_data"
    }
   ],
   "source": [
    "# Barplot of subtype by grade\n",
    "plot_bar('subtype','grade')\n",
    "plt.legend(loc='upper right')\n",
    "plt.show()"
   ]
  },
  {
   "cell_type": "code",
   "execution_count": 11,
   "id": "b48cc610-b8ce-4591-9c34-2f076516616c",
   "metadata": {
    "outputsMetadata": {
     "0": {
      "height": 76,
      "type": "stream"
     }
    }
   },
   "outputs": [
    {
     "name": "stdout",
     "output_type": "stream",
     "text": [
      "Chi2 statistic: 200.979\n",
      "Degrees of freedom: 12\n",
      "P value: 2.04809e-36\n"
     ]
    }
   ],
   "source": [
    "# Association between subtype and grade\n",
    "do_chi2('subtype','grade')"
   ]
  },
  {
   "cell_type": "markdown",
   "id": "d0810367-a5e9-4e52-8434-3fb9b51bf75b",
   "metadata": {},
   "source": [
    "## Histologic subtype and host response"
   ]
  },
  {
   "cell_type": "code",
   "execution_count": 12,
   "id": "98911561-c345-4be9-a2a3-70875512e057",
   "metadata": {
    "outputsMetadata": {
     "0": {
      "height": 242,
      "type": "dataFrame"
     }
    }
   },
   "outputs": [
    {
     "data": {
      "text/html": [
       "<div>\n",
       "<style scoped>\n",
       "    .dataframe tbody tr th:only-of-type {\n",
       "        vertical-align: middle;\n",
       "    }\n",
       "\n",
       "    .dataframe tbody tr th {\n",
       "        vertical-align: top;\n",
       "    }\n",
       "\n",
       "    .dataframe thead th {\n",
       "        text-align: right;\n",
       "    }\n",
       "</style>\n",
       "<table border=\"1\" class=\"dataframe\">\n",
       "  <thead>\n",
       "    <tr style=\"text-align: right;\">\n",
       "      <th>host_response</th>\n",
       "      <th>No</th>\n",
       "      <th>Mild</th>\n",
       "      <th>Moderate</th>\n",
       "      <th>Intense</th>\n",
       "    </tr>\n",
       "    <tr>\n",
       "      <th>subtype</th>\n",
       "      <th></th>\n",
       "      <th></th>\n",
       "      <th></th>\n",
       "      <th></th>\n",
       "    </tr>\n",
       "  </thead>\n",
       "  <tbody>\n",
       "    <tr>\n",
       "      <th>Usual</th>\n",
       "      <td>0</td>\n",
       "      <td>36</td>\n",
       "      <td>61</td>\n",
       "      <td>95</td>\n",
       "    </tr>\n",
       "    <tr>\n",
       "      <th>Basaloid</th>\n",
       "      <td>1</td>\n",
       "      <td>12</td>\n",
       "      <td>17</td>\n",
       "      <td>34</td>\n",
       "    </tr>\n",
       "    <tr>\n",
       "      <th>Warty</th>\n",
       "      <td>1</td>\n",
       "      <td>14</td>\n",
       "      <td>21</td>\n",
       "      <td>41</td>\n",
       "    </tr>\n",
       "    <tr>\n",
       "      <th>Warty-Basaloid</th>\n",
       "      <td>1</td>\n",
       "      <td>22</td>\n",
       "      <td>41</td>\n",
       "      <td>57</td>\n",
       "    </tr>\n",
       "    <tr>\n",
       "      <th>Papillary</th>\n",
       "      <td>1</td>\n",
       "      <td>7</td>\n",
       "      <td>14</td>\n",
       "      <td>18</td>\n",
       "    </tr>\n",
       "    <tr>\n",
       "      <th>Verrucous</th>\n",
       "      <td>0</td>\n",
       "      <td>5</td>\n",
       "      <td>0</td>\n",
       "      <td>2</td>\n",
       "    </tr>\n",
       "    <tr>\n",
       "      <th>Sarcomatoid</th>\n",
       "      <td>0</td>\n",
       "      <td>0</td>\n",
       "      <td>0</td>\n",
       "      <td>3</td>\n",
       "    </tr>\n",
       "  </tbody>\n",
       "</table>\n",
       "</div>"
      ],
      "text/plain": [
       "host_response   No  Mild  Moderate  Intense\n",
       "subtype                                    \n",
       "Usual            0    36        61       95\n",
       "Basaloid         1    12        17       34\n",
       "Warty            1    14        21       41\n",
       "Warty-Basaloid   1    22        41       57\n",
       "Papillary        1     7        14       18\n",
       "Verrucous        0     5         0        2\n",
       "Sarcomatoid      0     0         0        3"
      ]
     },
     "execution_count": 12,
     "metadata": {},
     "output_type": "execute_result"
    }
   ],
   "source": [
    "# Pivot table of subtype by host response\n",
    "create_pivot('subtype','host_response')"
   ]
  },
  {
   "cell_type": "code",
   "execution_count": 13,
   "id": "adedacae-8d51-4895-a96d-412050760b93",
   "metadata": {},
   "outputs": [
    {
     "data": {
      "image/png": "[encoded data removed]",
      "text/plain": [
       "<Figure size 864x576 with 1 Axes>"
      ]
     },
     "metadata": {},
     "output_type": "display_data"
    }
   ],
   "source": [
    "# barplot of subtype by host response\n",
    "plot_bar('subtype','host_response')"
   ]
  },
  {
   "cell_type": "code",
   "execution_count": 14,
   "id": "7866cd2a-4a92-4052-b7d8-688f9a405664",
   "metadata": {
    "outputsMetadata": {
     "0": {
      "height": 76,
      "type": "stream"
     }
    }
   },
   "outputs": [
    {
     "name": "stdout",
     "output_type": "stream",
     "text": [
      "Chi2 statistic: 21.8924\n",
      "Degrees of freedom: 18\n",
      "P value: 0.236796\n"
     ]
    }
   ],
   "source": [
    "# Association between subtype and host response\n",
    "do_chi2('subtype','host_response')"
   ]
  },
  {
   "cell_type": "markdown",
   "id": "4cba465b-7c6d-4134-b197-d6f6f43a9e5c",
   "metadata": {},
   "source": [
    "## Histologic grade and host response"
   ]
  },
  {
   "cell_type": "code",
   "execution_count": 15,
   "id": "cac72e2d-58f2-48b7-9b25-dd64c592c7a1",
   "metadata": {
    "outputsMetadata": {
     "0": {
      "height": 144,
      "type": "dataFrame"
     }
    }
   },
   "outputs": [
    {
     "data": {
      "text/html": [
       "<div>\n",
       "<style scoped>\n",
       "    .dataframe tbody tr th:only-of-type {\n",
       "        vertical-align: middle;\n",
       "    }\n",
       "\n",
       "    .dataframe tbody tr th {\n",
       "        vertical-align: top;\n",
       "    }\n",
       "\n",
       "    .dataframe thead th {\n",
       "        text-align: right;\n",
       "    }\n",
       "</style>\n",
       "<table border=\"1\" class=\"dataframe\">\n",
       "  <thead>\n",
       "    <tr style=\"text-align: right;\">\n",
       "      <th>host_response</th>\n",
       "      <th>No</th>\n",
       "      <th>Mild</th>\n",
       "      <th>Moderate</th>\n",
       "      <th>Intense</th>\n",
       "    </tr>\n",
       "    <tr>\n",
       "      <th>grade</th>\n",
       "      <th></th>\n",
       "      <th></th>\n",
       "      <th></th>\n",
       "      <th></th>\n",
       "    </tr>\n",
       "  </thead>\n",
       "  <tbody>\n",
       "    <tr>\n",
       "      <th>Grade 1</th>\n",
       "      <td>1</td>\n",
       "      <td>15</td>\n",
       "      <td>18</td>\n",
       "      <td>17</td>\n",
       "    </tr>\n",
       "    <tr>\n",
       "      <th>Grade 2</th>\n",
       "      <td>1</td>\n",
       "      <td>36</td>\n",
       "      <td>59</td>\n",
       "      <td>93</td>\n",
       "    </tr>\n",
       "    <tr>\n",
       "      <th>Grade 3</th>\n",
       "      <td>2</td>\n",
       "      <td>45</td>\n",
       "      <td>74</td>\n",
       "      <td>137</td>\n",
       "    </tr>\n",
       "  </tbody>\n",
       "</table>\n",
       "</div>"
      ],
      "text/plain": [
       "host_response  No  Mild  Moderate  Intense\n",
       "grade                                     \n",
       "Grade 1         1    15        18       17\n",
       "Grade 2         1    36        59       93\n",
       "Grade 3         2    45        74      137"
      ]
     },
     "execution_count": 15,
     "metadata": {},
     "output_type": "execute_result"
    }
   ],
   "source": [
    "# Pivot table pf grade by host response\n",
    "create_pivot('grade','host_response')"
   ]
  },
  {
   "cell_type": "code",
   "execution_count": 16,
   "id": "65410874-e1bd-48c0-845c-ed8624280363",
   "metadata": {},
   "outputs": [
    {
     "data": {
      "image/png": "[encoded data removed]",
      "text/plain": [
       "<Figure size 864x576 with 1 Axes>"
      ]
     },
     "metadata": {},
     "output_type": "display_data"
    }
   ],
   "source": [
    "# Barplot of grade by host response\n",
    "plot_bar('grade','host_response')"
   ]
  },
  {
   "cell_type": "code",
   "execution_count": 17,
   "id": "80e1ceeb-c746-4912-a0b8-c793124db33e",
   "metadata": {
    "outputsMetadata": {
     "0": {
      "height": 76,
      "type": "stream"
     }
    }
   },
   "outputs": [
    {
     "name": "stdout",
     "output_type": "stream",
     "text": [
      "Chi2 statistic: 8.26221\n",
      "Degrees of freedom: 6\n",
      "P value: 0.219515\n"
     ]
    }
   ],
   "source": [
    "# Association between grade and host response\n",
    "do_chi2('grade','host_response')"
   ]
  },
  {
   "cell_type": "markdown",
   "id": "3a60c67e-2006-40f5-b197-ecabd2631450",
   "metadata": {
    "tags": []
   },
   "source": [
    "# PD-L1 expression\n",
    "PD-L1 expression was measured in tumor cells (percentage of positive cells and H-score) and in intratumoral lymphocytes (number of positive cells)."
   ]
  },
  {
   "cell_type": "markdown",
   "id": "cece1933-8f16-47a9-9f6d-a567625a7057",
   "metadata": {
    "tags": []
   },
   "source": [
    "## Overall expression"
   ]
  },
  {
   "cell_type": "markdown",
   "id": "ec80b4fa-5db1-41ae-9b97-ed36c1d2485a",
   "metadata": {},
   "source": [
    "### Tumor cells (%)"
   ]
  },
  {
   "cell_type": "code",
   "execution_count": 18,
   "id": "89dd70fd-8262-4414-b44e-027bab7b585b",
   "metadata": {
    "outputsMetadata": {
     "0": {
      "height": 266,
      "type": "dataFrame"
     }
    }
   },
   "outputs": [
    {
     "data": {
      "text/html": [
       "<div>\n",
       "<style scoped>\n",
       "    .dataframe tbody tr th:only-of-type {\n",
       "        vertical-align: middle;\n",
       "    }\n",
       "\n",
       "    .dataframe tbody tr th {\n",
       "        vertical-align: top;\n",
       "    }\n",
       "\n",
       "    .dataframe thead th {\n",
       "        text-align: right;\n",
       "    }\n",
       "</style>\n",
       "<table border=\"1\" class=\"dataframe\">\n",
       "  <thead>\n",
       "    <tr style=\"text-align: right;\">\n",
       "      <th></th>\n",
       "      <th>pdl1_tumor</th>\n",
       "    </tr>\n",
       "  </thead>\n",
       "  <tbody>\n",
       "    <tr>\n",
       "      <th>count</th>\n",
       "      <td>504.0</td>\n",
       "    </tr>\n",
       "    <tr>\n",
       "      <th>mean</th>\n",
       "      <td>26.0</td>\n",
       "    </tr>\n",
       "    <tr>\n",
       "      <th>std</th>\n",
       "      <td>34.0</td>\n",
       "    </tr>\n",
       "    <tr>\n",
       "      <th>min</th>\n",
       "      <td>0.0</td>\n",
       "    </tr>\n",
       "    <tr>\n",
       "      <th>25%</th>\n",
       "      <td>0.0</td>\n",
       "    </tr>\n",
       "    <tr>\n",
       "      <th>50%</th>\n",
       "      <td>5.0</td>\n",
       "    </tr>\n",
       "    <tr>\n",
       "      <th>75%</th>\n",
       "      <td>40.0</td>\n",
       "    </tr>\n",
       "    <tr>\n",
       "      <th>max</th>\n",
       "      <td>100.0</td>\n",
       "    </tr>\n",
       "  </tbody>\n",
       "</table>\n",
       "</div>"
      ],
      "text/plain": [
       "       pdl1_tumor\n",
       "count       504.0\n",
       "mean         26.0\n",
       "std          34.0\n",
       "min           0.0\n",
       "25%           0.0\n",
       "50%           5.0\n",
       "75%          40.0\n",
       "max         100.0"
      ]
     },
     "execution_count": 18,
     "metadata": {},
     "output_type": "execute_result"
    }
   ],
   "source": [
    "create_descriptive('pdl1_tumor')"
   ]
  },
  {
   "cell_type": "code",
   "execution_count": 19,
   "id": "a0478f98-1a42-4271-baf0-46e58a473fa5",
   "metadata": {},
   "outputs": [
    {
     "data": {
      "image/png": "[encoded data removed]",
      "text/plain": [
       "<Figure size 360x360 with 1 Axes>"
      ]
     },
     "metadata": {},
     "output_type": "display_data"
    }
   ],
   "source": [
    "plot_kde('pdl1_tumor')"
   ]
  },
  {
   "cell_type": "code",
   "execution_count": 20,
   "id": "fa5770d4-aaa0-475a-9582-de9c46ca6e49",
   "metadata": {
    "outputsMetadata": {
     "0": {
      "height": 119,
      "type": "dataFrame"
     }
    }
   },
   "outputs": [
    {
     "data": {
      "text/html": [
       "<div>\n",
       "<style scoped>\n",
       "    .dataframe tbody tr th:only-of-type {\n",
       "        vertical-align: middle;\n",
       "    }\n",
       "\n",
       "    .dataframe tbody tr th {\n",
       "        vertical-align: top;\n",
       "    }\n",
       "\n",
       "    .dataframe thead th {\n",
       "        text-align: right;\n",
       "    }\n",
       "</style>\n",
       "<table border=\"1\" class=\"dataframe\">\n",
       "  <thead>\n",
       "    <tr style=\"text-align: right;\">\n",
       "      <th></th>\n",
       "      <th>pdl1_tumor</th>\n",
       "    </tr>\n",
       "  </thead>\n",
       "  <tbody>\n",
       "    <tr>\n",
       "      <th>Positive</th>\n",
       "      <td>0.626894</td>\n",
       "    </tr>\n",
       "    <tr>\n",
       "      <th>Negative</th>\n",
       "      <td>0.373106</td>\n",
       "    </tr>\n",
       "  </tbody>\n",
       "</table>\n",
       "</div>"
      ],
      "text/plain": [
       "          pdl1_tumor\n",
       "Positive    0.626894\n",
       "Negative    0.373106"
      ]
     },
     "execution_count": 20,
     "metadata": {},
     "output_type": "execute_result"
    }
   ],
   "source": [
    "pdl1_tumor_pos1 = df['pdl1_tumor'].apply(lambda x: 'Positive' if x > 0 else 'Negative')\n",
    "pdl1_tumor_pos1.value_counts(normalize=True).to_frame()"
   ]
  },
  {
   "cell_type": "code",
   "execution_count": 21,
   "id": "51ac7a36-57fb-4fea-abc4-22dc541a1961",
   "metadata": {
    "outputsMetadata": {
     "0": {
      "height": 119,
      "type": "dataFrame"
     }
    }
   },
   "outputs": [
    {
     "data": {
      "text/html": [
       "<div>\n",
       "<style scoped>\n",
       "    .dataframe tbody tr th:only-of-type {\n",
       "        vertical-align: middle;\n",
       "    }\n",
       "\n",
       "    .dataframe tbody tr th {\n",
       "        vertical-align: top;\n",
       "    }\n",
       "\n",
       "    .dataframe thead th {\n",
       "        text-align: right;\n",
       "    }\n",
       "</style>\n",
       "<table border=\"1\" class=\"dataframe\">\n",
       "  <thead>\n",
       "    <tr style=\"text-align: right;\">\n",
       "      <th></th>\n",
       "      <th>pdl1_tumor_location</th>\n",
       "    </tr>\n",
       "  </thead>\n",
       "  <tbody>\n",
       "    <tr>\n",
       "      <th>Cytoplasmic/Membraneous</th>\n",
       "      <td>0.755287</td>\n",
       "    </tr>\n",
       "    <tr>\n",
       "      <th>Cytplasmic</th>\n",
       "      <td>0.244713</td>\n",
       "    </tr>\n",
       "  </tbody>\n",
       "</table>\n",
       "</div>"
      ],
      "text/plain": [
       "                         pdl1_tumor_location\n",
       "Cytoplasmic/Membraneous             0.755287\n",
       "Cytplasmic                          0.244713"
      ]
     },
     "execution_count": 21,
     "metadata": {},
     "output_type": "execute_result"
    }
   ],
   "source": [
    "df['pdl1_tumor_location'].value_counts(normalize=True).to_frame()"
   ]
  },
  {
   "cell_type": "markdown",
   "id": "0f054225-5186-4e06-9c63-256c54709545",
   "metadata": {},
   "source": [
    "### Intratumoral lymphocytes"
   ]
  },
  {
   "cell_type": "code",
   "execution_count": 22,
   "id": "af48b9e0-efa6-4dcc-811f-153cdfa45704",
   "metadata": {
    "outputsMetadata": {
     "0": {
      "height": 266,
      "type": "dataFrame"
     }
    }
   },
   "outputs": [
    {
     "data": {
      "text/html": [
       "<div>\n",
       "<style scoped>\n",
       "    .dataframe tbody tr th:only-of-type {\n",
       "        vertical-align: middle;\n",
       "    }\n",
       "\n",
       "    .dataframe tbody tr th {\n",
       "        vertical-align: top;\n",
       "    }\n",
       "\n",
       "    .dataframe thead th {\n",
       "        text-align: right;\n",
       "    }\n",
       "</style>\n",
       "<table border=\"1\" class=\"dataframe\">\n",
       "  <thead>\n",
       "    <tr style=\"text-align: right;\">\n",
       "      <th></th>\n",
       "      <th>pdl1_lymph</th>\n",
       "    </tr>\n",
       "  </thead>\n",
       "  <tbody>\n",
       "    <tr>\n",
       "      <th>count</th>\n",
       "      <td>497.0</td>\n",
       "    </tr>\n",
       "    <tr>\n",
       "      <th>mean</th>\n",
       "      <td>7.0</td>\n",
       "    </tr>\n",
       "    <tr>\n",
       "      <th>std</th>\n",
       "      <td>10.0</td>\n",
       "    </tr>\n",
       "    <tr>\n",
       "      <th>min</th>\n",
       "      <td>0.0</td>\n",
       "    </tr>\n",
       "    <tr>\n",
       "      <th>25%</th>\n",
       "      <td>1.0</td>\n",
       "    </tr>\n",
       "    <tr>\n",
       "      <th>50%</th>\n",
       "      <td>5.0</td>\n",
       "    </tr>\n",
       "    <tr>\n",
       "      <th>75%</th>\n",
       "      <td>10.0</td>\n",
       "    </tr>\n",
       "    <tr>\n",
       "      <th>max</th>\n",
       "      <td>70.0</td>\n",
       "    </tr>\n",
       "  </tbody>\n",
       "</table>\n",
       "</div>"
      ],
      "text/plain": [
       "       pdl1_lymph\n",
       "count       497.0\n",
       "mean          7.0\n",
       "std          10.0\n",
       "min           0.0\n",
       "25%           1.0\n",
       "50%           5.0\n",
       "75%          10.0\n",
       "max          70.0"
      ]
     },
     "execution_count": 22,
     "metadata": {},
     "output_type": "execute_result"
    }
   ],
   "source": [
    "create_descriptive('pdl1_lymph')"
   ]
  },
  {
   "cell_type": "code",
   "execution_count": 23,
   "id": "b9863fb6-75c8-45c2-8dff-e30bbf31191a",
   "metadata": {},
   "outputs": [
    {
     "data": {
      "image/png": "[encoded data removed]",
      "text/plain": [
       "<Figure size 360x360 with 1 Axes>"
      ]
     },
     "metadata": {},
     "output_type": "display_data"
    }
   ],
   "source": [
    "plot_kde('pdl1_lymph')"
   ]
  },
  {
   "cell_type": "markdown",
   "id": "6e19e0aa-0e63-4100-9854-1e48971a3bab",
   "metadata": {},
   "source": [
    "### Tumor cells vs intratumoral lymphocytes"
   ]
  },
  {
   "cell_type": "code",
   "execution_count": 24,
   "id": "91f22992-5abf-44c3-b869-229120b4d132",
   "metadata": {},
   "outputs": [
    {
     "data": {
      "image/png": "[encoded data removed]",
      "text/plain": [
       "<Figure size 864x576 with 1 Axes>"
      ]
     },
     "metadata": {},
     "output_type": "display_data"
    }
   ],
   "source": [
    "sns.regplot(data=df, x='pdl1_tumor', y='pdl1_lymph')\n",
    "plt.show()"
   ]
  },
  {
   "cell_type": "code",
   "execution_count": 25,
   "id": "1365dbd5-5880-45cc-92f6-84cf2c16d519",
   "metadata": {
    "outputsMetadata": {
     "0": {
      "height": 119,
      "type": "dataFrame"
     }
    }
   },
   "outputs": [
    {
     "data": {
      "text/html": [
       "<div>\n",
       "<style scoped>\n",
       "    .dataframe tbody tr th:only-of-type {\n",
       "        vertical-align: middle;\n",
       "    }\n",
       "\n",
       "    .dataframe tbody tr th {\n",
       "        vertical-align: top;\n",
       "    }\n",
       "\n",
       "    .dataframe thead th {\n",
       "        text-align: right;\n",
       "    }\n",
       "</style>\n",
       "<table border=\"1\" class=\"dataframe\">\n",
       "  <thead>\n",
       "    <tr style=\"text-align: right;\">\n",
       "      <th></th>\n",
       "      <th>pdl1_tumor</th>\n",
       "      <th>pdl1_lymph</th>\n",
       "    </tr>\n",
       "  </thead>\n",
       "  <tbody>\n",
       "    <tr>\n",
       "      <th>pdl1_tumor</th>\n",
       "      <td>0.47</td>\n",
       "      <td>0.47</td>\n",
       "    </tr>\n",
       "    <tr>\n",
       "      <th>pdl1_lymph</th>\n",
       "      <td>0.47</td>\n",
       "      <td>0.47</td>\n",
       "    </tr>\n",
       "  </tbody>\n",
       "</table>\n",
       "</div>"
      ],
      "text/plain": [
       "            pdl1_tumor  pdl1_lymph\n",
       "pdl1_tumor        0.47        0.47\n",
       "pdl1_lymph        0.47        0.47"
      ]
     },
     "execution_count": 25,
     "metadata": {},
     "output_type": "execute_result"
    }
   ],
   "source": [
    "do_spearman_rho(['pdl1_tumor','pdl1_lymph'])"
   ]
  },
  {
   "cell_type": "code",
   "execution_count": 26,
   "id": "44ce57ca-09ff-4ed0-a3be-a5204ca0d9d9",
   "metadata": {
    "outputsMetadata": {
     "0": {
      "height": 119,
      "type": "dataFrame"
     }
    }
   },
   "outputs": [
    {
     "data": {
      "text/html": [
       "<div>\n",
       "<style scoped>\n",
       "    .dataframe tbody tr th:only-of-type {\n",
       "        vertical-align: middle;\n",
       "    }\n",
       "\n",
       "    .dataframe tbody tr th {\n",
       "        vertical-align: top;\n",
       "    }\n",
       "\n",
       "    .dataframe thead th {\n",
       "        text-align: right;\n",
       "    }\n",
       "</style>\n",
       "<table border=\"1\" class=\"dataframe\">\n",
       "  <thead>\n",
       "    <tr style=\"text-align: right;\">\n",
       "      <th></th>\n",
       "      <th>pdl1_tumor</th>\n",
       "      <th>pdl1_lymph</th>\n",
       "    </tr>\n",
       "  </thead>\n",
       "  <tbody>\n",
       "    <tr>\n",
       "      <th>pdl1_tumor</th>\n",
       "      <td>2.545391e-29</td>\n",
       "      <td>2.545391e-29</td>\n",
       "    </tr>\n",
       "    <tr>\n",
       "      <th>pdl1_lymph</th>\n",
       "      <td>2.545391e-29</td>\n",
       "      <td>2.545391e-29</td>\n",
       "    </tr>\n",
       "  </tbody>\n",
       "</table>\n",
       "</div>"
      ],
      "text/plain": [
       "              pdl1_tumor    pdl1_lymph\n",
       "pdl1_tumor  2.545391e-29  2.545391e-29\n",
       "pdl1_lymph  2.545391e-29  2.545391e-29"
      ]
     },
     "execution_count": 26,
     "metadata": {},
     "output_type": "execute_result"
    }
   ],
   "source": [
    "do_spearman_p(['pdl1_tumor','pdl1_lymph'])"
   ]
  },
  {
   "cell_type": "markdown",
   "id": "84037615-734a-4b55-9f42-233aba4b480f",
   "metadata": {},
   "source": [
    "## By pathologic features"
   ]
  },
  {
   "cell_type": "markdown",
   "id": "aaeb2abb-87a7-4870-adcb-f3c3e637f50a",
   "metadata": {},
   "source": [
    "### Histologic subtype"
   ]
  },
  {
   "cell_type": "code",
   "execution_count": 27,
   "id": "1299f934-df66-433e-943d-86848ecbe220",
   "metadata": {
    "outputsMetadata": {
     "0": {
      "height": 242,
      "type": "dataFrame"
     }
    }
   },
   "outputs": [
    {
     "data": {
      "text/html": [
       "<div>\n",
       "<style scoped>\n",
       "    .dataframe tbody tr th:only-of-type {\n",
       "        vertical-align: middle;\n",
       "    }\n",
       "\n",
       "    .dataframe tbody tr th {\n",
       "        vertical-align: top;\n",
       "    }\n",
       "\n",
       "    .dataframe thead th {\n",
       "        text-align: right;\n",
       "    }\n",
       "</style>\n",
       "<table border=\"1\" class=\"dataframe\">\n",
       "  <thead>\n",
       "    <tr style=\"text-align: right;\">\n",
       "      <th></th>\n",
       "      <th>count</th>\n",
       "      <th>mean</th>\n",
       "      <th>std</th>\n",
       "      <th>min</th>\n",
       "      <th>25%</th>\n",
       "      <th>50%</th>\n",
       "      <th>75%</th>\n",
       "      <th>max</th>\n",
       "    </tr>\n",
       "    <tr>\n",
       "      <th>subtype</th>\n",
       "      <th></th>\n",
       "      <th></th>\n",
       "      <th></th>\n",
       "      <th></th>\n",
       "      <th></th>\n",
       "      <th></th>\n",
       "      <th></th>\n",
       "      <th></th>\n",
       "    </tr>\n",
       "  </thead>\n",
       "  <tbody>\n",
       "    <tr>\n",
       "      <th>Usual</th>\n",
       "      <td>192.0</td>\n",
       "      <td>25.0</td>\n",
       "      <td>35.0</td>\n",
       "      <td>0.0</td>\n",
       "      <td>0.0</td>\n",
       "      <td>5.0</td>\n",
       "      <td>50.0</td>\n",
       "      <td>100.0</td>\n",
       "    </tr>\n",
       "    <tr>\n",
       "      <th>Basaloid</th>\n",
       "      <td>64.0</td>\n",
       "      <td>32.0</td>\n",
       "      <td>32.0</td>\n",
       "      <td>0.0</td>\n",
       "      <td>0.0</td>\n",
       "      <td>25.0</td>\n",
       "      <td>50.0</td>\n",
       "      <td>100.0</td>\n",
       "    </tr>\n",
       "    <tr>\n",
       "      <th>Warty</th>\n",
       "      <td>77.0</td>\n",
       "      <td>15.0</td>\n",
       "      <td>23.0</td>\n",
       "      <td>0.0</td>\n",
       "      <td>0.0</td>\n",
       "      <td>5.0</td>\n",
       "      <td>20.0</td>\n",
       "      <td>90.0</td>\n",
       "    </tr>\n",
       "    <tr>\n",
       "      <th>Warty-Basaloid</th>\n",
       "      <td>121.0</td>\n",
       "      <td>37.0</td>\n",
       "      <td>39.0</td>\n",
       "      <td>0.0</td>\n",
       "      <td>2.0</td>\n",
       "      <td>20.0</td>\n",
       "      <td>80.0</td>\n",
       "      <td>100.0</td>\n",
       "    </tr>\n",
       "    <tr>\n",
       "      <th>Papillary</th>\n",
       "      <td>40.0</td>\n",
       "      <td>1.0</td>\n",
       "      <td>4.0</td>\n",
       "      <td>0.0</td>\n",
       "      <td>0.0</td>\n",
       "      <td>0.0</td>\n",
       "      <td>0.0</td>\n",
       "      <td>20.0</td>\n",
       "    </tr>\n",
       "    <tr>\n",
       "      <th>Verrucous</th>\n",
       "      <td>7.0</td>\n",
       "      <td>0.0</td>\n",
       "      <td>0.0</td>\n",
       "      <td>0.0</td>\n",
       "      <td>0.0</td>\n",
       "      <td>0.0</td>\n",
       "      <td>0.0</td>\n",
       "      <td>0.0</td>\n",
       "    </tr>\n",
       "    <tr>\n",
       "      <th>Sarcomatoid</th>\n",
       "      <td>3.0</td>\n",
       "      <td>100.0</td>\n",
       "      <td>0.0</td>\n",
       "      <td>100.0</td>\n",
       "      <td>100.0</td>\n",
       "      <td>100.0</td>\n",
       "      <td>100.0</td>\n",
       "      <td>100.0</td>\n",
       "    </tr>\n",
       "  </tbody>\n",
       "</table>\n",
       "</div>"
      ],
      "text/plain": [
       "                count   mean   std    min    25%    50%    75%    max\n",
       "subtype                                                              \n",
       "Usual           192.0   25.0  35.0    0.0    0.0    5.0   50.0  100.0\n",
       "Basaloid         64.0   32.0  32.0    0.0    0.0   25.0   50.0  100.0\n",
       "Warty            77.0   15.0  23.0    0.0    0.0    5.0   20.0   90.0\n",
       "Warty-Basaloid  121.0   37.0  39.0    0.0    2.0   20.0   80.0  100.0\n",
       "Papillary        40.0    1.0   4.0    0.0    0.0    0.0    0.0   20.0\n",
       "Verrucous         7.0    0.0   0.0    0.0    0.0    0.0    0.0    0.0\n",
       "Sarcomatoid       3.0  100.0   0.0  100.0  100.0  100.0  100.0  100.0"
      ]
     },
     "execution_count": 27,
     "metadata": {},
     "output_type": "execute_result"
    }
   ],
   "source": [
    "create_descriptives('pdl1_tumor','subtype')"
   ]
  },
  {
   "cell_type": "code",
   "execution_count": 28,
   "id": "ef053806-2050-4108-95d4-dc07e81f98b6",
   "metadata": {},
   "outputs": [
    {
     "data": {
      "image/png": "[encoded data removed]",
      "text/plain": [
       "<Figure size 864x576 with 1 Axes>"
      ]
     },
     "metadata": {},
     "output_type": "display_data"
    }
   ],
   "source": [
    "plot_box('pdl1_tumor','subtype')"
   ]
  },
  {
   "cell_type": "code",
   "execution_count": 29,
   "id": "a4dc4561-bf2a-46e3-bb6e-78aec3e152d6",
   "metadata": {
    "outputsMetadata": {
     "0": {
      "height": 56,
      "type": "stream"
     }
    }
   },
   "outputs": [
    {
     "name": "stdout",
     "output_type": "stream",
     "text": [
      "Kruskal-Wallis statistic: 77.2567\n",
      "P value: 1.31578e-14\n"
     ]
    }
   ],
   "source": [
    "do_kw('pdl1_tumor','subtype')"
   ]
  },
  {
   "cell_type": "code",
   "execution_count": 30,
   "id": "720d0d17-6fee-4012-8754-20bfc346bc52",
   "metadata": {
    "outputsMetadata": {
     "0": {
      "height": 242,
      "type": "dataFrame"
     }
    }
   },
   "outputs": [
    {
     "data": {
      "text/html": [
       "<div>\n",
       "<style scoped>\n",
       "    .dataframe tbody tr th:only-of-type {\n",
       "        vertical-align: middle;\n",
       "    }\n",
       "\n",
       "    .dataframe tbody tr th {\n",
       "        vertical-align: top;\n",
       "    }\n",
       "\n",
       "    .dataframe thead th {\n",
       "        text-align: right;\n",
       "    }\n",
       "</style>\n",
       "<table border=\"1\" class=\"dataframe\">\n",
       "  <thead>\n",
       "    <tr style=\"text-align: right;\">\n",
       "      <th></th>\n",
       "      <th>count</th>\n",
       "      <th>mean</th>\n",
       "      <th>std</th>\n",
       "      <th>min</th>\n",
       "      <th>25%</th>\n",
       "      <th>50%</th>\n",
       "      <th>75%</th>\n",
       "      <th>max</th>\n",
       "    </tr>\n",
       "    <tr>\n",
       "      <th>subtype</th>\n",
       "      <th></th>\n",
       "      <th></th>\n",
       "      <th></th>\n",
       "      <th></th>\n",
       "      <th></th>\n",
       "      <th></th>\n",
       "      <th></th>\n",
       "      <th></th>\n",
       "    </tr>\n",
       "  </thead>\n",
       "  <tbody>\n",
       "    <tr>\n",
       "      <th>Usual</th>\n",
       "      <td>192.0</td>\n",
       "      <td>9.0</td>\n",
       "      <td>12.0</td>\n",
       "      <td>0.0</td>\n",
       "      <td>1.0</td>\n",
       "      <td>5.0</td>\n",
       "      <td>10.0</td>\n",
       "      <td>70.0</td>\n",
       "    </tr>\n",
       "    <tr>\n",
       "      <th>Basaloid</th>\n",
       "      <td>63.0</td>\n",
       "      <td>9.0</td>\n",
       "      <td>12.0</td>\n",
       "      <td>0.0</td>\n",
       "      <td>2.0</td>\n",
       "      <td>5.0</td>\n",
       "      <td>10.0</td>\n",
       "      <td>60.0</td>\n",
       "    </tr>\n",
       "    <tr>\n",
       "      <th>Warty</th>\n",
       "      <td>75.0</td>\n",
       "      <td>6.0</td>\n",
       "      <td>9.0</td>\n",
       "      <td>0.0</td>\n",
       "      <td>0.0</td>\n",
       "      <td>5.0</td>\n",
       "      <td>6.0</td>\n",
       "      <td>40.0</td>\n",
       "    </tr>\n",
       "    <tr>\n",
       "      <th>Warty-Basaloid</th>\n",
       "      <td>120.0</td>\n",
       "      <td>6.0</td>\n",
       "      <td>8.0</td>\n",
       "      <td>0.0</td>\n",
       "      <td>1.0</td>\n",
       "      <td>5.0</td>\n",
       "      <td>10.0</td>\n",
       "      <td>50.0</td>\n",
       "    </tr>\n",
       "    <tr>\n",
       "      <th>Papillary</th>\n",
       "      <td>37.0</td>\n",
       "      <td>3.0</td>\n",
       "      <td>4.0</td>\n",
       "      <td>0.0</td>\n",
       "      <td>0.0</td>\n",
       "      <td>2.0</td>\n",
       "      <td>5.0</td>\n",
       "      <td>20.0</td>\n",
       "    </tr>\n",
       "    <tr>\n",
       "      <th>Verrucous</th>\n",
       "      <td>7.0</td>\n",
       "      <td>0.0</td>\n",
       "      <td>1.0</td>\n",
       "      <td>0.0</td>\n",
       "      <td>0.0</td>\n",
       "      <td>0.0</td>\n",
       "      <td>0.0</td>\n",
       "      <td>2.0</td>\n",
       "    </tr>\n",
       "    <tr>\n",
       "      <th>Sarcomatoid</th>\n",
       "      <td>3.0</td>\n",
       "      <td>18.0</td>\n",
       "      <td>10.0</td>\n",
       "      <td>10.0</td>\n",
       "      <td>12.0</td>\n",
       "      <td>15.0</td>\n",
       "      <td>22.0</td>\n",
       "      <td>30.0</td>\n",
       "    </tr>\n",
       "  </tbody>\n",
       "</table>\n",
       "</div>"
      ],
      "text/plain": [
       "                count  mean   std   min   25%   50%   75%   max\n",
       "subtype                                                        \n",
       "Usual           192.0   9.0  12.0   0.0   1.0   5.0  10.0  70.0\n",
       "Basaloid         63.0   9.0  12.0   0.0   2.0   5.0  10.0  60.0\n",
       "Warty            75.0   6.0   9.0   0.0   0.0   5.0   6.0  40.0\n",
       "Warty-Basaloid  120.0   6.0   8.0   0.0   1.0   5.0  10.0  50.0\n",
       "Papillary        37.0   3.0   4.0   0.0   0.0   2.0   5.0  20.0\n",
       "Verrucous         7.0   0.0   1.0   0.0   0.0   0.0   0.0   2.0\n",
       "Sarcomatoid       3.0  18.0  10.0  10.0  12.0  15.0  22.0  30.0"
      ]
     },
     "execution_count": 30,
     "metadata": {},
     "output_type": "execute_result"
    }
   ],
   "source": [
    "create_descriptives('pdl1_lymph','subtype')"
   ]
  },
  {
   "cell_type": "code",
   "execution_count": 31,
   "id": "22921cfb-ff23-4f64-9872-cb2ca048cbe6",
   "metadata": {},
   "outputs": [
    {
     "data": {
      "image/png": "[encoded data removed]",
      "text/plain": [
       "<Figure size 864x576 with 1 Axes>"
      ]
     },
     "metadata": {},
     "output_type": "display_data"
    }
   ],
   "source": [
    "plot_box('pdl1_lymph','subtype')"
   ]
  },
  {
   "cell_type": "code",
   "execution_count": 32,
   "id": "64965d92-d908-40a6-a0c8-5af05f3a5d52",
   "metadata": {
    "outputsMetadata": {
     "0": {
      "height": 56,
      "type": "stream"
     }
    }
   },
   "outputs": [
    {
     "name": "stdout",
     "output_type": "stream",
     "text": [
      "Kruskal-Wallis statistic: 29.7604\n",
      "P value: 4.36519e-05\n"
     ]
    }
   ],
   "source": [
    "do_kw('pdl1_lymph','subtype')"
   ]
  },
  {
   "cell_type": "markdown",
   "id": "3905e209-ff10-4f23-ac78-b41299072d4d",
   "metadata": {},
   "source": [
    "### Histologic grade"
   ]
  },
  {
   "cell_type": "code",
   "execution_count": 33,
   "id": "c3f49cf5-0c3a-4684-8627-cf4e520e5627",
   "metadata": {
    "outputsMetadata": {
     "0": {
      "height": 144,
      "type": "dataFrame"
     }
    }
   },
   "outputs": [
    {
     "data": {
      "text/html": [
       "<div>\n",
       "<style scoped>\n",
       "    .dataframe tbody tr th:only-of-type {\n",
       "        vertical-align: middle;\n",
       "    }\n",
       "\n",
       "    .dataframe tbody tr th {\n",
       "        vertical-align: top;\n",
       "    }\n",
       "\n",
       "    .dataframe thead th {\n",
       "        text-align: right;\n",
       "    }\n",
       "</style>\n",
       "<table border=\"1\" class=\"dataframe\">\n",
       "  <thead>\n",
       "    <tr style=\"text-align: right;\">\n",
       "      <th></th>\n",
       "      <th>count</th>\n",
       "      <th>mean</th>\n",
       "      <th>std</th>\n",
       "      <th>min</th>\n",
       "      <th>25%</th>\n",
       "      <th>50%</th>\n",
       "      <th>75%</th>\n",
       "      <th>max</th>\n",
       "    </tr>\n",
       "    <tr>\n",
       "      <th>grade</th>\n",
       "      <th></th>\n",
       "      <th></th>\n",
       "      <th></th>\n",
       "      <th></th>\n",
       "      <th></th>\n",
       "      <th></th>\n",
       "      <th></th>\n",
       "      <th></th>\n",
       "    </tr>\n",
       "  </thead>\n",
       "  <tbody>\n",
       "    <tr>\n",
       "      <th>Grade 1</th>\n",
       "      <td>51.0</td>\n",
       "      <td>8.0</td>\n",
       "      <td>21.0</td>\n",
       "      <td>0.0</td>\n",
       "      <td>0.0</td>\n",
       "      <td>0.0</td>\n",
       "      <td>5.0</td>\n",
       "      <td>90.0</td>\n",
       "    </tr>\n",
       "    <tr>\n",
       "      <th>Grade 2</th>\n",
       "      <td>189.0</td>\n",
       "      <td>21.0</td>\n",
       "      <td>34.0</td>\n",
       "      <td>0.0</td>\n",
       "      <td>0.0</td>\n",
       "      <td>1.0</td>\n",
       "      <td>30.0</td>\n",
       "      <td>100.0</td>\n",
       "    </tr>\n",
       "    <tr>\n",
       "      <th>Grade 3</th>\n",
       "      <td>258.0</td>\n",
       "      <td>32.0</td>\n",
       "      <td>36.0</td>\n",
       "      <td>0.0</td>\n",
       "      <td>1.0</td>\n",
       "      <td>15.0</td>\n",
       "      <td>60.0</td>\n",
       "      <td>100.0</td>\n",
       "    </tr>\n",
       "  </tbody>\n",
       "</table>\n",
       "</div>"
      ],
      "text/plain": [
       "         count  mean   std  min  25%   50%   75%    max\n",
       "grade                                                  \n",
       "Grade 1   51.0   8.0  21.0  0.0  0.0   0.0   5.0   90.0\n",
       "Grade 2  189.0  21.0  34.0  0.0  0.0   1.0  30.0  100.0\n",
       "Grade 3  258.0  32.0  36.0  0.0  1.0  15.0  60.0  100.0"
      ]
     },
     "execution_count": 33,
     "metadata": {},
     "output_type": "execute_result"
    }
   ],
   "source": [
    "create_descriptives('pdl1_tumor','grade')"
   ]
  },
  {
   "cell_type": "code",
   "execution_count": 34,
   "id": "7b1d010e-7316-4db3-a18b-3c03dafc9934",
   "metadata": {},
   "outputs": [
    {
     "data": {
      "image/png": "[encoded data removed]",
      "text/plain": [
       "<Figure size 864x576 with 1 Axes>"
      ]
     },
     "metadata": {},
     "output_type": "display_data"
    }
   ],
   "source": [
    "plot_box('pdl1_tumor','grade')"
   ]
  },
  {
   "cell_type": "code",
   "execution_count": 35,
   "id": "2438e76b-7bfc-4d89-bdbd-c2f81a7eb816",
   "metadata": {
    "outputsMetadata": {
     "0": {
      "height": 56,
      "type": "stream"
     }
    }
   },
   "outputs": [
    {
     "name": "stdout",
     "output_type": "stream",
     "text": [
      "Kruskal-Wallis statistic: 45.0078\n",
      "P value: 1.6853e-10\n"
     ]
    }
   ],
   "source": [
    "do_kw('pdl1_tumor','grade')"
   ]
  },
  {
   "cell_type": "code",
   "execution_count": 36,
   "id": "029db09d-bc10-4abd-938d-4ff2b36a8b3f",
   "metadata": {
    "outputsMetadata": {
     "0": {
      "height": 144,
      "type": "dataFrame"
     }
    }
   },
   "outputs": [
    {
     "data": {
      "text/html": [
       "<div>\n",
       "<style scoped>\n",
       "    .dataframe tbody tr th:only-of-type {\n",
       "        vertical-align: middle;\n",
       "    }\n",
       "\n",
       "    .dataframe tbody tr th {\n",
       "        vertical-align: top;\n",
       "    }\n",
       "\n",
       "    .dataframe thead th {\n",
       "        text-align: right;\n",
       "    }\n",
       "</style>\n",
       "<table border=\"1\" class=\"dataframe\">\n",
       "  <thead>\n",
       "    <tr style=\"text-align: right;\">\n",
       "      <th></th>\n",
       "      <th>count</th>\n",
       "      <th>mean</th>\n",
       "      <th>std</th>\n",
       "      <th>min</th>\n",
       "      <th>25%</th>\n",
       "      <th>50%</th>\n",
       "      <th>75%</th>\n",
       "      <th>max</th>\n",
       "    </tr>\n",
       "    <tr>\n",
       "      <th>grade</th>\n",
       "      <th></th>\n",
       "      <th></th>\n",
       "      <th></th>\n",
       "      <th></th>\n",
       "      <th></th>\n",
       "      <th></th>\n",
       "      <th></th>\n",
       "      <th></th>\n",
       "    </tr>\n",
       "  </thead>\n",
       "  <tbody>\n",
       "    <tr>\n",
       "      <th>Grade 1</th>\n",
       "      <td>48.0</td>\n",
       "      <td>9.0</td>\n",
       "      <td>14.0</td>\n",
       "      <td>0.0</td>\n",
       "      <td>1.0</td>\n",
       "      <td>2.0</td>\n",
       "      <td>6.0</td>\n",
       "      <td>60.0</td>\n",
       "    </tr>\n",
       "    <tr>\n",
       "      <th>Grade 2</th>\n",
       "      <td>187.0</td>\n",
       "      <td>6.0</td>\n",
       "      <td>9.0</td>\n",
       "      <td>0.0</td>\n",
       "      <td>0.0</td>\n",
       "      <td>2.0</td>\n",
       "      <td>8.0</td>\n",
       "      <td>60.0</td>\n",
       "    </tr>\n",
       "    <tr>\n",
       "      <th>Grade 3</th>\n",
       "      <td>256.0</td>\n",
       "      <td>8.0</td>\n",
       "      <td>11.0</td>\n",
       "      <td>0.0</td>\n",
       "      <td>1.0</td>\n",
       "      <td>5.0</td>\n",
       "      <td>10.0</td>\n",
       "      <td>70.0</td>\n",
       "    </tr>\n",
       "  </tbody>\n",
       "</table>\n",
       "</div>"
      ],
      "text/plain": [
       "         count  mean   std  min  25%  50%   75%   max\n",
       "grade                                                \n",
       "Grade 1   48.0   9.0  14.0  0.0  1.0  2.0   6.0  60.0\n",
       "Grade 2  187.0   6.0   9.0  0.0  0.0  2.0   8.0  60.0\n",
       "Grade 3  256.0   8.0  11.0  0.0  1.0  5.0  10.0  70.0"
      ]
     },
     "execution_count": 36,
     "metadata": {},
     "output_type": "execute_result"
    }
   ],
   "source": [
    "create_descriptives('pdl1_lymph','grade')"
   ]
  },
  {
   "cell_type": "code",
   "execution_count": 37,
   "id": "8dfca530-1d72-461b-9374-425bf3233453",
   "metadata": {},
   "outputs": [
    {
     "data": {
      "image/png": "[encoded data removed]",
      "text/plain": [
       "<Figure size 864x576 with 1 Axes>"
      ]
     },
     "metadata": {},
     "output_type": "display_data"
    }
   ],
   "source": [
    "plot_box('pdl1_lymph','grade')"
   ]
  },
  {
   "cell_type": "code",
   "execution_count": 38,
   "id": "2cc309f4-e7c8-4d57-a38c-800ab4b8a788",
   "metadata": {
    "outputsMetadata": {
     "0": {
      "height": 56,
      "type": "stream"
     }
    }
   },
   "outputs": [
    {
     "name": "stdout",
     "output_type": "stream",
     "text": [
      "Kruskal-Wallis statistic: 8.57222\n",
      "P value: 0.0137584\n"
     ]
    }
   ],
   "source": [
    "do_kw('pdl1_lymph','grade')"
   ]
  },
  {
   "cell_type": "markdown",
   "id": "ad3a87db-8496-4ae8-812d-877be99aa0d7",
   "metadata": {},
   "source": [
    "### Host response"
   ]
  },
  {
   "cell_type": "code",
   "execution_count": 39,
   "id": "9ede7dc8-b782-48f7-b445-bbe65a632f18",
   "metadata": {
    "outputsMetadata": {
     "0": {
      "height": 168,
      "type": "dataFrame"
     }
    }
   },
   "outputs": [
    {
     "data": {
      "text/html": [
       "<div>\n",
       "<style scoped>\n",
       "    .dataframe tbody tr th:only-of-type {\n",
       "        vertical-align: middle;\n",
       "    }\n",
       "\n",
       "    .dataframe tbody tr th {\n",
       "        vertical-align: top;\n",
       "    }\n",
       "\n",
       "    .dataframe thead th {\n",
       "        text-align: right;\n",
       "    }\n",
       "</style>\n",
       "<table border=\"1\" class=\"dataframe\">\n",
       "  <thead>\n",
       "    <tr style=\"text-align: right;\">\n",
       "      <th></th>\n",
       "      <th>count</th>\n",
       "      <th>mean</th>\n",
       "      <th>std</th>\n",
       "      <th>min</th>\n",
       "      <th>25%</th>\n",
       "      <th>50%</th>\n",
       "      <th>75%</th>\n",
       "      <th>max</th>\n",
       "    </tr>\n",
       "    <tr>\n",
       "      <th>host_response</th>\n",
       "      <th></th>\n",
       "      <th></th>\n",
       "      <th></th>\n",
       "      <th></th>\n",
       "      <th></th>\n",
       "      <th></th>\n",
       "      <th></th>\n",
       "      <th></th>\n",
       "    </tr>\n",
       "  </thead>\n",
       "  <tbody>\n",
       "    <tr>\n",
       "      <th>No</th>\n",
       "      <td>4.0</td>\n",
       "      <td>25.0</td>\n",
       "      <td>50.0</td>\n",
       "      <td>0.0</td>\n",
       "      <td>0.0</td>\n",
       "      <td>0.0</td>\n",
       "      <td>25.0</td>\n",
       "      <td>100.0</td>\n",
       "    </tr>\n",
       "    <tr>\n",
       "      <th>Mild</th>\n",
       "      <td>96.0</td>\n",
       "      <td>16.0</td>\n",
       "      <td>27.0</td>\n",
       "      <td>0.0</td>\n",
       "      <td>0.0</td>\n",
       "      <td>1.0</td>\n",
       "      <td>20.0</td>\n",
       "      <td>100.0</td>\n",
       "    </tr>\n",
       "    <tr>\n",
       "      <th>Moderate</th>\n",
       "      <td>154.0</td>\n",
       "      <td>19.0</td>\n",
       "      <td>30.0</td>\n",
       "      <td>0.0</td>\n",
       "      <td>0.0</td>\n",
       "      <td>2.0</td>\n",
       "      <td>20.0</td>\n",
       "      <td>100.0</td>\n",
       "    </tr>\n",
       "    <tr>\n",
       "      <th>Intense</th>\n",
       "      <td>250.0</td>\n",
       "      <td>34.0</td>\n",
       "      <td>37.0</td>\n",
       "      <td>0.0</td>\n",
       "      <td>0.0</td>\n",
       "      <td>15.0</td>\n",
       "      <td>60.0</td>\n",
       "      <td>100.0</td>\n",
       "    </tr>\n",
       "  </tbody>\n",
       "</table>\n",
       "</div>"
      ],
      "text/plain": [
       "               count  mean   std  min  25%   50%   75%    max\n",
       "host_response                                                \n",
       "No               4.0  25.0  50.0  0.0  0.0   0.0  25.0  100.0\n",
       "Mild            96.0  16.0  27.0  0.0  0.0   1.0  20.0  100.0\n",
       "Moderate       154.0  19.0  30.0  0.0  0.0   2.0  20.0  100.0\n",
       "Intense        250.0  34.0  37.0  0.0  0.0  15.0  60.0  100.0"
      ]
     },
     "execution_count": 39,
     "metadata": {},
     "output_type": "execute_result"
    }
   ],
   "source": [
    "create_descriptives('pdl1_tumor','host_response')"
   ]
  },
  {
   "cell_type": "code",
   "execution_count": 40,
   "id": "557d98f3-e9f4-478f-85ce-59913512495e",
   "metadata": {},
   "outputs": [
    {
     "data": {
      "image/png": "[encoded data removed]",
      "text/plain": [
       "<Figure size 864x576 with 1 Axes>"
      ]
     },
     "metadata": {},
     "output_type": "display_data"
    }
   ],
   "source": [
    "plot_box('pdl1_tumor','host_response')"
   ]
  },
  {
   "cell_type": "code",
   "execution_count": 41,
   "id": "ff9a1098-27c2-47f0-8ac2-c1f608268235",
   "metadata": {
    "outputsMetadata": {
     "0": {
      "height": 56,
      "type": "stream"
     }
    }
   },
   "outputs": [
    {
     "name": "stdout",
     "output_type": "stream",
     "text": [
      "Kruskal-Wallis statistic: 26.7672\n",
      "P value: 6.58739e-06\n"
     ]
    }
   ],
   "source": [
    "do_kw('pdl1_tumor','host_response')"
   ]
  },
  {
   "cell_type": "code",
   "execution_count": 42,
   "id": "224bc564-672e-4d74-8e88-c0020e8fa7fd",
   "metadata": {
    "outputsMetadata": {
     "0": {
      "height": 168,
      "type": "dataFrame"
     }
    }
   },
   "outputs": [
    {
     "data": {
      "text/html": [
       "<div>\n",
       "<style scoped>\n",
       "    .dataframe tbody tr th:only-of-type {\n",
       "        vertical-align: middle;\n",
       "    }\n",
       "\n",
       "    .dataframe tbody tr th {\n",
       "        vertical-align: top;\n",
       "    }\n",
       "\n",
       "    .dataframe thead th {\n",
       "        text-align: right;\n",
       "    }\n",
       "</style>\n",
       "<table border=\"1\" class=\"dataframe\">\n",
       "  <thead>\n",
       "    <tr style=\"text-align: right;\">\n",
       "      <th></th>\n",
       "      <th>count</th>\n",
       "      <th>mean</th>\n",
       "      <th>std</th>\n",
       "      <th>min</th>\n",
       "      <th>25%</th>\n",
       "      <th>50%</th>\n",
       "      <th>75%</th>\n",
       "      <th>max</th>\n",
       "    </tr>\n",
       "    <tr>\n",
       "      <th>host_response</th>\n",
       "      <th></th>\n",
       "      <th></th>\n",
       "      <th></th>\n",
       "      <th></th>\n",
       "      <th></th>\n",
       "      <th></th>\n",
       "      <th></th>\n",
       "      <th></th>\n",
       "    </tr>\n",
       "  </thead>\n",
       "  <tbody>\n",
       "    <tr>\n",
       "      <th>No</th>\n",
       "      <td>0.0</td>\n",
       "      <td>NaN</td>\n",
       "      <td>NaN</td>\n",
       "      <td>NaN</td>\n",
       "      <td>NaN</td>\n",
       "      <td>NaN</td>\n",
       "      <td>NaN</td>\n",
       "      <td>NaN</td>\n",
       "    </tr>\n",
       "    <tr>\n",
       "      <th>Mild</th>\n",
       "      <td>93.0</td>\n",
       "      <td>4.0</td>\n",
       "      <td>10.0</td>\n",
       "      <td>0.0</td>\n",
       "      <td>0.0</td>\n",
       "      <td>1.0</td>\n",
       "      <td>2.0</td>\n",
       "      <td>70.0</td>\n",
       "    </tr>\n",
       "    <tr>\n",
       "      <th>Moderate</th>\n",
       "      <td>154.0</td>\n",
       "      <td>4.0</td>\n",
       "      <td>5.0</td>\n",
       "      <td>0.0</td>\n",
       "      <td>1.0</td>\n",
       "      <td>2.0</td>\n",
       "      <td>5.0</td>\n",
       "      <td>30.0</td>\n",
       "    </tr>\n",
       "    <tr>\n",
       "      <th>Intense</th>\n",
       "      <td>250.0</td>\n",
       "      <td>11.0</td>\n",
       "      <td>12.0</td>\n",
       "      <td>0.0</td>\n",
       "      <td>2.0</td>\n",
       "      <td>5.0</td>\n",
       "      <td>15.0</td>\n",
       "      <td>60.0</td>\n",
       "    </tr>\n",
       "  </tbody>\n",
       "</table>\n",
       "</div>"
      ],
      "text/plain": [
       "               count  mean   std  min  25%  50%   75%   max\n",
       "host_response                                              \n",
       "No               0.0   NaN   NaN  NaN  NaN  NaN   NaN   NaN\n",
       "Mild            93.0   4.0  10.0  0.0  0.0  1.0   2.0  70.0\n",
       "Moderate       154.0   4.0   5.0  0.0  1.0  2.0   5.0  30.0\n",
       "Intense        250.0  11.0  12.0  0.0  2.0  5.0  15.0  60.0"
      ]
     },
     "execution_count": 42,
     "metadata": {},
     "output_type": "execute_result"
    }
   ],
   "source": [
    "create_descriptives('pdl1_lymph','host_response')"
   ]
  },
  {
   "cell_type": "code",
   "execution_count": 43,
   "id": "e2e1bf30-a9d6-4e6c-a35d-fdc71bbec853",
   "metadata": {},
   "outputs": [
    {
     "data": {
      "image/png": "[encoded data removed]",
      "text/plain": [
       "<Figure size 864x576 with 1 Axes>"
      ]
     },
     "metadata": {},
     "output_type": "display_data"
    }
   ],
   "source": [
    "plot_box('pdl1_lymph','host_response')"
   ]
  },
  {
   "cell_type": "code",
   "execution_count": 44,
   "id": "792867a3-ab7c-498c-9134-10039748fb7b",
   "metadata": {
    "outputsMetadata": {
     "0": {
      "height": 56,
      "type": "stream"
     }
    }
   },
   "outputs": [
    {
     "name": "stdout",
     "output_type": "stream",
     "text": [
      "Kruskal-Wallis statistic: 89.7395\n",
      "P value: 2.49182e-19\n"
     ]
    }
   ],
   "source": [
    "do_kw('pdl1_lymph','host_response')"
   ]
  },
  {
   "cell_type": "markdown",
   "id": "85e1c4ea-79cb-4642-accf-294f9d89d726",
   "metadata": {},
   "source": [
    "## Impact of pathologic features"
   ]
  },
  {
   "cell_type": "markdown",
   "id": "8072e445-f0ac-4df9-a663-93f6b6b91f1d",
   "metadata": {},
   "source": [
    "### PD-L1 in tumor cells"
   ]
  },
  {
   "cell_type": "code",
   "execution_count": 45,
   "id": "2b65a109-a8ed-4eec-b6d2-cf810e26342e",
   "metadata": {},
   "outputs": [
    {
     "name": "stdout",
     "output_type": "stream",
     "text": [
      "Variance explained by ['subtype']: 13.4973\n",
      "Variance explained by ['grade']: 3.5085\n",
      "Variance explained by ['host_response']: 6.52007\n",
      "Variance explained by ['subtype', 'grade']: 9.01939\n",
      "Variance explained by ['host_response', 'grade']: 9.56603\n",
      "Variance explained by ['subtype', 'host_response']: 19.9779\n",
      "Variance explained by ['subtype', 'grade', 'host_response']: 16.2733\n"
     ]
    }
   ],
   "source": [
    "get_all_scores('pdl1_tumor', LinearRegression())"
   ]
  },
  {
   "cell_type": "markdown",
   "id": "e54fad23-a243-438c-a177-4b8f1f2bfb58",
   "metadata": {},
   "source": [
    "### PD-L1 in intratumoral lymphocytes"
   ]
  },
  {
   "cell_type": "code",
   "execution_count": 46,
   "id": "33aa0af0-d81f-4599-93bf-020f7953e397",
   "metadata": {},
   "outputs": [
    {
     "name": "stdout",
     "output_type": "stream",
     "text": [
      "Variance explained by ['subtype']: 4.09562\n",
      "Variance explained by ['grade']: 2.50952\n",
      "Variance explained by ['host_response']: 11.2489\n",
      "Variance explained by ['subtype', 'grade']: 5.60741\n",
      "Variance explained by ['host_response', 'grade']: 14.162\n",
      "Variance explained by ['subtype', 'host_response']: 13.9136\n",
      "Variance explained by ['subtype', 'grade', 'host_response']: 16.3493\n"
     ]
    }
   ],
   "source": [
    "get_all_scores('pdl1_lymph', LinearRegression())"
   ]
  },
  {
   "cell_type": "markdown",
   "id": "c47bd8da-5d0d-49cc-8edd-1f52cd53585c",
   "metadata": {},
   "source": [
    "# CD8 expression"
   ]
  },
  {
   "cell_type": "markdown",
   "id": "8083d468-546f-41a6-8291-334338658ac2",
   "metadata": {},
   "source": [
    "## Overall expression"
   ]
  },
  {
   "cell_type": "markdown",
   "id": "3eb75d60-6ea2-410d-b2b1-d7a8b4570124",
   "metadata": {},
   "source": [
    "### Intratumoral lymphocytes"
   ]
  },
  {
   "cell_type": "code",
   "execution_count": 47,
   "id": "c39cc022-1290-492d-86d6-382ed06f2280",
   "metadata": {},
   "outputs": [
    {
     "data": {
      "text/html": [
       "<div>\n",
       "<style scoped>\n",
       "    .dataframe tbody tr th:only-of-type {\n",
       "        vertical-align: middle;\n",
       "    }\n",
       "\n",
       "    .dataframe tbody tr th {\n",
       "        vertical-align: top;\n",
       "    }\n",
       "\n",
       "    .dataframe thead th {\n",
       "        text-align: right;\n",
       "    }\n",
       "</style>\n",
       "<table border=\"1\" class=\"dataframe\">\n",
       "  <thead>\n",
       "    <tr style=\"text-align: right;\">\n",
       "      <th></th>\n",
       "      <th>cd8_intratumoral</th>\n",
       "    </tr>\n",
       "  </thead>\n",
       "  <tbody>\n",
       "    <tr>\n",
       "      <th>count</th>\n",
       "      <td>506.0</td>\n",
       "    </tr>\n",
       "    <tr>\n",
       "      <th>mean</th>\n",
       "      <td>10.0</td>\n",
       "    </tr>\n",
       "    <tr>\n",
       "      <th>std</th>\n",
       "      <td>16.0</td>\n",
       "    </tr>\n",
       "    <tr>\n",
       "      <th>min</th>\n",
       "      <td>0.0</td>\n",
       "    </tr>\n",
       "    <tr>\n",
       "      <th>25%</th>\n",
       "      <td>0.0</td>\n",
       "    </tr>\n",
       "    <tr>\n",
       "      <th>50%</th>\n",
       "      <td>4.0</td>\n",
       "    </tr>\n",
       "    <tr>\n",
       "      <th>75%</th>\n",
       "      <td>12.0</td>\n",
       "    </tr>\n",
       "    <tr>\n",
       "      <th>max</th>\n",
       "      <td>120.0</td>\n",
       "    </tr>\n",
       "  </tbody>\n",
       "</table>\n",
       "</div>"
      ],
      "text/plain": [
       "       cd8_intratumoral\n",
       "count             506.0\n",
       "mean               10.0\n",
       "std                16.0\n",
       "min                 0.0\n",
       "25%                 0.0\n",
       "50%                 4.0\n",
       "75%                12.0\n",
       "max               120.0"
      ]
     },
     "execution_count": 47,
     "metadata": {},
     "output_type": "execute_result"
    }
   ],
   "source": [
    "create_descriptive('cd8_intratumoral')"
   ]
  },
  {
   "cell_type": "code",
   "execution_count": 48,
   "id": "5ac7670c-6794-4bfa-b27d-f5ee5c2386e5",
   "metadata": {},
   "outputs": [
    {
     "data": {
      "image/png": "[encoded data removed]",
      "text/plain": [
       "<Figure size 360x360 with 1 Axes>"
      ]
     },
     "metadata": {},
     "output_type": "display_data"
    }
   ],
   "source": [
    "plot_kde('cd8_intratumoral')"
   ]
  },
  {
   "cell_type": "markdown",
   "id": "f18c7ebf-24fe-4b8e-b0cd-220bf8000c00",
   "metadata": {},
   "source": [
    "### Peritumoral lymphocytes"
   ]
  },
  {
   "cell_type": "code",
   "execution_count": 49,
   "id": "4c273c0b-d394-48e9-8b49-9982b12ccb27",
   "metadata": {},
   "outputs": [
    {
     "data": {
      "text/html": [
       "<div>\n",
       "<style scoped>\n",
       "    .dataframe tbody tr th:only-of-type {\n",
       "        vertical-align: middle;\n",
       "    }\n",
       "\n",
       "    .dataframe tbody tr th {\n",
       "        vertical-align: top;\n",
       "    }\n",
       "\n",
       "    .dataframe thead th {\n",
       "        text-align: right;\n",
       "    }\n",
       "</style>\n",
       "<table border=\"1\" class=\"dataframe\">\n",
       "  <thead>\n",
       "    <tr style=\"text-align: right;\">\n",
       "      <th></th>\n",
       "      <th>cd8_peritumoral</th>\n",
       "    </tr>\n",
       "  </thead>\n",
       "  <tbody>\n",
       "    <tr>\n",
       "      <th>count</th>\n",
       "      <td>503.0</td>\n",
       "    </tr>\n",
       "    <tr>\n",
       "      <th>mean</th>\n",
       "      <td>27.0</td>\n",
       "    </tr>\n",
       "    <tr>\n",
       "      <th>std</th>\n",
       "      <td>27.0</td>\n",
       "    </tr>\n",
       "    <tr>\n",
       "      <th>min</th>\n",
       "      <td>0.0</td>\n",
       "    </tr>\n",
       "    <tr>\n",
       "      <th>25%</th>\n",
       "      <td>5.0</td>\n",
       "    </tr>\n",
       "    <tr>\n",
       "      <th>50%</th>\n",
       "      <td>19.0</td>\n",
       "    </tr>\n",
       "    <tr>\n",
       "      <th>75%</th>\n",
       "      <td>40.0</td>\n",
       "    </tr>\n",
       "    <tr>\n",
       "      <th>max</th>\n",
       "      <td>150.0</td>\n",
       "    </tr>\n",
       "  </tbody>\n",
       "</table>\n",
       "</div>"
      ],
      "text/plain": [
       "       cd8_peritumoral\n",
       "count            503.0\n",
       "mean              27.0\n",
       "std               27.0\n",
       "min                0.0\n",
       "25%                5.0\n",
       "50%               19.0\n",
       "75%               40.0\n",
       "max              150.0"
      ]
     },
     "execution_count": 49,
     "metadata": {},
     "output_type": "execute_result"
    }
   ],
   "source": [
    "create_descriptive('cd8_peritumoral')"
   ]
  },
  {
   "cell_type": "code",
   "execution_count": 50,
   "id": "efe21e26-2f73-443e-b15d-a759d2e06e8d",
   "metadata": {},
   "outputs": [
    {
     "data": {
      "image/png": "[encoded data removed]",
      "text/plain": [
       "<Figure size 360x360 with 1 Axes>"
      ]
     },
     "metadata": {},
     "output_type": "display_data"
    }
   ],
   "source": [
    "plot_kde('cd8_peritumoral')"
   ]
  },
  {
   "cell_type": "markdown",
   "id": "f0c779af-47b1-4f87-8495-ab2301c2ee3f",
   "metadata": {},
   "source": [
    "### Intratumoral lymphocytes vs. peritumoral lymphocytes"
   ]
  },
  {
   "cell_type": "code",
   "execution_count": 51,
   "id": "57718e63-dbf8-44e0-bd16-ea6e2dcdf066",
   "metadata": {},
   "outputs": [
    {
     "data": {
      "image/png": "[encoded data removed]",
      "text/plain": [
       "<Figure size 864x576 with 1 Axes>"
      ]
     },
     "metadata": {},
     "output_type": "display_data"
    }
   ],
   "source": [
    "sns.regplot(x='cd8_intratumoral', y='cd8_peritumoral', data=df)\n",
    "plt.show()"
   ]
  },
  {
   "cell_type": "code",
   "execution_count": 52,
   "id": "7a265b19-f516-48dd-b234-8baba0214b02",
   "metadata": {},
   "outputs": [
    {
     "data": {
      "text/html": [
       "<div>\n",
       "<style scoped>\n",
       "    .dataframe tbody tr th:only-of-type {\n",
       "        vertical-align: middle;\n",
       "    }\n",
       "\n",
       "    .dataframe tbody tr th {\n",
       "        vertical-align: top;\n",
       "    }\n",
       "\n",
       "    .dataframe thead th {\n",
       "        text-align: right;\n",
       "    }\n",
       "</style>\n",
       "<table border=\"1\" class=\"dataframe\">\n",
       "  <thead>\n",
       "    <tr style=\"text-align: right;\">\n",
       "      <th></th>\n",
       "      <th>cd8_intratumoral</th>\n",
       "      <th>cd8_peritumoral</th>\n",
       "    </tr>\n",
       "  </thead>\n",
       "  <tbody>\n",
       "    <tr>\n",
       "      <th>cd8_intratumoral</th>\n",
       "      <td>0.37</td>\n",
       "      <td>0.37</td>\n",
       "    </tr>\n",
       "    <tr>\n",
       "      <th>cd8_peritumoral</th>\n",
       "      <td>0.37</td>\n",
       "      <td>0.37</td>\n",
       "    </tr>\n",
       "  </tbody>\n",
       "</table>\n",
       "</div>"
      ],
      "text/plain": [
       "                  cd8_intratumoral  cd8_peritumoral\n",
       "cd8_intratumoral              0.37             0.37\n",
       "cd8_peritumoral               0.37             0.37"
      ]
     },
     "execution_count": 52,
     "metadata": {},
     "output_type": "execute_result"
    }
   ],
   "source": [
    "do_spearman_rho(['cd8_intratumoral','cd8_peritumoral'])"
   ]
  },
  {
   "cell_type": "code",
   "execution_count": 53,
   "id": "4427ae1e-735b-4e27-8dda-132ece28a8ff",
   "metadata": {},
   "outputs": [
    {
     "data": {
      "text/html": [
       "<div>\n",
       "<style scoped>\n",
       "    .dataframe tbody tr th:only-of-type {\n",
       "        vertical-align: middle;\n",
       "    }\n",
       "\n",
       "    .dataframe tbody tr th {\n",
       "        vertical-align: top;\n",
       "    }\n",
       "\n",
       "    .dataframe thead th {\n",
       "        text-align: right;\n",
       "    }\n",
       "</style>\n",
       "<table border=\"1\" class=\"dataframe\">\n",
       "  <thead>\n",
       "    <tr style=\"text-align: right;\">\n",
       "      <th></th>\n",
       "      <th>cd8_intratumoral</th>\n",
       "      <th>cd8_peritumoral</th>\n",
       "    </tr>\n",
       "  </thead>\n",
       "  <tbody>\n",
       "    <tr>\n",
       "      <th>cd8_intratumoral</th>\n",
       "      <td>1.982031e-17</td>\n",
       "      <td>1.982031e-17</td>\n",
       "    </tr>\n",
       "    <tr>\n",
       "      <th>cd8_peritumoral</th>\n",
       "      <td>1.982031e-17</td>\n",
       "      <td>1.982031e-17</td>\n",
       "    </tr>\n",
       "  </tbody>\n",
       "</table>\n",
       "</div>"
      ],
      "text/plain": [
       "                  cd8_intratumoral  cd8_peritumoral\n",
       "cd8_intratumoral      1.982031e-17     1.982031e-17\n",
       "cd8_peritumoral       1.982031e-17     1.982031e-17"
      ]
     },
     "execution_count": 53,
     "metadata": {},
     "output_type": "execute_result"
    }
   ],
   "source": [
    "do_spearman_p(['cd8_intratumoral','cd8_peritumoral'])"
   ]
  },
  {
   "cell_type": "markdown",
   "id": "0ee3fb82-4204-4416-b972-5b1a9fc557b6",
   "metadata": {},
   "source": [
    "## By pathologic features"
   ]
  },
  {
   "cell_type": "markdown",
   "id": "4c5507e3-0cba-4858-ac5c-1e13f7558048",
   "metadata": {},
   "source": [
    "### Histologic subtype"
   ]
  },
  {
   "cell_type": "code",
   "execution_count": 54,
   "id": "5b969ac0-d04e-4f9e-9fd2-c5c00eac6569",
   "metadata": {},
   "outputs": [
    {
     "data": {
      "text/html": [
       "<div>\n",
       "<style scoped>\n",
       "    .dataframe tbody tr th:only-of-type {\n",
       "        vertical-align: middle;\n",
       "    }\n",
       "\n",
       "    .dataframe tbody tr th {\n",
       "        vertical-align: top;\n",
       "    }\n",
       "\n",
       "    .dataframe thead th {\n",
       "        text-align: right;\n",
       "    }\n",
       "</style>\n",
       "<table border=\"1\" class=\"dataframe\">\n",
       "  <thead>\n",
       "    <tr style=\"text-align: right;\">\n",
       "      <th></th>\n",
       "      <th>count</th>\n",
       "      <th>mean</th>\n",
       "      <th>std</th>\n",
       "      <th>min</th>\n",
       "      <th>25%</th>\n",
       "      <th>50%</th>\n",
       "      <th>75%</th>\n",
       "      <th>max</th>\n",
       "    </tr>\n",
       "    <tr>\n",
       "      <th>subtype</th>\n",
       "      <th></th>\n",
       "      <th></th>\n",
       "      <th></th>\n",
       "      <th></th>\n",
       "      <th></th>\n",
       "      <th></th>\n",
       "      <th></th>\n",
       "      <th></th>\n",
       "    </tr>\n",
       "  </thead>\n",
       "  <tbody>\n",
       "    <tr>\n",
       "      <th>Usual</th>\n",
       "      <td>197.0</td>\n",
       "      <td>12.0</td>\n",
       "      <td>19.0</td>\n",
       "      <td>0.0</td>\n",
       "      <td>0.0</td>\n",
       "      <td>6.0</td>\n",
       "      <td>16.0</td>\n",
       "      <td>120.0</td>\n",
       "    </tr>\n",
       "    <tr>\n",
       "      <th>Basaloid</th>\n",
       "      <td>62.0</td>\n",
       "      <td>11.0</td>\n",
       "      <td>15.0</td>\n",
       "      <td>0.0</td>\n",
       "      <td>1.0</td>\n",
       "      <td>6.0</td>\n",
       "      <td>12.0</td>\n",
       "      <td>60.0</td>\n",
       "    </tr>\n",
       "    <tr>\n",
       "      <th>Warty</th>\n",
       "      <td>78.0</td>\n",
       "      <td>5.0</td>\n",
       "      <td>12.0</td>\n",
       "      <td>0.0</td>\n",
       "      <td>0.0</td>\n",
       "      <td>2.0</td>\n",
       "      <td>5.0</td>\n",
       "      <td>65.0</td>\n",
       "    </tr>\n",
       "    <tr>\n",
       "      <th>Warty-Basaloid</th>\n",
       "      <td>117.0</td>\n",
       "      <td>11.0</td>\n",
       "      <td>14.0</td>\n",
       "      <td>0.0</td>\n",
       "      <td>0.0</td>\n",
       "      <td>6.0</td>\n",
       "      <td>16.0</td>\n",
       "      <td>63.0</td>\n",
       "    </tr>\n",
       "    <tr>\n",
       "      <th>Papillary</th>\n",
       "      <td>42.0</td>\n",
       "      <td>6.0</td>\n",
       "      <td>8.0</td>\n",
       "      <td>0.0</td>\n",
       "      <td>0.0</td>\n",
       "      <td>4.0</td>\n",
       "      <td>9.0</td>\n",
       "      <td>32.0</td>\n",
       "    </tr>\n",
       "    <tr>\n",
       "      <th>Verrucous</th>\n",
       "      <td>7.0</td>\n",
       "      <td>2.0</td>\n",
       "      <td>3.0</td>\n",
       "      <td>0.0</td>\n",
       "      <td>0.0</td>\n",
       "      <td>0.0</td>\n",
       "      <td>2.0</td>\n",
       "      <td>9.0</td>\n",
       "    </tr>\n",
       "    <tr>\n",
       "      <th>Sarcomatoid</th>\n",
       "      <td>3.0</td>\n",
       "      <td>5.0</td>\n",
       "      <td>2.0</td>\n",
       "      <td>3.0</td>\n",
       "      <td>4.0</td>\n",
       "      <td>6.0</td>\n",
       "      <td>6.0</td>\n",
       "      <td>7.0</td>\n",
       "    </tr>\n",
       "  </tbody>\n",
       "</table>\n",
       "</div>"
      ],
      "text/plain": [
       "                count  mean   std  min  25%  50%   75%    max\n",
       "subtype                                                      \n",
       "Usual           197.0  12.0  19.0  0.0  0.0  6.0  16.0  120.0\n",
       "Basaloid         62.0  11.0  15.0  0.0  1.0  6.0  12.0   60.0\n",
       "Warty            78.0   5.0  12.0  0.0  0.0  2.0   5.0   65.0\n",
       "Warty-Basaloid  117.0  11.0  14.0  0.0  0.0  6.0  16.0   63.0\n",
       "Papillary        42.0   6.0   8.0  0.0  0.0  4.0   9.0   32.0\n",
       "Verrucous         7.0   2.0   3.0  0.0  0.0  0.0   2.0    9.0\n",
       "Sarcomatoid       3.0   5.0   2.0  3.0  4.0  6.0   6.0    7.0"
      ]
     },
     "execution_count": 54,
     "metadata": {},
     "output_type": "execute_result"
    }
   ],
   "source": [
    "create_descriptives('cd8_intratumoral','subtype')"
   ]
  },
  {
   "cell_type": "code",
   "execution_count": 55,
   "id": "258be674-3db6-458e-9a5c-7721861ab0ab",
   "metadata": {},
   "outputs": [
    {
     "data": {
      "image/png": "[encoded data removed]",
      "text/plain": [
       "<Figure size 864x576 with 1 Axes>"
      ]
     },
     "metadata": {},
     "output_type": "display_data"
    }
   ],
   "source": [
    "plot_box('cd8_intratumoral','subtype')"
   ]
  },
  {
   "cell_type": "code",
   "execution_count": 56,
   "id": "b14c5bc0-0bba-40d6-b11c-0ef40f8aaf31",
   "metadata": {},
   "outputs": [
    {
     "name": "stdout",
     "output_type": "stream",
     "text": [
      "Kruskal-Wallis statistic: 22.9353\n",
      "P value: 0.000818443\n"
     ]
    }
   ],
   "source": [
    "do_kw('cd8_intratumoral','subtype')"
   ]
  },
  {
   "cell_type": "code",
   "execution_count": 57,
   "id": "47324b15-5135-4478-9bcd-f01df02ec556",
   "metadata": {},
   "outputs": [
    {
     "data": {
      "text/html": [
       "<div>\n",
       "<style scoped>\n",
       "    .dataframe tbody tr th:only-of-type {\n",
       "        vertical-align: middle;\n",
       "    }\n",
       "\n",
       "    .dataframe tbody tr th {\n",
       "        vertical-align: top;\n",
       "    }\n",
       "\n",
       "    .dataframe thead th {\n",
       "        text-align: right;\n",
       "    }\n",
       "</style>\n",
       "<table border=\"1\" class=\"dataframe\">\n",
       "  <thead>\n",
       "    <tr style=\"text-align: right;\">\n",
       "      <th></th>\n",
       "      <th>count</th>\n",
       "      <th>mean</th>\n",
       "      <th>std</th>\n",
       "      <th>min</th>\n",
       "      <th>25%</th>\n",
       "      <th>50%</th>\n",
       "      <th>75%</th>\n",
       "      <th>max</th>\n",
       "    </tr>\n",
       "    <tr>\n",
       "      <th>subtype</th>\n",
       "      <th></th>\n",
       "      <th></th>\n",
       "      <th></th>\n",
       "      <th></th>\n",
       "      <th></th>\n",
       "      <th></th>\n",
       "      <th></th>\n",
       "      <th></th>\n",
       "    </tr>\n",
       "  </thead>\n",
       "  <tbody>\n",
       "    <tr>\n",
       "      <th>Usual</th>\n",
       "      <td>198.0</td>\n",
       "      <td>29.0</td>\n",
       "      <td>29.0</td>\n",
       "      <td>0.0</td>\n",
       "      <td>7.0</td>\n",
       "      <td>22.0</td>\n",
       "      <td>43.0</td>\n",
       "      <td>150.0</td>\n",
       "    </tr>\n",
       "    <tr>\n",
       "      <th>Basaloid</th>\n",
       "      <td>59.0</td>\n",
       "      <td>25.0</td>\n",
       "      <td>20.0</td>\n",
       "      <td>0.0</td>\n",
       "      <td>10.0</td>\n",
       "      <td>19.0</td>\n",
       "      <td>36.0</td>\n",
       "      <td>75.0</td>\n",
       "    </tr>\n",
       "    <tr>\n",
       "      <th>Warty</th>\n",
       "      <td>78.0</td>\n",
       "      <td>22.0</td>\n",
       "      <td>25.0</td>\n",
       "      <td>0.0</td>\n",
       "      <td>0.0</td>\n",
       "      <td>14.0</td>\n",
       "      <td>34.0</td>\n",
       "      <td>101.0</td>\n",
       "    </tr>\n",
       "    <tr>\n",
       "      <th>Warty-Basaloid</th>\n",
       "      <td>116.0</td>\n",
       "      <td>27.0</td>\n",
       "      <td>27.0</td>\n",
       "      <td>0.0</td>\n",
       "      <td>4.0</td>\n",
       "      <td>20.0</td>\n",
       "      <td>42.0</td>\n",
       "      <td>116.0</td>\n",
       "    </tr>\n",
       "    <tr>\n",
       "      <th>Papillary</th>\n",
       "      <td>42.0</td>\n",
       "      <td>28.0</td>\n",
       "      <td>30.0</td>\n",
       "      <td>0.0</td>\n",
       "      <td>1.0</td>\n",
       "      <td>20.0</td>\n",
       "      <td>43.0</td>\n",
       "      <td>98.0</td>\n",
       "    </tr>\n",
       "    <tr>\n",
       "      <th>Verrucous</th>\n",
       "      <td>7.0</td>\n",
       "      <td>14.0</td>\n",
       "      <td>13.0</td>\n",
       "      <td>0.0</td>\n",
       "      <td>0.0</td>\n",
       "      <td>23.0</td>\n",
       "      <td>24.0</td>\n",
       "      <td>26.0</td>\n",
       "    </tr>\n",
       "    <tr>\n",
       "      <th>Sarcomatoid</th>\n",
       "      <td>3.0</td>\n",
       "      <td>12.0</td>\n",
       "      <td>6.0</td>\n",
       "      <td>5.0</td>\n",
       "      <td>10.0</td>\n",
       "      <td>14.0</td>\n",
       "      <td>16.0</td>\n",
       "      <td>17.0</td>\n",
       "    </tr>\n",
       "  </tbody>\n",
       "</table>\n",
       "</div>"
      ],
      "text/plain": [
       "                count  mean   std  min   25%   50%   75%    max\n",
       "subtype                                                        \n",
       "Usual           198.0  29.0  29.0  0.0   7.0  22.0  43.0  150.0\n",
       "Basaloid         59.0  25.0  20.0  0.0  10.0  19.0  36.0   75.0\n",
       "Warty            78.0  22.0  25.0  0.0   0.0  14.0  34.0  101.0\n",
       "Warty-Basaloid  116.0  27.0  27.0  0.0   4.0  20.0  42.0  116.0\n",
       "Papillary        42.0  28.0  30.0  0.0   1.0  20.0  43.0   98.0\n",
       "Verrucous         7.0  14.0  13.0  0.0   0.0  23.0  24.0   26.0\n",
       "Sarcomatoid       3.0  12.0   6.0  5.0  10.0  14.0  16.0   17.0"
      ]
     },
     "execution_count": 57,
     "metadata": {},
     "output_type": "execute_result"
    }
   ],
   "source": [
    "create_descriptives('cd8_peritumoral','subtype')"
   ]
  },
  {
   "cell_type": "code",
   "execution_count": 58,
   "id": "98116b08-538c-4f19-a7f4-543369ec16b6",
   "metadata": {},
   "outputs": [
    {
     "data": {
      "image/png": "[encoded data removed]",
      "text/plain": [
       "<Figure size 864x576 with 1 Axes>"
      ]
     },
     "metadata": {},
     "output_type": "display_data"
    }
   ],
   "source": [
    "plot_box('cd8_peritumoral','subtype')"
   ]
  },
  {
   "cell_type": "code",
   "execution_count": 59,
   "id": "e4f553db-ba25-4ead-8a74-8f739a535be7",
   "metadata": {},
   "outputs": [
    {
     "name": "stdout",
     "output_type": "stream",
     "text": [
      "Kruskal-Wallis statistic: 7.42373\n",
      "P value: 0.283431\n"
     ]
    }
   ],
   "source": [
    "do_kw('cd8_peritumoral','subtype')"
   ]
  },
  {
   "cell_type": "markdown",
   "id": "0c3c536a-5154-4a1f-9dd7-84c386fa9c8c",
   "metadata": {},
   "source": [
    "### Histologic grade"
   ]
  },
  {
   "cell_type": "code",
   "execution_count": 60,
   "id": "fd59fd96-2c5a-4dbd-9160-19d7358b327d",
   "metadata": {},
   "outputs": [
    {
     "data": {
      "text/html": [
       "<div>\n",
       "<style scoped>\n",
       "    .dataframe tbody tr th:only-of-type {\n",
       "        vertical-align: middle;\n",
       "    }\n",
       "\n",
       "    .dataframe tbody tr th {\n",
       "        vertical-align: top;\n",
       "    }\n",
       "\n",
       "    .dataframe thead th {\n",
       "        text-align: right;\n",
       "    }\n",
       "</style>\n",
       "<table border=\"1\" class=\"dataframe\">\n",
       "  <thead>\n",
       "    <tr style=\"text-align: right;\">\n",
       "      <th></th>\n",
       "      <th>count</th>\n",
       "      <th>mean</th>\n",
       "      <th>std</th>\n",
       "      <th>min</th>\n",
       "      <th>25%</th>\n",
       "      <th>50%</th>\n",
       "      <th>75%</th>\n",
       "      <th>max</th>\n",
       "    </tr>\n",
       "    <tr>\n",
       "      <th>grade</th>\n",
       "      <th></th>\n",
       "      <th></th>\n",
       "      <th></th>\n",
       "      <th></th>\n",
       "      <th></th>\n",
       "      <th></th>\n",
       "      <th></th>\n",
       "      <th></th>\n",
       "    </tr>\n",
       "  </thead>\n",
       "  <tbody>\n",
       "    <tr>\n",
       "      <th>Grade 1</th>\n",
       "      <td>50.0</td>\n",
       "      <td>6.0</td>\n",
       "      <td>10.0</td>\n",
       "      <td>0.0</td>\n",
       "      <td>0.0</td>\n",
       "      <td>1.0</td>\n",
       "      <td>9.0</td>\n",
       "      <td>46.0</td>\n",
       "    </tr>\n",
       "    <tr>\n",
       "      <th>Grade 2</th>\n",
       "      <td>188.0</td>\n",
       "      <td>8.0</td>\n",
       "      <td>12.0</td>\n",
       "      <td>0.0</td>\n",
       "      <td>0.0</td>\n",
       "      <td>2.0</td>\n",
       "      <td>10.0</td>\n",
       "      <td>58.0</td>\n",
       "    </tr>\n",
       "    <tr>\n",
       "      <th>Grade 3</th>\n",
       "      <td>256.0</td>\n",
       "      <td>13.0</td>\n",
       "      <td>18.0</td>\n",
       "      <td>0.0</td>\n",
       "      <td>1.0</td>\n",
       "      <td>6.0</td>\n",
       "      <td>15.0</td>\n",
       "      <td>120.0</td>\n",
       "    </tr>\n",
       "  </tbody>\n",
       "</table>\n",
       "</div>"
      ],
      "text/plain": [
       "         count  mean   std  min  25%  50%   75%    max\n",
       "grade                                                 \n",
       "Grade 1   50.0   6.0  10.0  0.0  0.0  1.0   9.0   46.0\n",
       "Grade 2  188.0   8.0  12.0  0.0  0.0  2.0  10.0   58.0\n",
       "Grade 3  256.0  13.0  18.0  0.0  1.0  6.0  15.0  120.0"
      ]
     },
     "execution_count": 60,
     "metadata": {},
     "output_type": "execute_result"
    }
   ],
   "source": [
    "create_descriptives('cd8_intratumoral','grade')"
   ]
  },
  {
   "cell_type": "code",
   "execution_count": 61,
   "id": "d070c857-2463-4f8c-81ba-0b4de6aa176a",
   "metadata": {},
   "outputs": [
    {
     "data": {
      "image/png": "[encoded data removed]",
      "text/plain": [
       "<Figure size 864x576 with 1 Axes>"
      ]
     },
     "metadata": {},
     "output_type": "display_data"
    }
   ],
   "source": [
    "plot_box('cd8_intratumoral','grade')"
   ]
  },
  {
   "cell_type": "code",
   "execution_count": 62,
   "id": "3a200565-f9fd-42b0-904a-473874b1a1ea",
   "metadata": {},
   "outputs": [
    {
     "name": "stdout",
     "output_type": "stream",
     "text": [
      "Kruskal-Wallis statistic: 23.1739\n",
      "P value: 9.28663e-06\n"
     ]
    }
   ],
   "source": [
    "do_kw('cd8_intratumoral','grade')"
   ]
  },
  {
   "cell_type": "code",
   "execution_count": 63,
   "id": "ef0a16b5-f7f5-4736-8896-1f40c0bd21ca",
   "metadata": {},
   "outputs": [
    {
     "data": {
      "text/html": [
       "<div>\n",
       "<style scoped>\n",
       "    .dataframe tbody tr th:only-of-type {\n",
       "        vertical-align: middle;\n",
       "    }\n",
       "\n",
       "    .dataframe tbody tr th {\n",
       "        vertical-align: top;\n",
       "    }\n",
       "\n",
       "    .dataframe thead th {\n",
       "        text-align: right;\n",
       "    }\n",
       "</style>\n",
       "<table border=\"1\" class=\"dataframe\">\n",
       "  <thead>\n",
       "    <tr style=\"text-align: right;\">\n",
       "      <th></th>\n",
       "      <th>count</th>\n",
       "      <th>mean</th>\n",
       "      <th>std</th>\n",
       "      <th>min</th>\n",
       "      <th>25%</th>\n",
       "      <th>50%</th>\n",
       "      <th>75%</th>\n",
       "      <th>max</th>\n",
       "    </tr>\n",
       "    <tr>\n",
       "      <th>grade</th>\n",
       "      <th></th>\n",
       "      <th></th>\n",
       "      <th></th>\n",
       "      <th></th>\n",
       "      <th></th>\n",
       "      <th></th>\n",
       "      <th></th>\n",
       "      <th></th>\n",
       "    </tr>\n",
       "  </thead>\n",
       "  <tbody>\n",
       "    <tr>\n",
       "      <th>Grade 1</th>\n",
       "      <td>50.0</td>\n",
       "      <td>26.0</td>\n",
       "      <td>23.0</td>\n",
       "      <td>0.0</td>\n",
       "      <td>7.0</td>\n",
       "      <td>24.0</td>\n",
       "      <td>40.0</td>\n",
       "      <td>95.0</td>\n",
       "    </tr>\n",
       "    <tr>\n",
       "      <th>Grade 2</th>\n",
       "      <td>190.0</td>\n",
       "      <td>28.0</td>\n",
       "      <td>30.0</td>\n",
       "      <td>0.0</td>\n",
       "      <td>4.0</td>\n",
       "      <td>16.0</td>\n",
       "      <td>44.0</td>\n",
       "      <td>150.0</td>\n",
       "    </tr>\n",
       "    <tr>\n",
       "      <th>Grade 3</th>\n",
       "      <td>245.0</td>\n",
       "      <td>25.0</td>\n",
       "      <td>24.0</td>\n",
       "      <td>0.0</td>\n",
       "      <td>5.0</td>\n",
       "      <td>19.0</td>\n",
       "      <td>40.0</td>\n",
       "      <td>150.0</td>\n",
       "    </tr>\n",
       "  </tbody>\n",
       "</table>\n",
       "</div>"
      ],
      "text/plain": [
       "         count  mean   std  min  25%   50%   75%    max\n",
       "grade                                                  \n",
       "Grade 1   50.0  26.0  23.0  0.0  7.0  24.0  40.0   95.0\n",
       "Grade 2  190.0  28.0  30.0  0.0  4.0  16.0  44.0  150.0\n",
       "Grade 3  245.0  25.0  24.0  0.0  5.0  19.0  40.0  150.0"
      ]
     },
     "execution_count": 63,
     "metadata": {},
     "output_type": "execute_result"
    }
   ],
   "source": [
    "create_descriptives('cd8_peritumoral','grade')"
   ]
  },
  {
   "cell_type": "code",
   "execution_count": 64,
   "id": "c00bf9c1-bca4-4c80-b903-63f9f899f673",
   "metadata": {},
   "outputs": [
    {
     "data": {
      "image/png": "[encoded data removed]",
      "text/plain": [
       "<Figure size 864x576 with 1 Axes>"
      ]
     },
     "metadata": {},
     "output_type": "display_data"
    }
   ],
   "source": [
    "plot_box('cd8_peritumoral','grade')"
   ]
  },
  {
   "cell_type": "code",
   "execution_count": 65,
   "id": "219fae02-6b1b-40f6-a521-e2c394b065f0",
   "metadata": {},
   "outputs": [
    {
     "name": "stdout",
     "output_type": "stream",
     "text": [
      "Kruskal-Wallis statistic: 0.170261\n",
      "P value: 0.918392\n"
     ]
    }
   ],
   "source": [
    "do_kw('cd8_peritumoral','grade')"
   ]
  },
  {
   "cell_type": "markdown",
   "id": "74642da1-ace4-4b30-80c4-d56c583cb187",
   "metadata": {},
   "source": [
    "### Host response"
   ]
  },
  {
   "cell_type": "code",
   "execution_count": 66,
   "id": "7017f9bf-af3b-4ef6-842b-9b7d5e96f37f",
   "metadata": {},
   "outputs": [
    {
     "data": {
      "text/html": [
       "<div>\n",
       "<style scoped>\n",
       "    .dataframe tbody tr th:only-of-type {\n",
       "        vertical-align: middle;\n",
       "    }\n",
       "\n",
       "    .dataframe tbody tr th {\n",
       "        vertical-align: top;\n",
       "    }\n",
       "\n",
       "    .dataframe thead th {\n",
       "        text-align: right;\n",
       "    }\n",
       "</style>\n",
       "<table border=\"1\" class=\"dataframe\">\n",
       "  <thead>\n",
       "    <tr style=\"text-align: right;\">\n",
       "      <th></th>\n",
       "      <th>count</th>\n",
       "      <th>mean</th>\n",
       "      <th>std</th>\n",
       "      <th>min</th>\n",
       "      <th>25%</th>\n",
       "      <th>50%</th>\n",
       "      <th>75%</th>\n",
       "      <th>max</th>\n",
       "    </tr>\n",
       "    <tr>\n",
       "      <th>host_response</th>\n",
       "      <th></th>\n",
       "      <th></th>\n",
       "      <th></th>\n",
       "      <th></th>\n",
       "      <th></th>\n",
       "      <th></th>\n",
       "      <th></th>\n",
       "      <th></th>\n",
       "    </tr>\n",
       "  </thead>\n",
       "  <tbody>\n",
       "    <tr>\n",
       "      <th>No</th>\n",
       "      <td>3.0</td>\n",
       "      <td>0.0</td>\n",
       "      <td>0.0</td>\n",
       "      <td>0.0</td>\n",
       "      <td>0.0</td>\n",
       "      <td>0.0</td>\n",
       "      <td>0.0</td>\n",
       "      <td>0.0</td>\n",
       "    </tr>\n",
       "    <tr>\n",
       "      <th>Mild</th>\n",
       "      <td>96.0</td>\n",
       "      <td>5.0</td>\n",
       "      <td>9.0</td>\n",
       "      <td>0.0</td>\n",
       "      <td>0.0</td>\n",
       "      <td>2.0</td>\n",
       "      <td>5.0</td>\n",
       "      <td>46.0</td>\n",
       "    </tr>\n",
       "    <tr>\n",
       "      <th>Moderate</th>\n",
       "      <td>151.0</td>\n",
       "      <td>7.0</td>\n",
       "      <td>12.0</td>\n",
       "      <td>0.0</td>\n",
       "      <td>0.0</td>\n",
       "      <td>2.0</td>\n",
       "      <td>10.0</td>\n",
       "      <td>62.0</td>\n",
       "    </tr>\n",
       "    <tr>\n",
       "      <th>Intense</th>\n",
       "      <td>243.0</td>\n",
       "      <td>14.0</td>\n",
       "      <td>19.0</td>\n",
       "      <td>0.0</td>\n",
       "      <td>1.0</td>\n",
       "      <td>8.0</td>\n",
       "      <td>20.0</td>\n",
       "      <td>120.0</td>\n",
       "    </tr>\n",
       "  </tbody>\n",
       "</table>\n",
       "</div>"
      ],
      "text/plain": [
       "               count  mean   std  min  25%  50%   75%    max\n",
       "host_response                                               \n",
       "No               3.0   0.0   0.0  0.0  0.0  0.0   0.0    0.0\n",
       "Mild            96.0   5.0   9.0  0.0  0.0  2.0   5.0   46.0\n",
       "Moderate       151.0   7.0  12.0  0.0  0.0  2.0  10.0   62.0\n",
       "Intense        243.0  14.0  19.0  0.0  1.0  8.0  20.0  120.0"
      ]
     },
     "execution_count": 66,
     "metadata": {},
     "output_type": "execute_result"
    }
   ],
   "source": [
    "create_descriptives('cd8_intratumoral','host_response')"
   ]
  },
  {
   "cell_type": "code",
   "execution_count": 67,
   "id": "36540a16-abbb-4c33-9141-ac9e0e1c5ca3",
   "metadata": {},
   "outputs": [
    {
     "data": {
      "image/png": "[encoded data removed]",
      "text/plain": [
       "<Figure size 864x576 with 1 Axes>"
      ]
     },
     "metadata": {},
     "output_type": "display_data"
    }
   ],
   "source": [
    "plot_box('cd8_intratumoral','host_response')"
   ]
  },
  {
   "cell_type": "code",
   "execution_count": 68,
   "id": "0e99e8cc-be8a-4c19-8368-8a38cf94a44e",
   "metadata": {},
   "outputs": [
    {
     "name": "stdout",
     "output_type": "stream",
     "text": [
      "Kruskal-Wallis statistic: 46.5498\n",
      "P value: 4.33289e-10\n"
     ]
    }
   ],
   "source": [
    "do_kw('cd8_intratumoral','host_response')"
   ]
  },
  {
   "cell_type": "code",
   "execution_count": 69,
   "id": "fc7f4e8c-4224-4b85-8ed7-08ec04d89618",
   "metadata": {},
   "outputs": [
    {
     "data": {
      "text/html": [
       "<div>\n",
       "<style scoped>\n",
       "    .dataframe tbody tr th:only-of-type {\n",
       "        vertical-align: middle;\n",
       "    }\n",
       "\n",
       "    .dataframe tbody tr th {\n",
       "        vertical-align: top;\n",
       "    }\n",
       "\n",
       "    .dataframe thead th {\n",
       "        text-align: right;\n",
       "    }\n",
       "</style>\n",
       "<table border=\"1\" class=\"dataframe\">\n",
       "  <thead>\n",
       "    <tr style=\"text-align: right;\">\n",
       "      <th></th>\n",
       "      <th>count</th>\n",
       "      <th>mean</th>\n",
       "      <th>std</th>\n",
       "      <th>min</th>\n",
       "      <th>25%</th>\n",
       "      <th>50%</th>\n",
       "      <th>75%</th>\n",
       "      <th>max</th>\n",
       "    </tr>\n",
       "    <tr>\n",
       "      <th>host_response</th>\n",
       "      <th></th>\n",
       "      <th></th>\n",
       "      <th></th>\n",
       "      <th></th>\n",
       "      <th></th>\n",
       "      <th></th>\n",
       "      <th></th>\n",
       "      <th></th>\n",
       "    </tr>\n",
       "  </thead>\n",
       "  <tbody>\n",
       "    <tr>\n",
       "      <th>No</th>\n",
       "      <td>3.0</td>\n",
       "      <td>6.0</td>\n",
       "      <td>11.0</td>\n",
       "      <td>0.0</td>\n",
       "      <td>0.0</td>\n",
       "      <td>0.0</td>\n",
       "      <td>10.0</td>\n",
       "      <td>19.0</td>\n",
       "    </tr>\n",
       "    <tr>\n",
       "      <th>Mild</th>\n",
       "      <td>88.0</td>\n",
       "      <td>9.0</td>\n",
       "      <td>13.0</td>\n",
       "      <td>0.0</td>\n",
       "      <td>0.0</td>\n",
       "      <td>4.0</td>\n",
       "      <td>12.0</td>\n",
       "      <td>64.0</td>\n",
       "    </tr>\n",
       "    <tr>\n",
       "      <th>Moderate</th>\n",
       "      <td>152.0</td>\n",
       "      <td>19.0</td>\n",
       "      <td>20.0</td>\n",
       "      <td>0.0</td>\n",
       "      <td>4.0</td>\n",
       "      <td>12.0</td>\n",
       "      <td>27.0</td>\n",
       "      <td>93.0</td>\n",
       "    </tr>\n",
       "    <tr>\n",
       "      <th>Intense</th>\n",
       "      <td>242.0</td>\n",
       "      <td>38.0</td>\n",
       "      <td>29.0</td>\n",
       "      <td>0.0</td>\n",
       "      <td>15.0</td>\n",
       "      <td>32.0</td>\n",
       "      <td>56.0</td>\n",
       "      <td>150.0</td>\n",
       "    </tr>\n",
       "  </tbody>\n",
       "</table>\n",
       "</div>"
      ],
      "text/plain": [
       "               count  mean   std  min   25%   50%   75%    max\n",
       "host_response                                                 \n",
       "No               3.0   6.0  11.0  0.0   0.0   0.0  10.0   19.0\n",
       "Mild            88.0   9.0  13.0  0.0   0.0   4.0  12.0   64.0\n",
       "Moderate       152.0  19.0  20.0  0.0   4.0  12.0  27.0   93.0\n",
       "Intense        242.0  38.0  29.0  0.0  15.0  32.0  56.0  150.0"
      ]
     },
     "execution_count": 69,
     "metadata": {},
     "output_type": "execute_result"
    }
   ],
   "source": [
    "create_descriptives('cd8_peritumoral','host_response')"
   ]
  },
  {
   "cell_type": "code",
   "execution_count": 70,
   "id": "2f363b24-cfa2-4481-8d34-9971a95c9bd7",
   "metadata": {},
   "outputs": [
    {
     "data": {
      "image/png": "[encoded data removed]",
      "text/plain": [
       "<Figure size 864x576 with 1 Axes>"
      ]
     },
     "metadata": {},
     "output_type": "display_data"
    }
   ],
   "source": [
    "plot_box('cd8_peritumoral','host_response')"
   ]
  },
  {
   "cell_type": "code",
   "execution_count": 71,
   "id": "b560a04b-0484-47dd-96ab-d5c1f73a650f",
   "metadata": {},
   "outputs": [
    {
     "name": "stdout",
     "output_type": "stream",
     "text": [
      "Kruskal-Wallis statistic: 115.481\n",
      "P value: 7.25283e-25\n"
     ]
    }
   ],
   "source": [
    "do_kw('cd8_peritumoral','host_response')"
   ]
  },
  {
   "cell_type": "markdown",
   "id": "7c2a2f95-7d12-4d16-83de-920d0a263a94",
   "metadata": {},
   "source": [
    "## Impact of pathologic features"
   ]
  },
  {
   "cell_type": "markdown",
   "id": "6a096546-ed0e-42a1-8aaf-521e531d4a10",
   "metadata": {},
   "source": [
    "### CD8 in intratumoral lymphocytes"
   ]
  },
  {
   "cell_type": "code",
   "execution_count": 72,
   "id": "1c23bd64-18d3-4940-b715-bb8a17c3688a",
   "metadata": {},
   "outputs": [
    {
     "name": "stdout",
     "output_type": "stream",
     "text": [
      "Variance explained by ['subtype']: 7.74533\n",
      "Variance explained by ['grade']: -5.00625\n",
      "Variance explained by ['host_response']: 15.0271\n",
      "Variance explained by ['subtype', 'grade']: 5.3277\n",
      "Variance explained by ['host_response', 'grade']: 11.1305\n",
      "Variance explained by ['subtype', 'host_response']: 19.4128\n",
      "Variance explained by ['subtype', 'grade', 'host_response']: 18.735\n"
     ]
    }
   ],
   "source": [
    "get_all_scores('cd8_intratumoral',LinearRegression())"
   ]
  },
  {
   "cell_type": "code",
   "execution_count": 73,
   "id": "d549cd95-0652-44ef-b24d-dd36261692bb",
   "metadata": {},
   "outputs": [
    {
     "name": "stdout",
     "output_type": "stream",
     "text": [
      "Variance explained by ['subtype']: 0.352473\n",
      "Variance explained by ['grade']: 0.151825\n",
      "Variance explained by ['host_response']: 21.1009\n",
      "Variance explained by ['subtype', 'grade']: -0.00935259\n",
      "Variance explained by ['host_response', 'grade']: 22.9877\n",
      "Variance explained by ['subtype', 'host_response']: 20.4234\n",
      "Variance explained by ['subtype', 'grade', 'host_response']: 21.1611\n"
     ]
    }
   ],
   "source": [
    "get_all_scores('cd8_peritumoral',LinearRegression())"
   ]
  },
  {
   "cell_type": "code",
   "execution_count": null,
   "id": "1cacb54f-0df2-4d3c-b07c-4d81b17932af",
   "metadata": {},
   "outputs": [],
   "source": []
  }
 ],
 "metadata": {
  "editor": "DataCamp Workspace",
  "kernelspec": {
   "display_name": "Python 3 (ipykernel)",
   "language": "python",
   "name": "python3"
  },
  "language_info": {
   "codemirror_mode": {
    "name": "ipython",
    "version": 3
   },
   "file_extension": ".py",
   "mimetype": "text/x-python",
   "name": "python",
   "nbconvert_exporter": "python",
   "pygments_lexer": "ipython3",
   "version": "3.8.13"
  }
 },
 "nbformat": 4,
 "nbformat_minor": 5
}
