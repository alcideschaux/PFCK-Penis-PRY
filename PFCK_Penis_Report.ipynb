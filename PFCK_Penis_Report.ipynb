{
  "nbformat": 4,
  "nbformat_minor": 0,
  "metadata": {
    "hide_input": false,
    "kernelspec": {
      "display_name": "Python 3",
      "language": "python",
      "name": "python3"
    },
    "language_info": {
      "codemirror_mode": {
        "name": "ipython",
        "version": 3
      },
      "file_extension": ".py",
      "mimetype": "text/x-python",
      "name": "python",
      "nbconvert_exporter": "python",
      "pygments_lexer": "ipython3",
      "version": "3.7.6"
    },
    "toc": {
      "base_numbering": 1,
      "nav_menu": {},
      "number_sections": false,
      "sideBar": true,
      "skip_h1_title": false,
      "title_cell": "Table of Contents",
      "title_sidebar": "Contents",
      "toc_cell": false,
      "toc_position": {
        "height": "calc(100% - 180px)",
        "left": "10px",
        "top": "150px",
        "width": "378px"
      },
      "toc_section_display": true,
      "toc_window_display": true
    },
    "toc-autonumbering": false,
    "toc-showcode": false,
    "toc-showmarkdowntxt": false,
    "toc-showtags": false,
    "colab": {
      "name": "PFCK_Penis_Report.ipynb",
      "provenance": [],
      "toc_visible": true,
      "include_colab_link": true
    }
  },
  "cells": [
    {
      "cell_type": "markdown",
      "metadata": {
        "id": "view-in-github",
        "colab_type": "text"
      },
      "source": [
        "<a href=\"https://colab.research.google.com/github/alcideschaux/PFCK-Penis-PRY/blob/master/PFCK_Penis_Report.ipynb\" target=\"_parent\"><img src=\"https://colab.research.google.com/assets/colab-badge.svg\" alt=\"Open In Colab\"/></a>"
      ]
    },
    {
      "cell_type": "markdown",
      "metadata": {
        "id": "5FIp6OykRArk",
        "colab_type": "text"
      },
      "source": [
        "# Tumor microenvironment in penile squamous cell carcinomas"
      ]
    },
    {
      "cell_type": "code",
      "metadata": {
        "hide_input": false,
        "id": "NRiVgKmWRArm",
        "colab_type": "code",
        "colab": {}
      },
      "source": [
        "import pandas as pd\n",
        "import numpy as np\n",
        "import scipy.stats\n",
        "from sklearn.linear_model import LinearRegression\n",
        "\n",
        "%matplotlib inline \n",
        "from matplotlib import pyplot as plt\n",
        "import seaborn as sns\n",
        "\n",
        "sns.set(palette='Dark2', rc={'figure.figsize':(12.0,8.0)})\n",
        "\n",
        "# Importing dataset\n",
        "# from google.colab import drive\n",
        "# drive.mount('/content/drive')\n",
        "url = '/content/drive/My Drive/Research/Reports/PDL1-PenisPRY/Report/PFCK_PRY_DF.csv'\n",
        "df = pd.read_csv(url, sep=';')"
      ],
      "execution_count": 68,
      "outputs": []
    },
    {
      "cell_type": "markdown",
      "metadata": {
        "id": "XiOklb-eRArs",
        "colab_type": "text"
      },
      "source": [
        "# Introduction"
      ]
    },
    {
      "cell_type": "markdown",
      "metadata": {
        "id": "iHug059BRArt",
        "colab_type": "text"
      },
      "source": [
        "Penile squamous cell carcinoma (SCC) is a rare tumor for which few effective treatment options are available for advanced disease. Considering the significant morbidity of the standard treatment, identifying novel molecular and immunotherapeutic targets is actively sought. Programmed death-ligand 1 (PD-L1) is a coinhibitory molecule that impairs the T-cell response by down-regulating T-cell proliferation and cytokine production. Tumor cells often up-regulate PD-L1 and thereby evade the host immune system. Recently, immune-checkpoint inhibitors have been proven effective against several tumor types, but data on PD-L1 expression in penile SCC is scant with a only few reports from low-incidence areas. In this study, we evaluate PD-L1 expression, along with other markers of immune response, in a large dataset of patients with penile SCC from a high-incidence area."
      ]
    },
    {
      "cell_type": "markdown",
      "metadata": {
        "id": "rag4dPN2RArv",
        "colab_type": "text"
      },
      "source": [
        "# Material and method"
      ]
    },
    {
      "cell_type": "markdown",
      "metadata": {
        "id": "71veYedURArv",
        "colab_type": "text"
      },
      "source": [
        "The current study was approved by the Institutional Review Board at the Johns Hopkins School of Medicine (Baltimore, MD)."
      ]
    },
    {
      "cell_type": "markdown",
      "metadata": {
        "id": "jMVWS9X9RArw",
        "colab_type": "text"
      },
      "source": [
        "## Case selection and tissue microarray construction"
      ]
    },
    {
      "cell_type": "code",
      "metadata": {
        "id": "_YPdMetQRArx",
        "colab_type": "code",
        "colab": {
          "base_uri": "https://localhost:8080/",
          "height": 34
        },
        "outputId": "7b46bef2-c928-425f-cf46-a04e57ea5dcf"
      },
      "source": [
        "df['sp'].nunique()"
      ],
      "execution_count": 69,
      "outputs": [
        {
          "output_type": "execute_result",
          "data": {
            "text/plain": [
              "108"
            ]
          },
          "metadata": {
            "tags": []
          },
          "execution_count": 69
        }
      ]
    },
    {
      "cell_type": "code",
      "metadata": {
        "id": "xPr3AbxSRAr2",
        "colab_type": "code",
        "colab": {
          "base_uri": "https://localhost:8080/",
          "height": 34
        },
        "outputId": "b0c4d034-cc05-4229-f95e-89c47f6cccd9"
      },
      "source": [
        "df.shape"
      ],
      "execution_count": 70,
      "outputs": [
        {
          "output_type": "execute_result",
          "data": {
            "text/plain": [
              "(528, 23)"
            ]
          },
          "metadata": {
            "tags": []
          },
          "execution_count": 70
        }
      ]
    },
    {
      "cell_type": "markdown",
      "metadata": {
        "id": "c5uGFQBPRAr5",
        "colab_type": "text"
      },
      "source": [
        "The present study includes tissue samples from 108 patients with invasive squamous cell carcinoma of the penis from the consultation files of one of the authors (AC). Cases were selected based on availability of formalin-fixed, paraffin-embedded tissue blocks. From each case, 1–4 blocks were selected. Four tissue microarrays (TMA) were built at the Johns Hopkins TMA Lab Core (Baltimore, MD) using a previously described procedure. Three tissue cores of 1 mm each were obtained per block, giving a representation of 3–12 spots per case. Normal tissue from various anatomical sites were included as control tissue. A total of 528 TMA spots were evaluated from the 108 cases."
      ]
    },
    {
      "cell_type": "markdown",
      "metadata": {
        "id": "-XVrbbM3RAr5",
        "colab_type": "text"
      },
      "source": [
        "## Morphologic evaluation"
      ]
    },
    {
      "cell_type": "code",
      "metadata": {
        "id": "ONc1MQZARAr6",
        "colab_type": "code",
        "colab": {}
      },
      "source": [
        "# Adding an id number to each TMA spot\n",
        "df['n'] = range(len(df))"
      ],
      "execution_count": 71,
      "outputs": []
    },
    {
      "cell_type": "markdown",
      "metadata": {
        "id": "glXi0DOJRAr8",
        "colab_type": "text"
      },
      "source": [
        "Pathologic features were evaluated using H&E-stained sections. The following pathologic features were evaluated:\n",
        "\n",
        "1. **Histologic subtype:** Histologic subtyping was carried out in whole tissue sections using previously published morphologic criteria.\n",
        "2. **Histologic grade:** Histologic grading was carried out spot by spot using previously published and validated criteria. Briefly, grade 1 tumors were composed of well differentiated cells, almost undistinguishable from normal squamous cells except for the present of minimal basal/parabasal cell atypia. Grade 3 tumors were composed of any proportion of anaplastic cells showing nuclear pleomorphism, coarse chromatin, prominent nucleolus, irregular and thickened nuclear membrane, abundant and atypical mitoses. Grade 2 tumors corresponded to those cases not fitting criteria for grade 1 or grade 3 (i.e., it was an exclusion category).\n",
        "3. **Host response:** Host response was evaluated spot by spot. Depending on the intensity of the inflammatory infiltrate observed, each spot was classified as showing no inflammation, mild inflammation, moderate inflammation or intense inflammation."
      ]
    },
    {
      "cell_type": "code",
      "metadata": {
        "id": "IXdnZsZfRAr9",
        "colab_type": "code",
        "colab": {}
      },
      "source": [
        "# Coding histologic grades as ordered category\n",
        "df['grade'] = df['grade'].astype('category')\n",
        "df['grade'].cat.set_categories(['Grade 1', 'Grade 2', 'Grade 3'], ordered=True, inplace=True)\n",
        "\n",
        "# Renaming levels and coding host response as ordered category\n",
        "df['host_response'] = df['host_response'].astype('category')\n",
        "df['host_response'].cat.rename_categories({'No inflammatory cells':'No inflammation',\n",
        "                                           'Rare inflammatory cells':'Mild inflammation',\n",
        "                                           'Intense inflammation':'Intense inflammation',\n",
        "                                           'Lymphoid aggregates':'Moderate inflammation'}, inplace=True)\n",
        "df['host_response'].cat.reorder_categories(['No inflammation',\n",
        "                                            'Mild inflammation',\n",
        "                                            'Moderate inflammation',\n",
        "                                            'Intense inflammation'], ordered=True, inplace=True)"
      ],
      "execution_count": 72,
      "outputs": []
    },
    {
      "cell_type": "markdown",
      "metadata": {
        "id": "KGqjzyHARAr_",
        "colab_type": "text"
      },
      "source": [
        "# Pathologic features"
      ]
    },
    {
      "cell_type": "markdown",
      "metadata": {
        "id": "9QaySwOJRAr_",
        "colab_type": "text"
      },
      "source": [
        "## Histologic subtype"
      ]
    },
    {
      "cell_type": "code",
      "metadata": {
        "id": "UGE-QqhzRAsA",
        "colab_type": "code",
        "colab": {
          "base_uri": "https://localhost:8080/",
          "height": 297
        },
        "outputId": "a251569a-5909-4793-9d0e-8366c7f018ba"
      },
      "source": [
        "df.groupby('subtype')['sp'].nunique().sort_values(ascending=False).to_frame()"
      ],
      "execution_count": 73,
      "outputs": [
        {
          "output_type": "execute_result",
          "data": {
            "text/html": [
              "<div>\n",
              "<style scoped>\n",
              "    .dataframe tbody tr th:only-of-type {\n",
              "        vertical-align: middle;\n",
              "    }\n",
              "\n",
              "    .dataframe tbody tr th {\n",
              "        vertical-align: top;\n",
              "    }\n",
              "\n",
              "    .dataframe thead th {\n",
              "        text-align: right;\n",
              "    }\n",
              "</style>\n",
              "<table border=\"1\" class=\"dataframe\">\n",
              "  <thead>\n",
              "    <tr style=\"text-align: right;\">\n",
              "      <th></th>\n",
              "      <th>sp</th>\n",
              "    </tr>\n",
              "    <tr>\n",
              "      <th>subtype</th>\n",
              "      <th></th>\n",
              "    </tr>\n",
              "  </thead>\n",
              "  <tbody>\n",
              "    <tr>\n",
              "      <th>Usual</th>\n",
              "      <td>45</td>\n",
              "    </tr>\n",
              "    <tr>\n",
              "      <th>Warty-Basaloid</th>\n",
              "      <td>24</td>\n",
              "    </tr>\n",
              "    <tr>\n",
              "      <th>Warty</th>\n",
              "      <td>16</td>\n",
              "    </tr>\n",
              "    <tr>\n",
              "      <th>Basaloid</th>\n",
              "      <td>11</td>\n",
              "    </tr>\n",
              "    <tr>\n",
              "      <th>Papillary</th>\n",
              "      <td>9</td>\n",
              "    </tr>\n",
              "    <tr>\n",
              "      <th>Verrucous</th>\n",
              "      <td>2</td>\n",
              "    </tr>\n",
              "    <tr>\n",
              "      <th>Sarcomatoid</th>\n",
              "      <td>1</td>\n",
              "    </tr>\n",
              "  </tbody>\n",
              "</table>\n",
              "</div>"
            ],
            "text/plain": [
              "                sp\n",
              "subtype           \n",
              "Usual           45\n",
              "Warty-Basaloid  24\n",
              "Warty           16\n",
              "Basaloid        11\n",
              "Papillary        9\n",
              "Verrucous        2\n",
              "Sarcomatoid      1"
            ]
          },
          "metadata": {
            "tags": []
          },
          "execution_count": 73
        }
      ]
    },
    {
      "cell_type": "markdown",
      "metadata": {
        "id": "g8WBa5QiRAsC",
        "colab_type": "text"
      },
      "source": [
        "The most common subtype, as expected was usual squamous cell carcinoma (45 cases), followed by warty-basaloid (24 cases), warty (16 cases) and basaloid (11 cases) carcinomas. Other subtypes included papillary (9 cases), verrucous (2 cases) and sarcomatoid (1 case) carcinomas."
      ]
    },
    {
      "cell_type": "markdown",
      "metadata": {
        "id": "0iTxH_dARAsC",
        "colab_type": "text"
      },
      "source": [
        "## Histologic grade"
      ]
    },
    {
      "cell_type": "code",
      "metadata": {
        "id": "4Y-L_4FtRAsC",
        "colab_type": "code",
        "colab": {
          "base_uri": "https://localhost:8080/",
          "height": 173
        },
        "outputId": "39fb9765-2622-41ab-ee05-a996513d3d64"
      },
      "source": [
        "df.groupby('grade')['n'].count().to_frame()"
      ],
      "execution_count": 74,
      "outputs": [
        {
          "output_type": "execute_result",
          "data": {
            "text/html": [
              "<div>\n",
              "<style scoped>\n",
              "    .dataframe tbody tr th:only-of-type {\n",
              "        vertical-align: middle;\n",
              "    }\n",
              "\n",
              "    .dataframe tbody tr th {\n",
              "        vertical-align: top;\n",
              "    }\n",
              "\n",
              "    .dataframe thead th {\n",
              "        text-align: right;\n",
              "    }\n",
              "</style>\n",
              "<table border=\"1\" class=\"dataframe\">\n",
              "  <thead>\n",
              "    <tr style=\"text-align: right;\">\n",
              "      <th></th>\n",
              "      <th>n</th>\n",
              "    </tr>\n",
              "    <tr>\n",
              "      <th>grade</th>\n",
              "      <th></th>\n",
              "    </tr>\n",
              "  </thead>\n",
              "  <tbody>\n",
              "    <tr>\n",
              "      <th>Grade 1</th>\n",
              "      <td>51</td>\n",
              "    </tr>\n",
              "    <tr>\n",
              "      <th>Grade 2</th>\n",
              "      <td>191</td>\n",
              "    </tr>\n",
              "    <tr>\n",
              "      <th>Grade 3</th>\n",
              "      <td>262</td>\n",
              "    </tr>\n",
              "  </tbody>\n",
              "</table>\n",
              "</div>"
            ],
            "text/plain": [
              "           n\n",
              "grade       \n",
              "Grade 1   51\n",
              "Grade 2  191\n",
              "Grade 3  262"
            ]
          },
          "metadata": {
            "tags": []
          },
          "execution_count": 74
        }
      ]
    },
    {
      "cell_type": "markdown",
      "metadata": {
        "id": "jXgoPHolRAsE",
        "colab_type": "text"
      },
      "source": [
        "Grade 1 was observed in 51 spots, grade 2 was observed in 191 spots, and grade 3 was observed in 262 spots. This over-representation of grade 3 tumors is expected considering the geographical location of the patients. Tumors in patients from geographic areas of high incidence of penile cancer tend to be larger and of higher grade. "
      ]
    },
    {
      "cell_type": "markdown",
      "metadata": {
        "id": "_oN48DL_RAsE",
        "colab_type": "text"
      },
      "source": [
        "## Host response"
      ]
    },
    {
      "cell_type": "code",
      "metadata": {
        "id": "sA-ihurwRAsF",
        "colab_type": "code",
        "colab": {
          "base_uri": "https://localhost:8080/",
          "height": 204
        },
        "outputId": "35acdc92-c4c3-4f04-fa4d-da16749e5815"
      },
      "source": [
        "df.groupby('host_response')['n'].count().to_frame()"
      ],
      "execution_count": 75,
      "outputs": [
        {
          "output_type": "execute_result",
          "data": {
            "text/html": [
              "<div>\n",
              "<style scoped>\n",
              "    .dataframe tbody tr th:only-of-type {\n",
              "        vertical-align: middle;\n",
              "    }\n",
              "\n",
              "    .dataframe tbody tr th {\n",
              "        vertical-align: top;\n",
              "    }\n",
              "\n",
              "    .dataframe thead th {\n",
              "        text-align: right;\n",
              "    }\n",
              "</style>\n",
              "<table border=\"1\" class=\"dataframe\">\n",
              "  <thead>\n",
              "    <tr style=\"text-align: right;\">\n",
              "      <th></th>\n",
              "      <th>n</th>\n",
              "    </tr>\n",
              "    <tr>\n",
              "      <th>host_response</th>\n",
              "      <th></th>\n",
              "    </tr>\n",
              "  </thead>\n",
              "  <tbody>\n",
              "    <tr>\n",
              "      <th>No inflammation</th>\n",
              "      <td>4</td>\n",
              "    </tr>\n",
              "    <tr>\n",
              "      <th>Mild inflammation</th>\n",
              "      <td>96</td>\n",
              "    </tr>\n",
              "    <tr>\n",
              "      <th>Moderate inflammation</th>\n",
              "      <td>154</td>\n",
              "    </tr>\n",
              "    <tr>\n",
              "      <th>Intense inflammation</th>\n",
              "      <td>250</td>\n",
              "    </tr>\n",
              "  </tbody>\n",
              "</table>\n",
              "</div>"
            ],
            "text/plain": [
              "                         n\n",
              "host_response             \n",
              "No inflammation          4\n",
              "Mild inflammation       96\n",
              "Moderate inflammation  154\n",
              "Intense inflammation   250"
            ]
          },
          "metadata": {
            "tags": []
          },
          "execution_count": 75
        }
      ]
    },
    {
      "cell_type": "markdown",
      "metadata": {
        "id": "ATYVIaE6RAsH",
        "colab_type": "text"
      },
      "source": [
        "In most cases, a host response was observed. In only 4 spots, no inflammatory cells were seen. In the remaining cases, mild inflammation was seen in 96 spots, moderate inflammation in 154 spots, and intense inflammation in 250 spots."
      ]
    },
    {
      "cell_type": "markdown",
      "metadata": {
        "id": "g6hxbQ4VRAsH",
        "colab_type": "text"
      },
      "source": [
        "## Association between pathologic features"
      ]
    },
    {
      "cell_type": "markdown",
      "metadata": {
        "id": "Zf1XlEEYRAsH",
        "colab_type": "text"
      },
      "source": [
        "### Histologic subtype and histologic grade"
      ]
    },
    {
      "cell_type": "code",
      "metadata": {
        "id": "ca2IyRPZRAsI",
        "colab_type": "code",
        "colab": {
          "base_uri": "https://localhost:8080/",
          "height": 297
        },
        "outputId": "d914ec8e-4f2a-46a6-a7e7-d6b256221183"
      },
      "source": [
        "tbl = df.groupby(['grade', 'subtype'])['n'].count().astype('int').to_frame()\n",
        "tbl_pivot = pd.pivot_table(tbl, index='subtype', columns='grade', values='n').fillna(0).astype('int')\n",
        "tbl_pivot"
      ],
      "execution_count": 76,
      "outputs": [
        {
          "output_type": "execute_result",
          "data": {
            "text/html": [
              "<div>\n",
              "<style scoped>\n",
              "    .dataframe tbody tr th:only-of-type {\n",
              "        vertical-align: middle;\n",
              "    }\n",
              "\n",
              "    .dataframe tbody tr th {\n",
              "        vertical-align: top;\n",
              "    }\n",
              "\n",
              "    .dataframe thead th {\n",
              "        text-align: right;\n",
              "    }\n",
              "</style>\n",
              "<table border=\"1\" class=\"dataframe\">\n",
              "  <thead>\n",
              "    <tr style=\"text-align: right;\">\n",
              "      <th>grade</th>\n",
              "      <th>Grade 1</th>\n",
              "      <th>Grade 2</th>\n",
              "      <th>Grade 3</th>\n",
              "    </tr>\n",
              "    <tr>\n",
              "      <th>subtype</th>\n",
              "      <th></th>\n",
              "      <th></th>\n",
              "      <th></th>\n",
              "    </tr>\n",
              "  </thead>\n",
              "  <tbody>\n",
              "    <tr>\n",
              "      <th>Basaloid</th>\n",
              "      <td>0</td>\n",
              "      <td>0</td>\n",
              "      <td>64</td>\n",
              "    </tr>\n",
              "    <tr>\n",
              "      <th>Papillary</th>\n",
              "      <td>13</td>\n",
              "      <td>26</td>\n",
              "      <td>1</td>\n",
              "    </tr>\n",
              "    <tr>\n",
              "      <th>Sarcomatoid</th>\n",
              "      <td>0</td>\n",
              "      <td>0</td>\n",
              "      <td>3</td>\n",
              "    </tr>\n",
              "    <tr>\n",
              "      <th>Usual</th>\n",
              "      <td>34</td>\n",
              "      <td>103</td>\n",
              "      <td>57</td>\n",
              "    </tr>\n",
              "    <tr>\n",
              "      <th>Verrucous</th>\n",
              "      <td>3</td>\n",
              "      <td>4</td>\n",
              "      <td>0</td>\n",
              "    </tr>\n",
              "    <tr>\n",
              "      <th>Warty</th>\n",
              "      <td>1</td>\n",
              "      <td>30</td>\n",
              "      <td>45</td>\n",
              "    </tr>\n",
              "    <tr>\n",
              "      <th>Warty-Basaloid</th>\n",
              "      <td>0</td>\n",
              "      <td>28</td>\n",
              "      <td>92</td>\n",
              "    </tr>\n",
              "  </tbody>\n",
              "</table>\n",
              "</div>"
            ],
            "text/plain": [
              "grade           Grade 1  Grade 2  Grade 3\n",
              "subtype                                  \n",
              "Basaloid              0        0       64\n",
              "Papillary            13       26        1\n",
              "Sarcomatoid           0        0        3\n",
              "Usual                34      103       57\n",
              "Verrucous             3        4        0\n",
              "Warty                 1       30       45\n",
              "Warty-Basaloid        0       28       92"
            ]
          },
          "metadata": {
            "tags": []
          },
          "execution_count": 76
        }
      ]
    },
    {
      "cell_type": "code",
      "metadata": {
        "id": "24LCxPK5RAsJ",
        "colab_type": "code",
        "colab": {
          "base_uri": "https://localhost:8080/",
          "height": 502
        },
        "outputId": "16cba9c3-49b2-4526-87cd-02ee1ffbce72"
      },
      "source": [
        "plt.figure(figsize=(12,8))\n",
        "sns.barplot(data=df, x='subtype', y='n', hue='grade', estimator=len)\n",
        "plt.show()"
      ],
      "execution_count": 77,
      "outputs": [
        {
          "output_type": "display_data",
          "data": {
            "image/png": "[encoded data removed]",
            "text/plain": [
              "<Figure size 864x576 with 1 Axes>"
            ]
          },
          "metadata": {
            "tags": []
          }
        }
      ]
    },
    {
      "cell_type": "code",
      "metadata": {
        "id": "JqL2lsyRRAsL",
        "colab_type": "code",
        "colab": {
          "base_uri": "https://localhost:8080/",
          "height": 187
        },
        "outputId": "870d01d7-c661-41df-ebf0-9fb69fbd0c6e"
      },
      "source": [
        "scipy.stats.chi2_contingency(tbl_pivot)"
      ],
      "execution_count": 78,
      "outputs": [
        {
          "output_type": "execute_result",
          "data": {
            "text/plain": [
              "(200.97885182466325,\n",
              " 2.0480921501804444e-36,\n",
              " 12,\n",
              " array([[  6.47619048,  24.25396825,  33.26984127],\n",
              "        [  4.04761905,  15.15873016,  20.79365079],\n",
              "        [  0.30357143,   1.13690476,   1.55952381],\n",
              "        [ 19.63095238,  73.51984127, 100.84920635],\n",
              "        [  0.70833333,   2.65277778,   3.63888889],\n",
              "        [  7.69047619,  28.8015873 ,  39.50793651],\n",
              "        [ 12.14285714,  45.47619048,  62.38095238]]))"
            ]
          },
          "metadata": {
            "tags": []
          },
          "execution_count": 78
        }
      ]
    },
    {
      "cell_type": "markdown",
      "metadata": {
        "id": "aWX6TqMQRAsM",
        "colab_type": "text"
      },
      "source": [
        "Basaloid and sarcomatoid carcinomas were entirely composed of grade 3 areas. Warty-basaloid and warty carcinomas were composed of predominantly grade 2 and grade 3 areas, while papillary and verrucous carcinoma were composed predominantly of grade 1 and grade 2 areas. Usual squamous cell carcinoma showed the heterogeneous aspect that it most common, with a mixture of histologic grades, predominantly grade 2 areas. This distribution pattern is totally consistent with the typical morphology of penile squamous cell carcinomas regarding histologic subtypes and grades. The association between histologic grade and histologic subtype was statistically significant ($\\chi^2 P<0.00001$)."
      ]
    },
    {
      "cell_type": "markdown",
      "metadata": {
        "id": "gY_tjwuoRAsN",
        "colab_type": "text"
      },
      "source": [
        "### Histologic subtype and host response"
      ]
    },
    {
      "cell_type": "code",
      "metadata": {
        "id": "dilV95qjRAsN",
        "colab_type": "code",
        "colab": {
          "base_uri": "https://localhost:8080/",
          "height": 297
        },
        "outputId": "81120e8b-ba9a-41a0-c318-0571baae4223"
      },
      "source": [
        "tbl = df.groupby(['subtype', 'host_response'])['n'].count().reset_index()\n",
        "tbl_pivot = pd.pivot_table(tbl, index='subtype', columns='host_response', values= 'n').fillna(0)\n",
        "tbl_pivot"
      ],
      "execution_count": 79,
      "outputs": [
        {
          "output_type": "execute_result",
          "data": {
            "text/html": [
              "<div>\n",
              "<style scoped>\n",
              "    .dataframe tbody tr th:only-of-type {\n",
              "        vertical-align: middle;\n",
              "    }\n",
              "\n",
              "    .dataframe tbody tr th {\n",
              "        vertical-align: top;\n",
              "    }\n",
              "\n",
              "    .dataframe thead th {\n",
              "        text-align: right;\n",
              "    }\n",
              "</style>\n",
              "<table border=\"1\" class=\"dataframe\">\n",
              "  <thead>\n",
              "    <tr style=\"text-align: right;\">\n",
              "      <th>host_response</th>\n",
              "      <th>No inflammation</th>\n",
              "      <th>Mild inflammation</th>\n",
              "      <th>Moderate inflammation</th>\n",
              "      <th>Intense inflammation</th>\n",
              "    </tr>\n",
              "    <tr>\n",
              "      <th>subtype</th>\n",
              "      <th></th>\n",
              "      <th></th>\n",
              "      <th></th>\n",
              "      <th></th>\n",
              "    </tr>\n",
              "  </thead>\n",
              "  <tbody>\n",
              "    <tr>\n",
              "      <th>Basaloid</th>\n",
              "      <td>1</td>\n",
              "      <td>12</td>\n",
              "      <td>17</td>\n",
              "      <td>34</td>\n",
              "    </tr>\n",
              "    <tr>\n",
              "      <th>Papillary</th>\n",
              "      <td>1</td>\n",
              "      <td>7</td>\n",
              "      <td>14</td>\n",
              "      <td>18</td>\n",
              "    </tr>\n",
              "    <tr>\n",
              "      <th>Sarcomatoid</th>\n",
              "      <td>0</td>\n",
              "      <td>0</td>\n",
              "      <td>0</td>\n",
              "      <td>3</td>\n",
              "    </tr>\n",
              "    <tr>\n",
              "      <th>Usual</th>\n",
              "      <td>0</td>\n",
              "      <td>36</td>\n",
              "      <td>61</td>\n",
              "      <td>95</td>\n",
              "    </tr>\n",
              "    <tr>\n",
              "      <th>Verrucous</th>\n",
              "      <td>0</td>\n",
              "      <td>5</td>\n",
              "      <td>0</td>\n",
              "      <td>2</td>\n",
              "    </tr>\n",
              "    <tr>\n",
              "      <th>Warty</th>\n",
              "      <td>1</td>\n",
              "      <td>14</td>\n",
              "      <td>21</td>\n",
              "      <td>41</td>\n",
              "    </tr>\n",
              "    <tr>\n",
              "      <th>Warty-Basaloid</th>\n",
              "      <td>1</td>\n",
              "      <td>22</td>\n",
              "      <td>41</td>\n",
              "      <td>57</td>\n",
              "    </tr>\n",
              "  </tbody>\n",
              "</table>\n",
              "</div>"
            ],
            "text/plain": [
              "host_response   No inflammation  ...  Intense inflammation\n",
              "subtype                          ...                      \n",
              "Basaloid                      1  ...                    34\n",
              "Papillary                     1  ...                    18\n",
              "Sarcomatoid                   0  ...                     3\n",
              "Usual                         0  ...                    95\n",
              "Verrucous                     0  ...                     2\n",
              "Warty                         1  ...                    41\n",
              "Warty-Basaloid                1  ...                    57\n",
              "\n",
              "[7 rows x 4 columns]"
            ]
          },
          "metadata": {
            "tags": []
          },
          "execution_count": 79
        }
      ]
    },
    {
      "cell_type": "code",
      "metadata": {
        "id": "taBAzLilRAsO",
        "colab_type": "code",
        "colab": {
          "base_uri": "https://localhost:8080/",
          "height": 502
        },
        "outputId": "ce70562d-ae26-494b-e1b4-b36b02b7ed57"
      },
      "source": [
        "plt.figure(figsize=(12,8))\n",
        "sns.barplot(data=df, x='subtype', y='n', hue='host_response', estimator=len)\n",
        "plt.show()"
      ],
      "execution_count": 80,
      "outputs": [
        {
          "output_type": "display_data",
          "data": {
            "image/png": "[encoded data removed]",
            "text/plain": [
              "<Figure size 864x576 with 1 Axes>"
            ]
          },
          "metadata": {
            "tags": []
          }
        }
      ]
    },
    {
      "cell_type": "code",
      "metadata": {
        "id": "cH0xXX7yRAsQ",
        "colab_type": "code",
        "colab": {
          "base_uri": "https://localhost:8080/",
          "height": 187
        },
        "outputId": "1d173789-2370-4dee-819c-c37abb943f03"
      },
      "source": [
        "scipy.stats.chi2_contingency(tbl_pivot)"
      ],
      "execution_count": 81,
      "outputs": [
        {
          "output_type": "execute_result",
          "data": {
            "text/plain": [
              "(21.892435086401203,\n",
              " 0.23679571230095706,\n",
              " 18,\n",
              " array([[5.07936508e-01, 1.21904762e+01, 1.95555556e+01, 3.17460317e+01],\n",
              "        [3.17460317e-01, 7.61904762e+00, 1.22222222e+01, 1.98412698e+01],\n",
              "        [2.38095238e-02, 5.71428571e-01, 9.16666667e-01, 1.48809524e+00],\n",
              "        [1.52380952e+00, 3.65714286e+01, 5.86666667e+01, 9.52380952e+01],\n",
              "        [5.55555556e-02, 1.33333333e+00, 2.13888889e+00, 3.47222222e+00],\n",
              "        [6.11111111e-01, 1.46666667e+01, 2.35277778e+01, 3.81944444e+01],\n",
              "        [9.60317460e-01, 2.30476190e+01, 3.69722222e+01, 6.00198413e+01]]))"
            ]
          },
          "metadata": {
            "tags": []
          },
          "execution_count": 81
        }
      ]
    },
    {
      "cell_type": "markdown",
      "metadata": {
        "id": "GYUA3aN7RAsS",
        "colab_type": "text"
      },
      "source": [
        "Intense inflammation predominanted across histologic subtypes, with a similar pattern observed previously, with no significant differences between host response and histologic subtypes ($\\chi^2 P=0.24$)."
      ]
    },
    {
      "cell_type": "markdown",
      "metadata": {
        "id": "8mZxiVK7RAsS",
        "colab_type": "text"
      },
      "source": [
        "### Histologic grade and host response"
      ]
    },
    {
      "cell_type": "code",
      "metadata": {
        "id": "Jw9YUNTmRAsS",
        "colab_type": "code",
        "colab": {
          "base_uri": "https://localhost:8080/",
          "height": 173
        },
        "outputId": "50ff87a3-7115-4ee6-e2de-04e3234e56ba"
      },
      "source": [
        "tbl = df.groupby(['grade', 'host_response'])['n'].count().reset_index()\n",
        "tbl_pivot = pd.pivot_table(tbl, index='grade', columns='host_response', values='n')\n",
        "tbl_pivot"
      ],
      "execution_count": 82,
      "outputs": [
        {
          "output_type": "execute_result",
          "data": {
            "text/html": [
              "<div>\n",
              "<style scoped>\n",
              "    .dataframe tbody tr th:only-of-type {\n",
              "        vertical-align: middle;\n",
              "    }\n",
              "\n",
              "    .dataframe tbody tr th {\n",
              "        vertical-align: top;\n",
              "    }\n",
              "\n",
              "    .dataframe thead th {\n",
              "        text-align: right;\n",
              "    }\n",
              "</style>\n",
              "<table border=\"1\" class=\"dataframe\">\n",
              "  <thead>\n",
              "    <tr style=\"text-align: right;\">\n",
              "      <th>host_response</th>\n",
              "      <th>No inflammation</th>\n",
              "      <th>Mild inflammation</th>\n",
              "      <th>Moderate inflammation</th>\n",
              "      <th>Intense inflammation</th>\n",
              "    </tr>\n",
              "    <tr>\n",
              "      <th>grade</th>\n",
              "      <th></th>\n",
              "      <th></th>\n",
              "      <th></th>\n",
              "      <th></th>\n",
              "    </tr>\n",
              "  </thead>\n",
              "  <tbody>\n",
              "    <tr>\n",
              "      <th>Grade 1</th>\n",
              "      <td>1</td>\n",
              "      <td>15</td>\n",
              "      <td>18</td>\n",
              "      <td>17</td>\n",
              "    </tr>\n",
              "    <tr>\n",
              "      <th>Grade 2</th>\n",
              "      <td>1</td>\n",
              "      <td>36</td>\n",
              "      <td>59</td>\n",
              "      <td>93</td>\n",
              "    </tr>\n",
              "    <tr>\n",
              "      <th>Grade 3</th>\n",
              "      <td>2</td>\n",
              "      <td>45</td>\n",
              "      <td>74</td>\n",
              "      <td>137</td>\n",
              "    </tr>\n",
              "  </tbody>\n",
              "</table>\n",
              "</div>"
            ],
            "text/plain": [
              "host_response  No inflammation  ...  Intense inflammation\n",
              "grade                           ...                      \n",
              "Grade 1                      1  ...                    17\n",
              "Grade 2                      1  ...                    93\n",
              "Grade 3                      2  ...                   137\n",
              "\n",
              "[3 rows x 4 columns]"
            ]
          },
          "metadata": {
            "tags": []
          },
          "execution_count": 82
        }
      ]
    },
    {
      "cell_type": "code",
      "metadata": {
        "id": "i8DIHKlxRAsU",
        "colab_type": "code",
        "colab": {
          "base_uri": "https://localhost:8080/",
          "height": 502
        },
        "outputId": "f6bc2736-f96a-4b32-ec6e-9698c592f307"
      },
      "source": [
        "plt.figure(figsize=(12,8))\n",
        "sns.barplot(data=df, x='grade', y='n', hue='host_response', estimator=len)\n",
        "plt.show()"
      ],
      "execution_count": 83,
      "outputs": [
        {
          "output_type": "display_data",
          "data": {
            "image/png": "[encoded data removed]",
            "text/plain": [
              "<Figure size 864x576 with 1 Axes>"
            ]
          },
          "metadata": {
            "tags": []
          }
        }
      ]
    },
    {
      "cell_type": "code",
      "metadata": {
        "id": "XoDMOA1ORAsV",
        "colab_type": "code",
        "colab": {
          "base_uri": "https://localhost:8080/",
          "height": 119
        },
        "outputId": "971f1e21-a1f9-43a0-c8bb-38fccd8b1ba2"
      },
      "source": [
        "scipy.stats.chi2_contingency(tbl_pivot)"
      ],
      "execution_count": 84,
      "outputs": [
        {
          "output_type": "execute_result",
          "data": {
            "text/plain": [
              "(8.26221387698151,\n",
              " 0.21951540966077826,\n",
              " 6,\n",
              " array([[  0.40963855,   9.8313253 ,  15.46385542,  25.29518072],\n",
              "        [  1.51807229,  36.43373494,  57.30722892,  93.74096386],\n",
              "        [  2.07228916,  49.73493976,  78.22891566, 127.96385542]]))"
            ]
          },
          "metadata": {
            "tags": []
          },
          "execution_count": 84
        }
      ]
    },
    {
      "cell_type": "markdown",
      "metadata": {
        "id": "wKtaJYDXRAsX",
        "colab_type": "text"
      },
      "source": [
        "Intense inflammation predominanted in grade 2 and grade 3 tumors, followed by moderate inflammation and mild inflammation. In grade 1 tumors, proportions of mild, moderate and intense inflammation were similar. These differences were not statistically significant ($\\chi^2 P=0.22$), indicating no association between histologic grade and host response."
      ]
    },
    {
      "cell_type": "markdown",
      "metadata": {
        "id": "FcNlXZkaRAsX",
        "colab_type": "text"
      },
      "source": [
        "# PD-L1"
      ]
    },
    {
      "cell_type": "markdown",
      "metadata": {
        "id": "dX5L4JZJRAsX",
        "colab_type": "text"
      },
      "source": [
        "PD-L1 expression was measured in tumor cells (percentage of positive cells and H-score) and in intratumoral lymphocytes (number of positive cells)."
      ]
    },
    {
      "cell_type": "markdown",
      "metadata": {
        "id": "FfgTuMbERAsY",
        "colab_type": "text"
      },
      "source": [
        "## Overall expression"
      ]
    },
    {
      "cell_type": "markdown",
      "metadata": {
        "id": "JWZwZmVERAsY",
        "colab_type": "text"
      },
      "source": [
        "### Tumor cells (%)"
      ]
    },
    {
      "cell_type": "code",
      "metadata": {
        "id": "tcHW-bdPRAsY",
        "colab_type": "code",
        "colab": {
          "base_uri": "https://localhost:8080/",
          "height": 297
        },
        "outputId": "fa4bce9e-5290-43c8-f384-36516eea05b0"
      },
      "source": [
        "df['pdl1_tumor'].describe().round().to_frame()"
      ],
      "execution_count": 85,
      "outputs": [
        {
          "output_type": "execute_result",
          "data": {
            "text/html": [
              "<div>\n",
              "<style scoped>\n",
              "    .dataframe tbody tr th:only-of-type {\n",
              "        vertical-align: middle;\n",
              "    }\n",
              "\n",
              "    .dataframe tbody tr th {\n",
              "        vertical-align: top;\n",
              "    }\n",
              "\n",
              "    .dataframe thead th {\n",
              "        text-align: right;\n",
              "    }\n",
              "</style>\n",
              "<table border=\"1\" class=\"dataframe\">\n",
              "  <thead>\n",
              "    <tr style=\"text-align: right;\">\n",
              "      <th></th>\n",
              "      <th>pdl1_tumor</th>\n",
              "    </tr>\n",
              "  </thead>\n",
              "  <tbody>\n",
              "    <tr>\n",
              "      <th>count</th>\n",
              "      <td>504.0</td>\n",
              "    </tr>\n",
              "    <tr>\n",
              "      <th>mean</th>\n",
              "      <td>26.0</td>\n",
              "    </tr>\n",
              "    <tr>\n",
              "      <th>std</th>\n",
              "      <td>34.0</td>\n",
              "    </tr>\n",
              "    <tr>\n",
              "      <th>min</th>\n",
              "      <td>0.0</td>\n",
              "    </tr>\n",
              "    <tr>\n",
              "      <th>25%</th>\n",
              "      <td>0.0</td>\n",
              "    </tr>\n",
              "    <tr>\n",
              "      <th>50%</th>\n",
              "      <td>5.0</td>\n",
              "    </tr>\n",
              "    <tr>\n",
              "      <th>75%</th>\n",
              "      <td>40.0</td>\n",
              "    </tr>\n",
              "    <tr>\n",
              "      <th>max</th>\n",
              "      <td>100.0</td>\n",
              "    </tr>\n",
              "  </tbody>\n",
              "</table>\n",
              "</div>"
            ],
            "text/plain": [
              "       pdl1_tumor\n",
              "count       504.0\n",
              "mean         26.0\n",
              "std          34.0\n",
              "min           0.0\n",
              "25%           0.0\n",
              "50%           5.0\n",
              "75%          40.0\n",
              "max         100.0"
            ]
          },
          "metadata": {
            "tags": []
          },
          "execution_count": 85
        }
      ]
    },
    {
      "cell_type": "markdown",
      "metadata": {
        "id": "uzExzMsLRAsa",
        "colab_type": "text"
      },
      "source": [
        "PD-L1 expression in tumor cells was evaluable in 504 spots. In tumor cells, mean expression was 26%, with a standard deviation of 34%. Median expression was 5%, with an interquartile range of 40%. The minimum value was 0% and the maximum value was 100%."
      ]
    },
    {
      "cell_type": "code",
      "metadata": {
        "id": "yHlPJZ7ERAsa",
        "colab_type": "code",
        "colab": {
          "base_uri": "https://localhost:8080/",
          "height": 485
        },
        "outputId": "3eb4af83-3337-49f2-873e-8881bfab0096"
      },
      "source": [
        "plt.figure(figsize=(12,8))\n",
        "sns.kdeplot(df['pdl1_tumor'].dropna(), shade=True)\n",
        "plt.show()"
      ],
      "execution_count": 86,
      "outputs": [
        {
          "output_type": "display_data",
          "data": {
            "image/png": "[encoded data removed]",
            "text/plain": [
              "<Figure size 864x576 with 1 Axes>"
            ]
          },
          "metadata": {
            "tags": []
          }
        }
      ]
    },
    {
      "cell_type": "markdown",
      "metadata": {
        "id": "H0dodrd5RAsb",
        "colab_type": "text"
      },
      "source": [
        "PD-L1 expression in tumor cells shows a marked right-skewed distribution, suggesting that most values were very low. A small peak is noted at higher values. Also, considering this distribution the median and the interquartile range are better measurements for the distribution than the mean and standard deviation."
      ]
    },
    {
      "cell_type": "code",
      "metadata": {
        "id": "6xzgdHNWRAsc",
        "colab_type": "code",
        "colab": {
          "base_uri": "https://localhost:8080/",
          "height": 111
        },
        "outputId": "8e55b5b8-d0b4-4c86-d6af-b2d565b96dc7"
      },
      "source": [
        "pdl1_tumor_pos1 = df['pdl1_tumor'].apply(lambda x: 'Positive' if x > 0 else 'Negative')\n",
        "pdl1_tumor_pos1.value_counts().to_frame()"
      ],
      "execution_count": 87,
      "outputs": [
        {
          "output_type": "execute_result",
          "data": {
            "text/html": [
              "<div>\n",
              "<style scoped>\n",
              "    .dataframe tbody tr th:only-of-type {\n",
              "        vertical-align: middle;\n",
              "    }\n",
              "\n",
              "    .dataframe tbody tr th {\n",
              "        vertical-align: top;\n",
              "    }\n",
              "\n",
              "    .dataframe thead th {\n",
              "        text-align: right;\n",
              "    }\n",
              "</style>\n",
              "<table border=\"1\" class=\"dataframe\">\n",
              "  <thead>\n",
              "    <tr style=\"text-align: right;\">\n",
              "      <th></th>\n",
              "      <th>pdl1_tumor</th>\n",
              "    </tr>\n",
              "  </thead>\n",
              "  <tbody>\n",
              "    <tr>\n",
              "      <th>Positive</th>\n",
              "      <td>331</td>\n",
              "    </tr>\n",
              "    <tr>\n",
              "      <th>Negative</th>\n",
              "      <td>197</td>\n",
              "    </tr>\n",
              "  </tbody>\n",
              "</table>\n",
              "</div>"
            ],
            "text/plain": [
              "          pdl1_tumor\n",
              "Positive         331\n",
              "Negative         197"
            ]
          },
          "metadata": {
            "tags": []
          },
          "execution_count": 87
        }
      ]
    },
    {
      "cell_type": "markdown",
      "metadata": {
        "id": "sVVvNtwuRAsd",
        "colab_type": "text"
      },
      "source": [
        "Considering 1% as the threshold for PD-L1 positivity, most spots (331) were positive, compared to negative spots (197)."
      ]
    },
    {
      "cell_type": "code",
      "metadata": {
        "id": "R8bSN4YBRAsd",
        "colab_type": "code",
        "colab": {
          "base_uri": "https://localhost:8080/",
          "height": 111
        },
        "outputId": "d754946e-874b-4759-8cec-80f63bc8f853"
      },
      "source": [
        "df['pdl1_tumor_location'].value_counts().to_frame()"
      ],
      "execution_count": 88,
      "outputs": [
        {
          "output_type": "execute_result",
          "data": {
            "text/html": [
              "<div>\n",
              "<style scoped>\n",
              "    .dataframe tbody tr th:only-of-type {\n",
              "        vertical-align: middle;\n",
              "    }\n",
              "\n",
              "    .dataframe tbody tr th {\n",
              "        vertical-align: top;\n",
              "    }\n",
              "\n",
              "    .dataframe thead th {\n",
              "        text-align: right;\n",
              "    }\n",
              "</style>\n",
              "<table border=\"1\" class=\"dataframe\">\n",
              "  <thead>\n",
              "    <tr style=\"text-align: right;\">\n",
              "      <th></th>\n",
              "      <th>pdl1_tumor_location</th>\n",
              "    </tr>\n",
              "  </thead>\n",
              "  <tbody>\n",
              "    <tr>\n",
              "      <th>Cytoplasmic/Membraneous</th>\n",
              "      <td>250</td>\n",
              "    </tr>\n",
              "    <tr>\n",
              "      <th>Cytplasmic</th>\n",
              "      <td>81</td>\n",
              "    </tr>\n",
              "  </tbody>\n",
              "</table>\n",
              "</div>"
            ],
            "text/plain": [
              "                         pdl1_tumor_location\n",
              "Cytoplasmic/Membraneous                  250\n",
              "Cytplasmic                                81"
            ]
          },
          "metadata": {
            "tags": []
          },
          "execution_count": 88
        }
      ]
    },
    {
      "cell_type": "markdown",
      "metadata": {
        "id": "jpZB2vABRAse",
        "colab_type": "text"
      },
      "source": [
        "Two patterns of PD-L1 expression were observed in tumor cells. The predominant pattern was cytoplasmic and membranous (250 spots) with only cytoplasmic expression in the remaining cases (81 spots)."
      ]
    },
    {
      "cell_type": "markdown",
      "metadata": {
        "id": "-u6wd8vtRAse",
        "colab_type": "text"
      },
      "source": [
        "### Tumor cells (H-score)"
      ]
    },
    {
      "cell_type": "code",
      "metadata": {
        "id": "qQFiSM4CRAsf",
        "colab_type": "code",
        "colab": {
          "base_uri": "https://localhost:8080/",
          "height": 297
        },
        "outputId": "8abc0a46-5a63-4765-b8b1-32c24ab153aa"
      },
      "source": [
        "df['pdl1_tumor_h'].describe().round().to_frame()"
      ],
      "execution_count": 89,
      "outputs": [
        {
          "output_type": "execute_result",
          "data": {
            "text/html": [
              "<div>\n",
              "<style scoped>\n",
              "    .dataframe tbody tr th:only-of-type {\n",
              "        vertical-align: middle;\n",
              "    }\n",
              "\n",
              "    .dataframe tbody tr th {\n",
              "        vertical-align: top;\n",
              "    }\n",
              "\n",
              "    .dataframe thead th {\n",
              "        text-align: right;\n",
              "    }\n",
              "</style>\n",
              "<table border=\"1\" class=\"dataframe\">\n",
              "  <thead>\n",
              "    <tr style=\"text-align: right;\">\n",
              "      <th></th>\n",
              "      <th>pdl1_tumor_h</th>\n",
              "    </tr>\n",
              "  </thead>\n",
              "  <tbody>\n",
              "    <tr>\n",
              "      <th>count</th>\n",
              "      <td>504.0</td>\n",
              "    </tr>\n",
              "    <tr>\n",
              "      <th>mean</th>\n",
              "      <td>36.0</td>\n",
              "    </tr>\n",
              "    <tr>\n",
              "      <th>std</th>\n",
              "      <td>60.0</td>\n",
              "    </tr>\n",
              "    <tr>\n",
              "      <th>min</th>\n",
              "      <td>0.0</td>\n",
              "    </tr>\n",
              "    <tr>\n",
              "      <th>25%</th>\n",
              "      <td>0.0</td>\n",
              "    </tr>\n",
              "    <tr>\n",
              "      <th>50%</th>\n",
              "      <td>5.0</td>\n",
              "    </tr>\n",
              "    <tr>\n",
              "      <th>75%</th>\n",
              "      <td>50.0</td>\n",
              "    </tr>\n",
              "    <tr>\n",
              "      <th>max</th>\n",
              "      <td>300.0</td>\n",
              "    </tr>\n",
              "  </tbody>\n",
              "</table>\n",
              "</div>"
            ],
            "text/plain": [
              "       pdl1_tumor_h\n",
              "count         504.0\n",
              "mean           36.0\n",
              "std            60.0\n",
              "min             0.0\n",
              "25%             0.0\n",
              "50%             5.0\n",
              "75%            50.0\n",
              "max           300.0"
            ]
          },
          "metadata": {
            "tags": []
          },
          "execution_count": 89
        }
      ]
    },
    {
      "cell_type": "markdown",
      "metadata": {
        "id": "-U_HxcUhRAsg",
        "colab_type": "text"
      },
      "source": [
        "Regarding H-scores, in tumor cells PD-L1 had a mean H-score of 36.4 with a standard deviation of 58.5. Median H-score was 5 and interquartile range was 50. The minimum and maximum values were 0 and 300, respectively."
      ]
    },
    {
      "cell_type": "code",
      "metadata": {
        "id": "MxmBaTxKRAsg",
        "colab_type": "code",
        "colab": {
          "base_uri": "https://localhost:8080/",
          "height": 485
        },
        "outputId": "c5d27cc2-7748-4c0d-f980-f84c15510478"
      },
      "source": [
        "plt.figure(figsize=(12,8))\n",
        "sns.kdeplot(df['pdl1_tumor_h'].dropna(), shade=True)\n",
        "plt.show()"
      ],
      "execution_count": 90,
      "outputs": [
        {
          "output_type": "display_data",
          "data": {
            "image/png": "[encoded data removed]",
            "text/plain": [
              "<Figure size 864x576 with 1 Axes>"
            ]
          },
          "metadata": {
            "tags": []
          }
        }
      ]
    },
    {
      "cell_type": "markdown",
      "metadata": {
        "id": "VzP3gUp8RAsh",
        "colab_type": "text"
      },
      "source": [
        "The distribution of H-scores showed the same right-skewed shape than with percentages, as expected. Similarly, the median and interquartile range are also better measurements of PD-L1 expression in tumor cells using H-scores."
      ]
    },
    {
      "cell_type": "markdown",
      "metadata": {
        "id": "QUSHXtbVRAsh",
        "colab_type": "text"
      },
      "source": [
        "### Intratumoral lymphocytes"
      ]
    },
    {
      "cell_type": "code",
      "metadata": {
        "id": "UhD1OKXjRAsi",
        "colab_type": "code",
        "colab": {
          "base_uri": "https://localhost:8080/",
          "height": 297
        },
        "outputId": "1afb6509-cb3e-4249-8fda-a011bc1ddac6"
      },
      "source": [
        "df['pdl1_lymph'].describe().round().to_frame()"
      ],
      "execution_count": 91,
      "outputs": [
        {
          "output_type": "execute_result",
          "data": {
            "text/html": [
              "<div>\n",
              "<style scoped>\n",
              "    .dataframe tbody tr th:only-of-type {\n",
              "        vertical-align: middle;\n",
              "    }\n",
              "\n",
              "    .dataframe tbody tr th {\n",
              "        vertical-align: top;\n",
              "    }\n",
              "\n",
              "    .dataframe thead th {\n",
              "        text-align: right;\n",
              "    }\n",
              "</style>\n",
              "<table border=\"1\" class=\"dataframe\">\n",
              "  <thead>\n",
              "    <tr style=\"text-align: right;\">\n",
              "      <th></th>\n",
              "      <th>pdl1_lymph</th>\n",
              "    </tr>\n",
              "  </thead>\n",
              "  <tbody>\n",
              "    <tr>\n",
              "      <th>count</th>\n",
              "      <td>497.0</td>\n",
              "    </tr>\n",
              "    <tr>\n",
              "      <th>mean</th>\n",
              "      <td>7.0</td>\n",
              "    </tr>\n",
              "    <tr>\n",
              "      <th>std</th>\n",
              "      <td>10.0</td>\n",
              "    </tr>\n",
              "    <tr>\n",
              "      <th>min</th>\n",
              "      <td>0.0</td>\n",
              "    </tr>\n",
              "    <tr>\n",
              "      <th>25%</th>\n",
              "      <td>1.0</td>\n",
              "    </tr>\n",
              "    <tr>\n",
              "      <th>50%</th>\n",
              "      <td>5.0</td>\n",
              "    </tr>\n",
              "    <tr>\n",
              "      <th>75%</th>\n",
              "      <td>10.0</td>\n",
              "    </tr>\n",
              "    <tr>\n",
              "      <th>max</th>\n",
              "      <td>70.0</td>\n",
              "    </tr>\n",
              "  </tbody>\n",
              "</table>\n",
              "</div>"
            ],
            "text/plain": [
              "       pdl1_lymph\n",
              "count       497.0\n",
              "mean          7.0\n",
              "std          10.0\n",
              "min           0.0\n",
              "25%           1.0\n",
              "50%           5.0\n",
              "75%          10.0\n",
              "max          70.0"
            ]
          },
          "metadata": {
            "tags": []
          },
          "execution_count": 91
        }
      ]
    },
    {
      "cell_type": "markdown",
      "metadata": {
        "id": "0G4DIzCRRAsj",
        "colab_type": "text"
      },
      "source": [
        "PD-L1 expression in intratumoral lymphocytes was evaluable in 497 spots. In intratumoral lymphocytes, PD-L1 positivity was observed in a mean of 7 lymphocytes, with a standard deviation of 10 lymphocytes. The median number of positive PD-L1 intratumoral lymphocytes was 5, with an interquartile range of 9 lymphocytes. The minimum and maximum number of positive lymphocytes were 0 and 70, respectively."
      ]
    },
    {
      "cell_type": "code",
      "metadata": {
        "id": "NRxmGoGgRAsj",
        "colab_type": "code",
        "colab": {
          "base_uri": "https://localhost:8080/",
          "height": 485
        },
        "outputId": "b41350f5-f40b-4a2e-fafd-86cf99b8a826"
      },
      "source": [
        "plt.figure(figsize=(12,8))\n",
        "sns.kdeplot(df['pdl1_lymph'].dropna(), shade=True)\n",
        "plt.show()"
      ],
      "execution_count": 92,
      "outputs": [
        {
          "output_type": "display_data",
          "data": {
            "image/png": "[encoded data removed]",
            "text/plain": [
              "<Figure size 864x576 with 1 Axes>"
            ]
          },
          "metadata": {
            "tags": []
          }
        }
      ]
    },
    {
      "cell_type": "markdown",
      "metadata": {
        "id": "OUYppql2RAsk",
        "colab_type": "text"
      },
      "source": [
        "The distribution of PD-L1 in intratumoral lymphocytes was right-skewed, similar to the distribution observed for PD-L1 expression in tumor cells."
      ]
    },
    {
      "cell_type": "markdown",
      "metadata": {
        "id": "Hd5_5vyjRAsk",
        "colab_type": "text"
      },
      "source": [
        "### Tumor cells vs intratumoral lymphocytes"
      ]
    },
    {
      "cell_type": "code",
      "metadata": {
        "id": "fNNN1BHxRAsl",
        "colab_type": "code",
        "colab": {
          "base_uri": "https://localhost:8080/",
          "height": 502
        },
        "outputId": "cfa24ee4-04d9-4d8e-91e9-e088686abd2a"
      },
      "source": [
        "plt.figure(figsize=(12,8))\n",
        "sns.scatterplot(data=df, x='pdl1_tumor', y='pdl1_lymph')\n",
        "plt.show()"
      ],
      "execution_count": 93,
      "outputs": [
        {
          "output_type": "display_data",
          "data": {
            "image/png": "[encoded data removed]",
            "text/plain": [
              "<Figure size 864x576 with 1 Axes>"
            ]
          },
          "metadata": {
            "tags": []
          }
        }
      ]
    },
    {
      "cell_type": "code",
      "metadata": {
        "id": "f6UWSznHRAsm",
        "colab_type": "code",
        "colab": {
          "base_uri": "https://localhost:8080/",
          "height": 34
        },
        "outputId": "73dd103f-1a31-46e9-f420-623939a46180"
      },
      "source": [
        "tbl = df[['pdl1_tumor', 'pdl1_lymph']].dropna()\n",
        "scipy.stats.spearmanr(tbl['pdl1_tumor'], tbl['pdl1_lymph'])"
      ],
      "execution_count": 94,
      "outputs": [
        {
          "output_type": "execute_result",
          "data": {
            "text/plain": [
              "SpearmanrResult(correlation=0.47488302809363037, pvalue=2.545391466655867e-29)"
            ]
          },
          "metadata": {
            "tags": []
          },
          "execution_count": 94
        }
      ]
    },
    {
      "cell_type": "markdown",
      "metadata": {
        "id": "mgrSNRAmRAsn",
        "colab_type": "text"
      },
      "source": [
        "A scatterplot of PD-L1 expression in tumor cells and in intratumoral lymphocytes showed an apparent positive association. This positive association was confirmed using Spearman's correlation test, which showed a statistically significant, moderate positive correlation ($\\rho=0.47, P<0.0001$)."
      ]
    },
    {
      "cell_type": "markdown",
      "metadata": {
        "id": "ztOZNGD_RAsn",
        "colab_type": "text"
      },
      "source": [
        "## Histologic subtype"
      ]
    },
    {
      "cell_type": "markdown",
      "metadata": {
        "id": "g4SXMEbtRAsn",
        "colab_type": "text"
      },
      "source": [
        "### Tumor cells (%)"
      ]
    },
    {
      "cell_type": "code",
      "metadata": {
        "id": "M3q1dcIYRAso",
        "colab_type": "code",
        "colab": {
          "base_uri": "https://localhost:8080/",
          "height": 297
        },
        "outputId": "f4c875d7-e71d-4c5f-87f0-b84178c088d4"
      },
      "source": [
        "df.groupby('subtype')['pdl1_tumor'].describe().round()"
      ],
      "execution_count": 95,
      "outputs": [
        {
          "output_type": "execute_result",
          "data": {
            "text/html": [
              "<div>\n",
              "<style scoped>\n",
              "    .dataframe tbody tr th:only-of-type {\n",
              "        vertical-align: middle;\n",
              "    }\n",
              "\n",
              "    .dataframe tbody tr th {\n",
              "        vertical-align: top;\n",
              "    }\n",
              "\n",
              "    .dataframe thead th {\n",
              "        text-align: right;\n",
              "    }\n",
              "</style>\n",
              "<table border=\"1\" class=\"dataframe\">\n",
              "  <thead>\n",
              "    <tr style=\"text-align: right;\">\n",
              "      <th></th>\n",
              "      <th>count</th>\n",
              "      <th>mean</th>\n",
              "      <th>std</th>\n",
              "      <th>min</th>\n",
              "      <th>25%</th>\n",
              "      <th>50%</th>\n",
              "      <th>75%</th>\n",
              "      <th>max</th>\n",
              "    </tr>\n",
              "    <tr>\n",
              "      <th>subtype</th>\n",
              "      <th></th>\n",
              "      <th></th>\n",
              "      <th></th>\n",
              "      <th></th>\n",
              "      <th></th>\n",
              "      <th></th>\n",
              "      <th></th>\n",
              "      <th></th>\n",
              "    </tr>\n",
              "  </thead>\n",
              "  <tbody>\n",
              "    <tr>\n",
              "      <th>Basaloid</th>\n",
              "      <td>64.0</td>\n",
              "      <td>32.0</td>\n",
              "      <td>32.0</td>\n",
              "      <td>0.0</td>\n",
              "      <td>0.0</td>\n",
              "      <td>25.0</td>\n",
              "      <td>50.0</td>\n",
              "      <td>100.0</td>\n",
              "    </tr>\n",
              "    <tr>\n",
              "      <th>Papillary</th>\n",
              "      <td>40.0</td>\n",
              "      <td>1.0</td>\n",
              "      <td>4.0</td>\n",
              "      <td>0.0</td>\n",
              "      <td>0.0</td>\n",
              "      <td>0.0</td>\n",
              "      <td>0.0</td>\n",
              "      <td>20.0</td>\n",
              "    </tr>\n",
              "    <tr>\n",
              "      <th>Sarcomatoid</th>\n",
              "      <td>3.0</td>\n",
              "      <td>100.0</td>\n",
              "      <td>0.0</td>\n",
              "      <td>100.0</td>\n",
              "      <td>100.0</td>\n",
              "      <td>100.0</td>\n",
              "      <td>100.0</td>\n",
              "      <td>100.0</td>\n",
              "    </tr>\n",
              "    <tr>\n",
              "      <th>Usual</th>\n",
              "      <td>192.0</td>\n",
              "      <td>25.0</td>\n",
              "      <td>35.0</td>\n",
              "      <td>0.0</td>\n",
              "      <td>0.0</td>\n",
              "      <td>5.0</td>\n",
              "      <td>50.0</td>\n",
              "      <td>100.0</td>\n",
              "    </tr>\n",
              "    <tr>\n",
              "      <th>Verrucous</th>\n",
              "      <td>7.0</td>\n",
              "      <td>0.0</td>\n",
              "      <td>0.0</td>\n",
              "      <td>0.0</td>\n",
              "      <td>0.0</td>\n",
              "      <td>0.0</td>\n",
              "      <td>0.0</td>\n",
              "      <td>0.0</td>\n",
              "    </tr>\n",
              "    <tr>\n",
              "      <th>Warty</th>\n",
              "      <td>77.0</td>\n",
              "      <td>15.0</td>\n",
              "      <td>23.0</td>\n",
              "      <td>0.0</td>\n",
              "      <td>0.0</td>\n",
              "      <td>5.0</td>\n",
              "      <td>20.0</td>\n",
              "      <td>90.0</td>\n",
              "    </tr>\n",
              "    <tr>\n",
              "      <th>Warty-Basaloid</th>\n",
              "      <td>121.0</td>\n",
              "      <td>37.0</td>\n",
              "      <td>39.0</td>\n",
              "      <td>0.0</td>\n",
              "      <td>2.0</td>\n",
              "      <td>20.0</td>\n",
              "      <td>80.0</td>\n",
              "      <td>100.0</td>\n",
              "    </tr>\n",
              "  </tbody>\n",
              "</table>\n",
              "</div>"
            ],
            "text/plain": [
              "                count   mean   std    min    25%    50%    75%    max\n",
              "subtype                                                              \n",
              "Basaloid         64.0   32.0  32.0    0.0    0.0   25.0   50.0  100.0\n",
              "Papillary        40.0    1.0   4.0    0.0    0.0    0.0    0.0   20.0\n",
              "Sarcomatoid       3.0  100.0   0.0  100.0  100.0  100.0  100.0  100.0\n",
              "Usual           192.0   25.0  35.0    0.0    0.0    5.0   50.0  100.0\n",
              "Verrucous         7.0    0.0   0.0    0.0    0.0    0.0    0.0    0.0\n",
              "Warty            77.0   15.0  23.0    0.0    0.0    5.0   20.0   90.0\n",
              "Warty-Basaloid  121.0   37.0  39.0    0.0    2.0   20.0   80.0  100.0"
            ]
          },
          "metadata": {
            "tags": []
          },
          "execution_count": 95
        }
      ]
    },
    {
      "cell_type": "code",
      "metadata": {
        "id": "pSv1NWnXRAsp",
        "colab_type": "code",
        "colab": {
          "base_uri": "https://localhost:8080/",
          "height": 502
        },
        "outputId": "220dda73-c67e-4ba8-f58b-0f7136806a41"
      },
      "source": [
        "plt.figure(figsize=(12,8))\n",
        "sns.barplot(data=df, x='subtype', y='pdl1_tumor', ci=None, estimator=np.median)\n",
        "plt.ylabel('Median expression')\n",
        "plt.show()"
      ],
      "execution_count": 96,
      "outputs": [
        {
          "output_type": "display_data",
          "data": {
            "image/png": "[encoded data removed]",
            "text/plain": [
              "<Figure size 864x576 with 1 Axes>"
            ]
          },
          "metadata": {
            "tags": []
          }
        }
      ]
    },
    {
      "cell_type": "markdown",
      "metadata": {
        "id": "FCs44h3qRAsq",
        "colab_type": "text"
      },
      "source": [
        "When consider percentage of positive cells, higher expression of PD-L1 in tumor cells were noted for the sarcomatoid, basaloid and warty-basaloid subtypes (median of 100%, 25% and 20%, respectively). Low expression levels were noted in the usual and warty subtypes (5%), while the median expression was 0% for the papillary and verrucous subtypes."
      ]
    },
    {
      "cell_type": "markdown",
      "metadata": {
        "id": "0ruSj97oRAsq",
        "colab_type": "text"
      },
      "source": [
        "### Tumor cells (H-score)"
      ]
    },
    {
      "cell_type": "code",
      "metadata": {
        "id": "tTNR0-hXRAsq",
        "colab_type": "code",
        "colab": {
          "base_uri": "https://localhost:8080/",
          "height": 297
        },
        "outputId": "15d375b8-2e97-4d05-e7c6-3990447817c8"
      },
      "source": [
        "df.groupby('subtype')['pdl1_tumor_h'].describe().round()"
      ],
      "execution_count": 97,
      "outputs": [
        {
          "output_type": "execute_result",
          "data": {
            "text/html": [
              "<div>\n",
              "<style scoped>\n",
              "    .dataframe tbody tr th:only-of-type {\n",
              "        vertical-align: middle;\n",
              "    }\n",
              "\n",
              "    .dataframe tbody tr th {\n",
              "        vertical-align: top;\n",
              "    }\n",
              "\n",
              "    .dataframe thead th {\n",
              "        text-align: right;\n",
              "    }\n",
              "</style>\n",
              "<table border=\"1\" class=\"dataframe\">\n",
              "  <thead>\n",
              "    <tr style=\"text-align: right;\">\n",
              "      <th></th>\n",
              "      <th>count</th>\n",
              "      <th>mean</th>\n",
              "      <th>std</th>\n",
              "      <th>min</th>\n",
              "      <th>25%</th>\n",
              "      <th>50%</th>\n",
              "      <th>75%</th>\n",
              "      <th>max</th>\n",
              "    </tr>\n",
              "    <tr>\n",
              "      <th>subtype</th>\n",
              "      <th></th>\n",
              "      <th></th>\n",
              "      <th></th>\n",
              "      <th></th>\n",
              "      <th></th>\n",
              "      <th></th>\n",
              "      <th></th>\n",
              "      <th></th>\n",
              "    </tr>\n",
              "  </thead>\n",
              "  <tbody>\n",
              "    <tr>\n",
              "      <th>Basaloid</th>\n",
              "      <td>64.0</td>\n",
              "      <td>36.0</td>\n",
              "      <td>39.0</td>\n",
              "      <td>0.0</td>\n",
              "      <td>0.0</td>\n",
              "      <td>28.0</td>\n",
              "      <td>50.0</td>\n",
              "      <td>150.0</td>\n",
              "    </tr>\n",
              "    <tr>\n",
              "      <th>Papillary</th>\n",
              "      <td>40.0</td>\n",
              "      <td>1.0</td>\n",
              "      <td>5.0</td>\n",
              "      <td>0.0</td>\n",
              "      <td>0.0</td>\n",
              "      <td>0.0</td>\n",
              "      <td>0.0</td>\n",
              "      <td>25.0</td>\n",
              "    </tr>\n",
              "    <tr>\n",
              "      <th>Sarcomatoid</th>\n",
              "      <td>3.0</td>\n",
              "      <td>293.0</td>\n",
              "      <td>12.0</td>\n",
              "      <td>280.0</td>\n",
              "      <td>290.0</td>\n",
              "      <td>300.0</td>\n",
              "      <td>300.0</td>\n",
              "      <td>300.0</td>\n",
              "    </tr>\n",
              "    <tr>\n",
              "      <th>Usual</th>\n",
              "      <td>192.0</td>\n",
              "      <td>38.0</td>\n",
              "      <td>60.0</td>\n",
              "      <td>0.0</td>\n",
              "      <td>0.0</td>\n",
              "      <td>5.0</td>\n",
              "      <td>56.0</td>\n",
              "      <td>280.0</td>\n",
              "    </tr>\n",
              "    <tr>\n",
              "      <th>Verrucous</th>\n",
              "      <td>7.0</td>\n",
              "      <td>0.0</td>\n",
              "      <td>0.0</td>\n",
              "      <td>0.0</td>\n",
              "      <td>0.0</td>\n",
              "      <td>0.0</td>\n",
              "      <td>0.0</td>\n",
              "      <td>0.0</td>\n",
              "    </tr>\n",
              "    <tr>\n",
              "      <th>Warty</th>\n",
              "      <td>77.0</td>\n",
              "      <td>16.0</td>\n",
              "      <td>25.0</td>\n",
              "      <td>0.0</td>\n",
              "      <td>0.0</td>\n",
              "      <td>5.0</td>\n",
              "      <td>20.0</td>\n",
              "      <td>100.0</td>\n",
              "    </tr>\n",
              "    <tr>\n",
              "      <th>Warty-Basaloid</th>\n",
              "      <td>121.0</td>\n",
              "      <td>55.0</td>\n",
              "      <td>71.0</td>\n",
              "      <td>0.0</td>\n",
              "      <td>2.0</td>\n",
              "      <td>20.0</td>\n",
              "      <td>90.0</td>\n",
              "      <td>300.0</td>\n",
              "    </tr>\n",
              "  </tbody>\n",
              "</table>\n",
              "</div>"
            ],
            "text/plain": [
              "                count   mean   std    min    25%    50%    75%    max\n",
              "subtype                                                              \n",
              "Basaloid         64.0   36.0  39.0    0.0    0.0   28.0   50.0  150.0\n",
              "Papillary        40.0    1.0   5.0    0.0    0.0    0.0    0.0   25.0\n",
              "Sarcomatoid       3.0  293.0  12.0  280.0  290.0  300.0  300.0  300.0\n",
              "Usual           192.0   38.0  60.0    0.0    0.0    5.0   56.0  280.0\n",
              "Verrucous         7.0    0.0   0.0    0.0    0.0    0.0    0.0    0.0\n",
              "Warty            77.0   16.0  25.0    0.0    0.0    5.0   20.0  100.0\n",
              "Warty-Basaloid  121.0   55.0  71.0    0.0    2.0   20.0   90.0  300.0"
            ]
          },
          "metadata": {
            "tags": []
          },
          "execution_count": 97
        }
      ]
    },
    {
      "cell_type": "code",
      "metadata": {
        "id": "5GbPOVBpRAss",
        "colab_type": "code",
        "colab": {
          "base_uri": "https://localhost:8080/",
          "height": 502
        },
        "outputId": "434b3d57-b774-4323-a117-4d79ce977517"
      },
      "source": [
        "plt.figure(figsize=(12,8))\n",
        "sns.barplot(data=df, x='subtype', y='pdl1_tumor_h', ci=None, estimator=np.median)\n",
        "plt.ylabel('Median expression')\n",
        "plt.show()"
      ],
      "execution_count": 98,
      "outputs": [
        {
          "output_type": "display_data",
          "data": {
            "image/png": "[encoded data removed]",
            "text/plain": [
              "<Figure size 864x576 with 1 Axes>"
            ]
          },
          "metadata": {
            "tags": []
          }
        }
      ]
    },
    {
      "cell_type": "markdown",
      "metadata": {
        "id": "EdOcWHwSRAst",
        "colab_type": "text"
      },
      "source": [
        "The pattern of PD-L1 expression in tumor cells when using H-scores was similar to the expression pattern when using percentage of positive tumor cells."
      ]
    },
    {
      "cell_type": "markdown",
      "metadata": {
        "id": "qrPO3_51RAst",
        "colab_type": "text"
      },
      "source": [
        "### Intratumoral lymphocytes"
      ]
    },
    {
      "cell_type": "code",
      "metadata": {
        "id": "dOn0efQvRAst",
        "colab_type": "code",
        "colab": {
          "base_uri": "https://localhost:8080/",
          "height": 297
        },
        "outputId": "4ad2bfd6-07a6-4a24-96f8-674f985c0ee6"
      },
      "source": [
        "df.groupby('subtype')['pdl1_lymph'].describe().round()"
      ],
      "execution_count": 99,
      "outputs": [
        {
          "output_type": "execute_result",
          "data": {
            "text/html": [
              "<div>\n",
              "<style scoped>\n",
              "    .dataframe tbody tr th:only-of-type {\n",
              "        vertical-align: middle;\n",
              "    }\n",
              "\n",
              "    .dataframe tbody tr th {\n",
              "        vertical-align: top;\n",
              "    }\n",
              "\n",
              "    .dataframe thead th {\n",
              "        text-align: right;\n",
              "    }\n",
              "</style>\n",
              "<table border=\"1\" class=\"dataframe\">\n",
              "  <thead>\n",
              "    <tr style=\"text-align: right;\">\n",
              "      <th></th>\n",
              "      <th>count</th>\n",
              "      <th>mean</th>\n",
              "      <th>std</th>\n",
              "      <th>min</th>\n",
              "      <th>25%</th>\n",
              "      <th>50%</th>\n",
              "      <th>75%</th>\n",
              "      <th>max</th>\n",
              "    </tr>\n",
              "    <tr>\n",
              "      <th>subtype</th>\n",
              "      <th></th>\n",
              "      <th></th>\n",
              "      <th></th>\n",
              "      <th></th>\n",
              "      <th></th>\n",
              "      <th></th>\n",
              "      <th></th>\n",
              "      <th></th>\n",
              "    </tr>\n",
              "  </thead>\n",
              "  <tbody>\n",
              "    <tr>\n",
              "      <th>Basaloid</th>\n",
              "      <td>63.0</td>\n",
              "      <td>9.0</td>\n",
              "      <td>12.0</td>\n",
              "      <td>0.0</td>\n",
              "      <td>2.0</td>\n",
              "      <td>5.0</td>\n",
              "      <td>10.0</td>\n",
              "      <td>60.0</td>\n",
              "    </tr>\n",
              "    <tr>\n",
              "      <th>Papillary</th>\n",
              "      <td>37.0</td>\n",
              "      <td>3.0</td>\n",
              "      <td>4.0</td>\n",
              "      <td>0.0</td>\n",
              "      <td>0.0</td>\n",
              "      <td>2.0</td>\n",
              "      <td>5.0</td>\n",
              "      <td>20.0</td>\n",
              "    </tr>\n",
              "    <tr>\n",
              "      <th>Sarcomatoid</th>\n",
              "      <td>3.0</td>\n",
              "      <td>18.0</td>\n",
              "      <td>10.0</td>\n",
              "      <td>10.0</td>\n",
              "      <td>12.0</td>\n",
              "      <td>15.0</td>\n",
              "      <td>22.0</td>\n",
              "      <td>30.0</td>\n",
              "    </tr>\n",
              "    <tr>\n",
              "      <th>Usual</th>\n",
              "      <td>192.0</td>\n",
              "      <td>9.0</td>\n",
              "      <td>12.0</td>\n",
              "      <td>0.0</td>\n",
              "      <td>1.0</td>\n",
              "      <td>5.0</td>\n",
              "      <td>10.0</td>\n",
              "      <td>70.0</td>\n",
              "    </tr>\n",
              "    <tr>\n",
              "      <th>Verrucous</th>\n",
              "      <td>7.0</td>\n",
              "      <td>0.0</td>\n",
              "      <td>1.0</td>\n",
              "      <td>0.0</td>\n",
              "      <td>0.0</td>\n",
              "      <td>0.0</td>\n",
              "      <td>0.0</td>\n",
              "      <td>2.0</td>\n",
              "    </tr>\n",
              "    <tr>\n",
              "      <th>Warty</th>\n",
              "      <td>75.0</td>\n",
              "      <td>6.0</td>\n",
              "      <td>9.0</td>\n",
              "      <td>0.0</td>\n",
              "      <td>0.0</td>\n",
              "      <td>5.0</td>\n",
              "      <td>6.0</td>\n",
              "      <td>40.0</td>\n",
              "    </tr>\n",
              "    <tr>\n",
              "      <th>Warty-Basaloid</th>\n",
              "      <td>120.0</td>\n",
              "      <td>6.0</td>\n",
              "      <td>8.0</td>\n",
              "      <td>0.0</td>\n",
              "      <td>1.0</td>\n",
              "      <td>5.0</td>\n",
              "      <td>10.0</td>\n",
              "      <td>50.0</td>\n",
              "    </tr>\n",
              "  </tbody>\n",
              "</table>\n",
              "</div>"
            ],
            "text/plain": [
              "                count  mean   std   min   25%   50%   75%   max\n",
              "subtype                                                        \n",
              "Basaloid         63.0   9.0  12.0   0.0   2.0   5.0  10.0  60.0\n",
              "Papillary        37.0   3.0   4.0   0.0   0.0   2.0   5.0  20.0\n",
              "Sarcomatoid       3.0  18.0  10.0  10.0  12.0  15.0  22.0  30.0\n",
              "Usual           192.0   9.0  12.0   0.0   1.0   5.0  10.0  70.0\n",
              "Verrucous         7.0   0.0   1.0   0.0   0.0   0.0   0.0   2.0\n",
              "Warty            75.0   6.0   9.0   0.0   0.0   5.0   6.0  40.0\n",
              "Warty-Basaloid  120.0   6.0   8.0   0.0   1.0   5.0  10.0  50.0"
            ]
          },
          "metadata": {
            "tags": []
          },
          "execution_count": 99
        }
      ]
    },
    {
      "cell_type": "code",
      "metadata": {
        "id": "K7rlvx11RAsu",
        "colab_type": "code",
        "colab": {
          "base_uri": "https://localhost:8080/",
          "height": 502
        },
        "outputId": "b9af685e-962e-4bce-eb6a-616cff7d38c1"
      },
      "source": [
        "plt.figure(figsize=(12,8))\n",
        "sns.barplot(data=df, x='subtype', y='pdl1_lymph', ci=None, estimator=np.median)\n",
        "plt.ylabel('Median expression')\n",
        "plt.show()"
      ],
      "execution_count": 100,
      "outputs": [
        {
          "output_type": "display_data",
          "data": {
            "image/png": "[encoded data removed]",
            "text/plain": [
              "<Figure size 864x576 with 1 Axes>"
            ]
          },
          "metadata": {
            "tags": []
          }
        }
      ]
    },
    {
      "cell_type": "markdown",
      "metadata": {
        "id": "mVgn54ahRAsw",
        "colab_type": "text"
      },
      "source": [
        "Regarding the association of histologic subtypes and PD-L1 expression in intratumoral lymphocytes, a pattern similar to PD-L1 expression in tumor cells was observed."
      ]
    },
    {
      "cell_type": "markdown",
      "metadata": {
        "id": "JO8NEeIFRAsw",
        "colab_type": "text"
      },
      "source": [
        "## Histologic grade"
      ]
    },
    {
      "cell_type": "markdown",
      "metadata": {
        "id": "x_jvCxFzRAsw",
        "colab_type": "text"
      },
      "source": [
        "### Tumor cells (%)"
      ]
    },
    {
      "cell_type": "code",
      "metadata": {
        "id": "9xMIHv7-RAsw",
        "colab_type": "code",
        "colab": {
          "base_uri": "https://localhost:8080/",
          "height": 173
        },
        "outputId": "3fd257d5-f219-4852-a07c-b594a1a7330b"
      },
      "source": [
        "df.groupby('grade')['pdl1_tumor'].describe().round()"
      ],
      "execution_count": 101,
      "outputs": [
        {
          "output_type": "execute_result",
          "data": {
            "text/html": [
              "<div>\n",
              "<style scoped>\n",
              "    .dataframe tbody tr th:only-of-type {\n",
              "        vertical-align: middle;\n",
              "    }\n",
              "\n",
              "    .dataframe tbody tr th {\n",
              "        vertical-align: top;\n",
              "    }\n",
              "\n",
              "    .dataframe thead th {\n",
              "        text-align: right;\n",
              "    }\n",
              "</style>\n",
              "<table border=\"1\" class=\"dataframe\">\n",
              "  <thead>\n",
              "    <tr style=\"text-align: right;\">\n",
              "      <th></th>\n",
              "      <th>count</th>\n",
              "      <th>mean</th>\n",
              "      <th>std</th>\n",
              "      <th>min</th>\n",
              "      <th>25%</th>\n",
              "      <th>50%</th>\n",
              "      <th>75%</th>\n",
              "      <th>max</th>\n",
              "    </tr>\n",
              "    <tr>\n",
              "      <th>grade</th>\n",
              "      <th></th>\n",
              "      <th></th>\n",
              "      <th></th>\n",
              "      <th></th>\n",
              "      <th></th>\n",
              "      <th></th>\n",
              "      <th></th>\n",
              "      <th></th>\n",
              "    </tr>\n",
              "  </thead>\n",
              "  <tbody>\n",
              "    <tr>\n",
              "      <th>Grade 1</th>\n",
              "      <td>51.0</td>\n",
              "      <td>8.0</td>\n",
              "      <td>21.0</td>\n",
              "      <td>0.0</td>\n",
              "      <td>0.0</td>\n",
              "      <td>0.0</td>\n",
              "      <td>5.0</td>\n",
              "      <td>90.0</td>\n",
              "    </tr>\n",
              "    <tr>\n",
              "      <th>Grade 2</th>\n",
              "      <td>189.0</td>\n",
              "      <td>21.0</td>\n",
              "      <td>34.0</td>\n",
              "      <td>0.0</td>\n",
              "      <td>0.0</td>\n",
              "      <td>1.0</td>\n",
              "      <td>30.0</td>\n",
              "      <td>100.0</td>\n",
              "    </tr>\n",
              "    <tr>\n",
              "      <th>Grade 3</th>\n",
              "      <td>258.0</td>\n",
              "      <td>32.0</td>\n",
              "      <td>36.0</td>\n",
              "      <td>0.0</td>\n",
              "      <td>1.0</td>\n",
              "      <td>15.0</td>\n",
              "      <td>60.0</td>\n",
              "      <td>100.0</td>\n",
              "    </tr>\n",
              "  </tbody>\n",
              "</table>\n",
              "</div>"
            ],
            "text/plain": [
              "         count  mean   std  min  25%   50%   75%    max\n",
              "grade                                                  \n",
              "Grade 1   51.0   8.0  21.0  0.0  0.0   0.0   5.0   90.0\n",
              "Grade 2  189.0  21.0  34.0  0.0  0.0   1.0  30.0  100.0\n",
              "Grade 3  258.0  32.0  36.0  0.0  1.0  15.0  60.0  100.0"
            ]
          },
          "metadata": {
            "tags": []
          },
          "execution_count": 101
        }
      ]
    },
    {
      "cell_type": "code",
      "metadata": {
        "id": "v9qGLGzFRAsx",
        "colab_type": "code",
        "colab": {
          "base_uri": "https://localhost:8080/",
          "height": 502
        },
        "outputId": "0d1e8b7a-f52d-459d-f18a-5e7ae1b00fd4"
      },
      "source": [
        "plt.figure(figsize=(12,8))\n",
        "sns.barplot(data=df, x='grade', y='pdl1_tumor', ci=None, estimator=np.median)\n",
        "plt.ylabel('Median expression')\n",
        "plt.show()"
      ],
      "execution_count": 102,
      "outputs": [
        {
          "output_type": "display_data",
          "data": {
            "image/png": "[encoded data removed]",
            "text/plain": [
              "<Figure size 864x576 with 1 Axes>"
            ]
          },
          "metadata": {
            "tags": []
          }
        }
      ]
    },
    {
      "cell_type": "code",
      "metadata": {
        "id": "EruckzuTRAsz",
        "colab_type": "code",
        "colab": {
          "base_uri": "https://localhost:8080/",
          "height": 502
        },
        "outputId": "1f0daf94-00c3-4219-84ca-b02b92e9ddc8"
      },
      "source": [
        "plt.figure(figsize=(12,8))\n",
        "sns.pointplot(data=df, x='grade', y='pdl1_tumor', capsize=0.15, estimator=np.median)\n",
        "plt.ylabel('Median expression')\n",
        "plt.show()"
      ],
      "execution_count": 103,
      "outputs": [
        {
          "output_type": "display_data",
          "data": {
            "image/png": "[encoded data removed]",
            "text/plain": [
              "<Figure size 864x576 with 1 Axes>"
            ]
          },
          "metadata": {
            "tags": []
          }
        }
      ]
    },
    {
      "cell_type": "code",
      "metadata": {
        "id": "vMR1qvg_RAs0",
        "colab_type": "code",
        "colab": {
          "base_uri": "https://localhost:8080/",
          "height": 34
        },
        "outputId": "e28ae943-ca37-452a-cb46-ed49493dd22d"
      },
      "source": [
        "scipy.stats.kruskal(*[dataframe['pdl1_tumor'].values for name, dataframe in df.groupby('grade')], nan_policy='omit')"
      ],
      "execution_count": 104,
      "outputs": [
        {
          "output_type": "execute_result",
          "data": {
            "text/plain": [
              "KruskalResult(statistic=45.007819501150415, pvalue=1.685295938205074e-10)"
            ]
          },
          "metadata": {
            "tags": []
          },
          "execution_count": 104
        }
      ]
    },
    {
      "cell_type": "markdown",
      "metadata": {
        "id": "kMRtIYGdRAs1",
        "colab_type": "text"
      },
      "source": [
        "Percentage of positive PD-L1 tumor cells increased from grade 1 to grade 2 to grade 3 tumors (median of 0%, 1% and 15%), suggesting an association between PD-L1 positivity in tumor cells and histologic grade. The Kruskal-Wallis test yielded a P value < 0.0001, indicating that the percentage differences were unlikely to be seen by chance alone."
      ]
    },
    {
      "cell_type": "markdown",
      "metadata": {
        "id": "ER3SO7ZdRAs1",
        "colab_type": "text"
      },
      "source": [
        "### Tumor cells (H-score)"
      ]
    },
    {
      "cell_type": "code",
      "metadata": {
        "id": "jxHp197mRAs1",
        "colab_type": "code",
        "colab": {
          "base_uri": "https://localhost:8080/",
          "height": 173
        },
        "outputId": "8019a2d6-3f1a-4f5f-9c55-8bd54b2c7f35"
      },
      "source": [
        "df.groupby('grade')['pdl1_tumor_h'].describe().round()"
      ],
      "execution_count": 105,
      "outputs": [
        {
          "output_type": "execute_result",
          "data": {
            "text/html": [
              "<div>\n",
              "<style scoped>\n",
              "    .dataframe tbody tr th:only-of-type {\n",
              "        vertical-align: middle;\n",
              "    }\n",
              "\n",
              "    .dataframe tbody tr th {\n",
              "        vertical-align: top;\n",
              "    }\n",
              "\n",
              "    .dataframe thead th {\n",
              "        text-align: right;\n",
              "    }\n",
              "</style>\n",
              "<table border=\"1\" class=\"dataframe\">\n",
              "  <thead>\n",
              "    <tr style=\"text-align: right;\">\n",
              "      <th></th>\n",
              "      <th>count</th>\n",
              "      <th>mean</th>\n",
              "      <th>std</th>\n",
              "      <th>min</th>\n",
              "      <th>25%</th>\n",
              "      <th>50%</th>\n",
              "      <th>75%</th>\n",
              "      <th>max</th>\n",
              "    </tr>\n",
              "    <tr>\n",
              "      <th>grade</th>\n",
              "      <th></th>\n",
              "      <th></th>\n",
              "      <th></th>\n",
              "      <th></th>\n",
              "      <th></th>\n",
              "      <th></th>\n",
              "      <th></th>\n",
              "      <th></th>\n",
              "    </tr>\n",
              "  </thead>\n",
              "  <tbody>\n",
              "    <tr>\n",
              "      <th>Grade 1</th>\n",
              "      <td>51.0</td>\n",
              "      <td>12.0</td>\n",
              "      <td>35.0</td>\n",
              "      <td>0.0</td>\n",
              "      <td>0.0</td>\n",
              "      <td>0.0</td>\n",
              "      <td>5.0</td>\n",
              "      <td>160.0</td>\n",
              "    </tr>\n",
              "    <tr>\n",
              "      <th>Grade 2</th>\n",
              "      <td>189.0</td>\n",
              "      <td>29.0</td>\n",
              "      <td>51.0</td>\n",
              "      <td>0.0</td>\n",
              "      <td>0.0</td>\n",
              "      <td>1.0</td>\n",
              "      <td>35.0</td>\n",
              "      <td>250.0</td>\n",
              "    </tr>\n",
              "    <tr>\n",
              "      <th>Grade 3</th>\n",
              "      <td>258.0</td>\n",
              "      <td>47.0</td>\n",
              "      <td>67.0</td>\n",
              "      <td>0.0</td>\n",
              "      <td>1.0</td>\n",
              "      <td>18.0</td>\n",
              "      <td>64.0</td>\n",
              "      <td>300.0</td>\n",
              "    </tr>\n",
              "  </tbody>\n",
              "</table>\n",
              "</div>"
            ],
            "text/plain": [
              "         count  mean   std  min  25%   50%   75%    max\n",
              "grade                                                  \n",
              "Grade 1   51.0  12.0  35.0  0.0  0.0   0.0   5.0  160.0\n",
              "Grade 2  189.0  29.0  51.0  0.0  0.0   1.0  35.0  250.0\n",
              "Grade 3  258.0  47.0  67.0  0.0  1.0  18.0  64.0  300.0"
            ]
          },
          "metadata": {
            "tags": []
          },
          "execution_count": 105
        }
      ]
    },
    {
      "cell_type": "code",
      "metadata": {
        "id": "9j_8tgMbRAs3",
        "colab_type": "code",
        "colab": {
          "base_uri": "https://localhost:8080/",
          "height": 502
        },
        "outputId": "11dbdf5b-5ad3-4543-d507-62ea4d324fb2"
      },
      "source": [
        "plt.figure(figsize=(12,8))\n",
        "sns.barplot(data=df, x='grade', y='pdl1_tumor_h', ci=None, estimator=np.median)\n",
        "plt.ylabel('Median expression')\n",
        "plt.show()"
      ],
      "execution_count": 106,
      "outputs": [
        {
          "output_type": "display_data",
          "data": {
            "image/png": "[encoded data removed]",
            "text/plain": [
              "<Figure size 864x576 with 1 Axes>"
            ]
          },
          "metadata": {
            "tags": []
          }
        }
      ]
    },
    {
      "cell_type": "code",
      "metadata": {
        "id": "GkjCMqL3RAs4",
        "colab_type": "code",
        "colab": {
          "base_uri": "https://localhost:8080/",
          "height": 502
        },
        "outputId": "75481256-5d1d-4b49-bf67-dc3c6c2e011a"
      },
      "source": [
        "plt.figure(figsize=(12,8))\n",
        "sns.pointplot(data=df, x='grade', y='pdl1_tumor_h', capsize=0.15, estimator=np.median)\n",
        "plt.ylabel('Median expression')\n",
        "plt.show()"
      ],
      "execution_count": 107,
      "outputs": [
        {
          "output_type": "display_data",
          "data": {
            "image/png": "[encoded data removed]",
            "text/plain": [
              "<Figure size 864x576 with 1 Axes>"
            ]
          },
          "metadata": {
            "tags": []
          }
        }
      ]
    },
    {
      "cell_type": "code",
      "metadata": {
        "id": "YVIMzcEmRAs5",
        "colab_type": "code",
        "colab": {
          "base_uri": "https://localhost:8080/",
          "height": 34
        },
        "outputId": "57bf7bab-e263-4d65-efa5-3d0207806cb7"
      },
      "source": [
        "scipy.stats.kruskal(*[dataframe['pdl1_tumor_h'].values for name, dataframe in df.groupby('grade')], nan_policy='omit')"
      ],
      "execution_count": 108,
      "outputs": [
        {
          "output_type": "execute_result",
          "data": {
            "text/plain": [
              "KruskalResult(statistic=44.18165477974459, pvalue=2.547273420023182e-10)"
            ]
          },
          "metadata": {
            "tags": []
          },
          "execution_count": 108
        }
      ]
    },
    {
      "cell_type": "markdown",
      "metadata": {
        "id": "48Wy5ougRAs6",
        "colab_type": "text"
      },
      "source": [
        "A similar pattern of PD-L1 expression measured by H-score and histologic grades was also observed, from a median of 0 points (grade 1) to 1 point (grade 2) to 18 points (grade 3). These differences were statistically significant (P<0.0001)."
      ]
    },
    {
      "cell_type": "markdown",
      "metadata": {
        "id": "oeic1WNiRAs6",
        "colab_type": "text"
      },
      "source": [
        "### Intratumoral lymphocytes"
      ]
    },
    {
      "cell_type": "code",
      "metadata": {
        "id": "7pYKgGrdRAs6",
        "colab_type": "code",
        "colab": {
          "base_uri": "https://localhost:8080/",
          "height": 173
        },
        "outputId": "879d4963-2be6-4211-e94c-0b9e3493ca27"
      },
      "source": [
        "df.groupby('grade')['pdl1_lymph'].describe().round()"
      ],
      "execution_count": 109,
      "outputs": [
        {
          "output_type": "execute_result",
          "data": {
            "text/html": [
              "<div>\n",
              "<style scoped>\n",
              "    .dataframe tbody tr th:only-of-type {\n",
              "        vertical-align: middle;\n",
              "    }\n",
              "\n",
              "    .dataframe tbody tr th {\n",
              "        vertical-align: top;\n",
              "    }\n",
              "\n",
              "    .dataframe thead th {\n",
              "        text-align: right;\n",
              "    }\n",
              "</style>\n",
              "<table border=\"1\" class=\"dataframe\">\n",
              "  <thead>\n",
              "    <tr style=\"text-align: right;\">\n",
              "      <th></th>\n",
              "      <th>count</th>\n",
              "      <th>mean</th>\n",
              "      <th>std</th>\n",
              "      <th>min</th>\n",
              "      <th>25%</th>\n",
              "      <th>50%</th>\n",
              "      <th>75%</th>\n",
              "      <th>max</th>\n",
              "    </tr>\n",
              "    <tr>\n",
              "      <th>grade</th>\n",
              "      <th></th>\n",
              "      <th></th>\n",
              "      <th></th>\n",
              "      <th></th>\n",
              "      <th></th>\n",
              "      <th></th>\n",
              "      <th></th>\n",
              "      <th></th>\n",
              "    </tr>\n",
              "  </thead>\n",
              "  <tbody>\n",
              "    <tr>\n",
              "      <th>Grade 1</th>\n",
              "      <td>48.0</td>\n",
              "      <td>9.0</td>\n",
              "      <td>14.0</td>\n",
              "      <td>0.0</td>\n",
              "      <td>1.0</td>\n",
              "      <td>2.0</td>\n",
              "      <td>6.0</td>\n",
              "      <td>60.0</td>\n",
              "    </tr>\n",
              "    <tr>\n",
              "      <th>Grade 2</th>\n",
              "      <td>187.0</td>\n",
              "      <td>6.0</td>\n",
              "      <td>9.0</td>\n",
              "      <td>0.0</td>\n",
              "      <td>0.0</td>\n",
              "      <td>2.0</td>\n",
              "      <td>8.0</td>\n",
              "      <td>60.0</td>\n",
              "    </tr>\n",
              "    <tr>\n",
              "      <th>Grade 3</th>\n",
              "      <td>256.0</td>\n",
              "      <td>8.0</td>\n",
              "      <td>11.0</td>\n",
              "      <td>0.0</td>\n",
              "      <td>1.0</td>\n",
              "      <td>5.0</td>\n",
              "      <td>10.0</td>\n",
              "      <td>70.0</td>\n",
              "    </tr>\n",
              "  </tbody>\n",
              "</table>\n",
              "</div>"
            ],
            "text/plain": [
              "         count  mean   std  min  25%  50%   75%   max\n",
              "grade                                                \n",
              "Grade 1   48.0   9.0  14.0  0.0  1.0  2.0   6.0  60.0\n",
              "Grade 2  187.0   6.0   9.0  0.0  0.0  2.0   8.0  60.0\n",
              "Grade 3  256.0   8.0  11.0  0.0  1.0  5.0  10.0  70.0"
            ]
          },
          "metadata": {
            "tags": []
          },
          "execution_count": 109
        }
      ]
    },
    {
      "cell_type": "code",
      "metadata": {
        "id": "3srR1NO8RAs7",
        "colab_type": "code",
        "colab": {
          "base_uri": "https://localhost:8080/",
          "height": 502
        },
        "outputId": "3c183e77-789f-45ae-9be8-e1f75ef4feea"
      },
      "source": [
        "plt.figure(figsize=(12,8))\n",
        "sns.barplot(data=df, x='grade', y='pdl1_lymph', ci=None, estimator=np.median)\n",
        "plt.ylabel('Median expression')\n",
        "plt.show()"
      ],
      "execution_count": 110,
      "outputs": [
        {
          "output_type": "display_data",
          "data": {
            "image/png": "[encoded data removed]",
            "text/plain": [
              "<Figure size 864x576 with 1 Axes>"
            ]
          },
          "metadata": {
            "tags": []
          }
        }
      ]
    },
    {
      "cell_type": "code",
      "metadata": {
        "id": "o-RsNb8xRAs9",
        "colab_type": "code",
        "colab": {
          "base_uri": "https://localhost:8080/",
          "height": 502
        },
        "outputId": "da22e9e3-1b92-4e71-e195-5d2423af35ff"
      },
      "source": [
        "plt.figure(figsize=(12,8))\n",
        "sns.pointplot(data=df, x='grade', y='pdl1_lymph', estimator=np.median, ci=None)\n",
        "plt.show()"
      ],
      "execution_count": 111,
      "outputs": [
        {
          "output_type": "display_data",
          "data": {
            "image/png": "[encoded data removed]",
            "text/plain": [
              "<Figure size 864x576 with 1 Axes>"
            ]
          },
          "metadata": {
            "tags": []
          }
        }
      ]
    },
    {
      "cell_type": "code",
      "metadata": {
        "id": "xjkf6u-qRAs-",
        "colab_type": "code",
        "colab": {
          "base_uri": "https://localhost:8080/",
          "height": 34
        },
        "outputId": "3bf6e3c4-2b05-4bb8-8b8b-df3f5b02061c"
      },
      "source": [
        "scipy.stats.kruskal(*[dataframe['pdl1_lymph'].values for name, dataframe in df.groupby('grade')], nan_policy='omit')"
      ],
      "execution_count": 112,
      "outputs": [
        {
          "output_type": "execute_result",
          "data": {
            "text/plain": [
              "KruskalResult(statistic=8.572216344872485, pvalue=0.013758366427775618)"
            ]
          },
          "metadata": {
            "tags": []
          },
          "execution_count": 112
        }
      ]
    },
    {
      "cell_type": "markdown",
      "metadata": {
        "id": "6iqrabyfRAs_",
        "colab_type": "text"
      },
      "source": [
        "A similar trend was observed between histologic grade and PD-L1 expression in intratumoral lymphocytes, but to a lesser degree of statistical significance (P=0.01)."
      ]
    },
    {
      "cell_type": "markdown",
      "metadata": {
        "id": "1ZbuUQxFRAs_",
        "colab_type": "text"
      },
      "source": [
        "## Host response"
      ]
    },
    {
      "cell_type": "markdown",
      "metadata": {
        "id": "84Lzyg3xRAs_",
        "colab_type": "text"
      },
      "source": [
        "### Tumor cells (%)"
      ]
    },
    {
      "cell_type": "code",
      "metadata": {
        "id": "sUxVH02NRAs_",
        "colab_type": "code",
        "colab": {
          "base_uri": "https://localhost:8080/",
          "height": 204
        },
        "outputId": "d636db57-61af-4a90-9068-33a987225a95"
      },
      "source": [
        "df.groupby('host_response')['pdl1_tumor'].describe().round()"
      ],
      "execution_count": 113,
      "outputs": [
        {
          "output_type": "execute_result",
          "data": {
            "text/html": [
              "<div>\n",
              "<style scoped>\n",
              "    .dataframe tbody tr th:only-of-type {\n",
              "        vertical-align: middle;\n",
              "    }\n",
              "\n",
              "    .dataframe tbody tr th {\n",
              "        vertical-align: top;\n",
              "    }\n",
              "\n",
              "    .dataframe thead th {\n",
              "        text-align: right;\n",
              "    }\n",
              "</style>\n",
              "<table border=\"1\" class=\"dataframe\">\n",
              "  <thead>\n",
              "    <tr style=\"text-align: right;\">\n",
              "      <th></th>\n",
              "      <th>count</th>\n",
              "      <th>mean</th>\n",
              "      <th>std</th>\n",
              "      <th>min</th>\n",
              "      <th>25%</th>\n",
              "      <th>50%</th>\n",
              "      <th>75%</th>\n",
              "      <th>max</th>\n",
              "    </tr>\n",
              "    <tr>\n",
              "      <th>host_response</th>\n",
              "      <th></th>\n",
              "      <th></th>\n",
              "      <th></th>\n",
              "      <th></th>\n",
              "      <th></th>\n",
              "      <th></th>\n",
              "      <th></th>\n",
              "      <th></th>\n",
              "    </tr>\n",
              "  </thead>\n",
              "  <tbody>\n",
              "    <tr>\n",
              "      <th>No inflammation</th>\n",
              "      <td>4.0</td>\n",
              "      <td>25.0</td>\n",
              "      <td>50.0</td>\n",
              "      <td>0.0</td>\n",
              "      <td>0.0</td>\n",
              "      <td>0.0</td>\n",
              "      <td>25.0</td>\n",
              "      <td>100.0</td>\n",
              "    </tr>\n",
              "    <tr>\n",
              "      <th>Mild inflammation</th>\n",
              "      <td>96.0</td>\n",
              "      <td>16.0</td>\n",
              "      <td>27.0</td>\n",
              "      <td>0.0</td>\n",
              "      <td>0.0</td>\n",
              "      <td>1.0</td>\n",
              "      <td>20.0</td>\n",
              "      <td>100.0</td>\n",
              "    </tr>\n",
              "    <tr>\n",
              "      <th>Moderate inflammation</th>\n",
              "      <td>154.0</td>\n",
              "      <td>19.0</td>\n",
              "      <td>30.0</td>\n",
              "      <td>0.0</td>\n",
              "      <td>0.0</td>\n",
              "      <td>2.0</td>\n",
              "      <td>20.0</td>\n",
              "      <td>100.0</td>\n",
              "    </tr>\n",
              "    <tr>\n",
              "      <th>Intense inflammation</th>\n",
              "      <td>250.0</td>\n",
              "      <td>34.0</td>\n",
              "      <td>37.0</td>\n",
              "      <td>0.0</td>\n",
              "      <td>0.0</td>\n",
              "      <td>15.0</td>\n",
              "      <td>60.0</td>\n",
              "      <td>100.0</td>\n",
              "    </tr>\n",
              "  </tbody>\n",
              "</table>\n",
              "</div>"
            ],
            "text/plain": [
              "                       count  mean   std  min  25%   50%   75%    max\n",
              "host_response                                                        \n",
              "No inflammation          4.0  25.0  50.0  0.0  0.0   0.0  25.0  100.0\n",
              "Mild inflammation       96.0  16.0  27.0  0.0  0.0   1.0  20.0  100.0\n",
              "Moderate inflammation  154.0  19.0  30.0  0.0  0.0   2.0  20.0  100.0\n",
              "Intense inflammation   250.0  34.0  37.0  0.0  0.0  15.0  60.0  100.0"
            ]
          },
          "metadata": {
            "tags": []
          },
          "execution_count": 113
        }
      ]
    },
    {
      "cell_type": "code",
      "metadata": {
        "id": "mYo8q78MRAtA",
        "colab_type": "code",
        "colab": {
          "base_uri": "https://localhost:8080/",
          "height": 502
        },
        "outputId": "bc845432-5dc2-4209-a9d6-8e7de3c91942"
      },
      "source": [
        "plt.figure(figsize=(12,8))\n",
        "sns.barplot(data=df, x='host_response', y='pdl1_tumor', ci=None, estimator=np.median)\n",
        "plt.ylabel('Median PD-L1 expression')\n",
        "plt.show()"
      ],
      "execution_count": 114,
      "outputs": [
        {
          "output_type": "display_data",
          "data": {
            "image/png": "[encoded data removed]",
            "text/plain": [
              "<Figure size 864x576 with 1 Axes>"
            ]
          },
          "metadata": {
            "tags": []
          }
        }
      ]
    },
    {
      "cell_type": "code",
      "metadata": {
        "id": "sgUBFBMARAtB",
        "colab_type": "code",
        "colab": {
          "base_uri": "https://localhost:8080/",
          "height": 34
        },
        "outputId": "73718282-0f94-4169-d25a-2cdaf598fe2a"
      },
      "source": [
        "scipy.stats.kruskal(*[dataframe['pdl1_tumor'].values for name, dataframe in df.groupby('host_response')], na_policy='omit')"
      ],
      "execution_count": 115,
      "outputs": [
        {
          "output_type": "execute_result",
          "data": {
            "text/plain": [
              "KruskalResult(statistic=26.767222082827473, pvalue=6.587391320445661e-06)"
            ]
          },
          "metadata": {
            "tags": []
          },
          "execution_count": 115
        }
      ]
    },
    {
      "cell_type": "markdown",
      "metadata": {
        "id": "EJ8G9pTbRAtC",
        "colab_type": "text"
      },
      "source": [
        "Median percentage of PD-L1 positive tumors cells increased from mild to intense inflammation. Median PD-L1 positive tumors cells was 0% when no inflammation was seen, 1% with mild inflammation, 2% with moderate inflammation and 15% with intense inflammation. This assocation was statistically significant (Kruskal-Wallis $P<0.0001$)."
      ]
    },
    {
      "cell_type": "markdown",
      "metadata": {
        "id": "62EToAYHRAtD",
        "colab_type": "text"
      },
      "source": [
        "### Tumor cells (H-score)"
      ]
    },
    {
      "cell_type": "code",
      "metadata": {
        "id": "9AlKIXNbRAtD",
        "colab_type": "code",
        "colab": {
          "base_uri": "https://localhost:8080/",
          "height": 204
        },
        "outputId": "b7584d3a-a743-4770-a728-14b8d0b48999"
      },
      "source": [
        "df.groupby('host_response')['pdl1_tumor_h'].describe().round()"
      ],
      "execution_count": 116,
      "outputs": [
        {
          "output_type": "execute_result",
          "data": {
            "text/html": [
              "<div>\n",
              "<style scoped>\n",
              "    .dataframe tbody tr th:only-of-type {\n",
              "        vertical-align: middle;\n",
              "    }\n",
              "\n",
              "    .dataframe tbody tr th {\n",
              "        vertical-align: top;\n",
              "    }\n",
              "\n",
              "    .dataframe thead th {\n",
              "        text-align: right;\n",
              "    }\n",
              "</style>\n",
              "<table border=\"1\" class=\"dataframe\">\n",
              "  <thead>\n",
              "    <tr style=\"text-align: right;\">\n",
              "      <th></th>\n",
              "      <th>count</th>\n",
              "      <th>mean</th>\n",
              "      <th>std</th>\n",
              "      <th>min</th>\n",
              "      <th>25%</th>\n",
              "      <th>50%</th>\n",
              "      <th>75%</th>\n",
              "      <th>max</th>\n",
              "    </tr>\n",
              "    <tr>\n",
              "      <th>host_response</th>\n",
              "      <th></th>\n",
              "      <th></th>\n",
              "      <th></th>\n",
              "      <th></th>\n",
              "      <th></th>\n",
              "      <th></th>\n",
              "      <th></th>\n",
              "      <th></th>\n",
              "    </tr>\n",
              "  </thead>\n",
              "  <tbody>\n",
              "    <tr>\n",
              "      <th>No inflammation</th>\n",
              "      <td>4.0</td>\n",
              "      <td>75.0</td>\n",
              "      <td>150.0</td>\n",
              "      <td>0.0</td>\n",
              "      <td>0.0</td>\n",
              "      <td>0.0</td>\n",
              "      <td>75.0</td>\n",
              "      <td>300.0</td>\n",
              "    </tr>\n",
              "    <tr>\n",
              "      <th>Mild inflammation</th>\n",
              "      <td>96.0</td>\n",
              "      <td>20.0</td>\n",
              "      <td>36.0</td>\n",
              "      <td>0.0</td>\n",
              "      <td>0.0</td>\n",
              "      <td>1.0</td>\n",
              "      <td>20.0</td>\n",
              "      <td>150.0</td>\n",
              "    </tr>\n",
              "    <tr>\n",
              "      <th>Moderate inflammation</th>\n",
              "      <td>154.0</td>\n",
              "      <td>26.0</td>\n",
              "      <td>51.0</td>\n",
              "      <td>0.0</td>\n",
              "      <td>0.0</td>\n",
              "      <td>2.0</td>\n",
              "      <td>26.0</td>\n",
              "      <td>280.0</td>\n",
              "    </tr>\n",
              "    <tr>\n",
              "      <th>Intense inflammation</th>\n",
              "      <td>250.0</td>\n",
              "      <td>49.0</td>\n",
              "      <td>66.0</td>\n",
              "      <td>0.0</td>\n",
              "      <td>0.0</td>\n",
              "      <td>18.0</td>\n",
              "      <td>80.0</td>\n",
              "      <td>300.0</td>\n",
              "    </tr>\n",
              "  </tbody>\n",
              "</table>\n",
              "</div>"
            ],
            "text/plain": [
              "                       count  mean    std  min  25%   50%   75%    max\n",
              "host_response                                                         \n",
              "No inflammation          4.0  75.0  150.0  0.0  0.0   0.0  75.0  300.0\n",
              "Mild inflammation       96.0  20.0   36.0  0.0  0.0   1.0  20.0  150.0\n",
              "Moderate inflammation  154.0  26.0   51.0  0.0  0.0   2.0  26.0  280.0\n",
              "Intense inflammation   250.0  49.0   66.0  0.0  0.0  18.0  80.0  300.0"
            ]
          },
          "metadata": {
            "tags": []
          },
          "execution_count": 116
        }
      ]
    },
    {
      "cell_type": "code",
      "metadata": {
        "id": "xt14lm2ERAtE",
        "colab_type": "code",
        "colab": {
          "base_uri": "https://localhost:8080/",
          "height": 502
        },
        "outputId": "80f8dee0-571b-490a-ad0a-c705168ee9be"
      },
      "source": [
        "plt.figure(figsize=(12,8))\n",
        "sns.barplot(data=df, x='host_response', y='pdl1_tumor_h', ci=None, estimator=np.median)\n",
        "plt.ylabel('Median PD-L1 expression')\n",
        "plt.show()"
      ],
      "execution_count": 117,
      "outputs": [
        {
          "output_type": "display_data",
          "data": {
            "image/png": "[encoded data removed]",
            "text/plain": [
              "<Figure size 864x576 with 1 Axes>"
            ]
          },
          "metadata": {
            "tags": []
          }
        }
      ]
    },
    {
      "cell_type": "code",
      "metadata": {
        "id": "DnP2JfcnRAtE",
        "colab_type": "code",
        "colab": {
          "base_uri": "https://localhost:8080/",
          "height": 34
        },
        "outputId": "e18d2b8d-47cc-434d-f71e-91cca31f755d"
      },
      "source": [
        "scipy.stats.kruskal(*[dataframe['pdl1_tumor_h'].values for name, dataframe in df.groupby('host_response')], na_policy='omit')"
      ],
      "execution_count": 118,
      "outputs": [
        {
          "output_type": "execute_result",
          "data": {
            "text/plain": [
              "KruskalResult(statistic=26.174458893000626, pvalue=8.767967966353224e-06)"
            ]
          },
          "metadata": {
            "tags": []
          },
          "execution_count": 118
        }
      ]
    },
    {
      "cell_type": "markdown",
      "metadata": {
        "id": "C25D7iFNRAtF",
        "colab_type": "text"
      },
      "source": [
        "H-scores of PD-L1 expression tumor cells showed a similar pattern than with percentage of PD-L1 positive cells. Increasing median scores were associated with increasing levels of inflammation. The median H-score was 0 when no inflammation was seen, 1 in mild inflammation, 2 in moderate inflammation and 18 in intense inflammation. This association was statistically significant (Kruskal-Wallis $P < 0.0001$)."
      ]
    },
    {
      "cell_type": "markdown",
      "metadata": {
        "id": "uuyq-aDbRAtG",
        "colab_type": "text"
      },
      "source": [
        "### Intratumoral lymphocytes"
      ]
    },
    {
      "cell_type": "code",
      "metadata": {
        "id": "zLXyfePrRAtG",
        "colab_type": "code",
        "colab": {
          "base_uri": "https://localhost:8080/",
          "height": 204
        },
        "outputId": "31bb9a7e-bc1d-417b-8cc6-7eb5029f92c2"
      },
      "source": [
        "df.groupby('host_response')['pdl1_lymph'].describe().round()"
      ],
      "execution_count": 119,
      "outputs": [
        {
          "output_type": "execute_result",
          "data": {
            "text/html": [
              "<div>\n",
              "<style scoped>\n",
              "    .dataframe tbody tr th:only-of-type {\n",
              "        vertical-align: middle;\n",
              "    }\n",
              "\n",
              "    .dataframe tbody tr th {\n",
              "        vertical-align: top;\n",
              "    }\n",
              "\n",
              "    .dataframe thead th {\n",
              "        text-align: right;\n",
              "    }\n",
              "</style>\n",
              "<table border=\"1\" class=\"dataframe\">\n",
              "  <thead>\n",
              "    <tr style=\"text-align: right;\">\n",
              "      <th></th>\n",
              "      <th>count</th>\n",
              "      <th>mean</th>\n",
              "      <th>std</th>\n",
              "      <th>min</th>\n",
              "      <th>25%</th>\n",
              "      <th>50%</th>\n",
              "      <th>75%</th>\n",
              "      <th>max</th>\n",
              "    </tr>\n",
              "    <tr>\n",
              "      <th>host_response</th>\n",
              "      <th></th>\n",
              "      <th></th>\n",
              "      <th></th>\n",
              "      <th></th>\n",
              "      <th></th>\n",
              "      <th></th>\n",
              "      <th></th>\n",
              "      <th></th>\n",
              "    </tr>\n",
              "  </thead>\n",
              "  <tbody>\n",
              "    <tr>\n",
              "      <th>No inflammation</th>\n",
              "      <td>0.0</td>\n",
              "      <td>NaN</td>\n",
              "      <td>NaN</td>\n",
              "      <td>NaN</td>\n",
              "      <td>NaN</td>\n",
              "      <td>NaN</td>\n",
              "      <td>NaN</td>\n",
              "      <td>NaN</td>\n",
              "    </tr>\n",
              "    <tr>\n",
              "      <th>Mild inflammation</th>\n",
              "      <td>93.0</td>\n",
              "      <td>4.0</td>\n",
              "      <td>10.0</td>\n",
              "      <td>0.0</td>\n",
              "      <td>0.0</td>\n",
              "      <td>1.0</td>\n",
              "      <td>2.0</td>\n",
              "      <td>70.0</td>\n",
              "    </tr>\n",
              "    <tr>\n",
              "      <th>Moderate inflammation</th>\n",
              "      <td>154.0</td>\n",
              "      <td>4.0</td>\n",
              "      <td>5.0</td>\n",
              "      <td>0.0</td>\n",
              "      <td>1.0</td>\n",
              "      <td>2.0</td>\n",
              "      <td>5.0</td>\n",
              "      <td>30.0</td>\n",
              "    </tr>\n",
              "    <tr>\n",
              "      <th>Intense inflammation</th>\n",
              "      <td>250.0</td>\n",
              "      <td>11.0</td>\n",
              "      <td>12.0</td>\n",
              "      <td>0.0</td>\n",
              "      <td>2.0</td>\n",
              "      <td>5.0</td>\n",
              "      <td>15.0</td>\n",
              "      <td>60.0</td>\n",
              "    </tr>\n",
              "  </tbody>\n",
              "</table>\n",
              "</div>"
            ],
            "text/plain": [
              "                       count  mean   std  min  25%  50%   75%   max\n",
              "host_response                                                      \n",
              "No inflammation          0.0   NaN   NaN  NaN  NaN  NaN   NaN   NaN\n",
              "Mild inflammation       93.0   4.0  10.0  0.0  0.0  1.0   2.0  70.0\n",
              "Moderate inflammation  154.0   4.0   5.0  0.0  1.0  2.0   5.0  30.0\n",
              "Intense inflammation   250.0  11.0  12.0  0.0  2.0  5.0  15.0  60.0"
            ]
          },
          "metadata": {
            "tags": []
          },
          "execution_count": 119
        }
      ]
    },
    {
      "cell_type": "code",
      "metadata": {
        "id": "9xP267WkRAtH",
        "colab_type": "code",
        "colab": {
          "base_uri": "https://localhost:8080/",
          "height": 502
        },
        "outputId": "12e8802d-ed97-4f5e-812e-faa2ab4a1fd5"
      },
      "source": [
        "plt.figure(figsize=(12,8))\n",
        "sns.barplot(data=df, x='host_response', y='pdl1_lymph', ci=None, estimator=np.median)\n",
        "plt.ylabel('Median PD-L1 expression')\n",
        "plt.show()"
      ],
      "execution_count": 120,
      "outputs": [
        {
          "output_type": "display_data",
          "data": {
            "image/png": "[encoded data removed]",
            "text/plain": [
              "<Figure size 864x576 with 1 Axes>"
            ]
          },
          "metadata": {
            "tags": []
          }
        }
      ]
    },
    {
      "cell_type": "code",
      "metadata": {
        "id": "b79vfCpHRAtI",
        "colab_type": "code",
        "colab": {
          "base_uri": "https://localhost:8080/",
          "height": 34
        },
        "outputId": "5a07edb8-c5dc-45fc-9659-c7a56ba5be52"
      },
      "source": [
        "scipy.stats.kruskal(*[dataframe['pdl1_lymph'].values for name, dataframe in df.groupby('host_response')], nan_policy='omit')"
      ],
      "execution_count": 121,
      "outputs": [
        {
          "output_type": "execute_result",
          "data": {
            "text/plain": [
              "KruskalResult(statistic=89.73945673867456, pvalue=2.491824413429132e-19)"
            ]
          },
          "metadata": {
            "tags": []
          },
          "execution_count": 121
        }
      ]
    },
    {
      "cell_type": "markdown",
      "metadata": {
        "id": "7DKmRWZtRAtI",
        "colab_type": "text"
      },
      "source": [
        "Median number of PD-L1 positive intratumoral lymphocytes increased from mild to intense inflammation. No PD-L1 positive intratumoral lymphocytes were identified when no inflammation was seen. Median number of PD-L1 positive intratumoral lymphocytes was 1% with mild inflammation, 2% with moderate inflammation and 5% with intense inflammation. This assocation was statistically significant (Kruskal-Wallis $P<0.0001$)."
      ]
    },
    {
      "cell_type": "markdown",
      "metadata": {
        "id": "o5GICkj2RAtJ",
        "colab_type": "text"
      },
      "source": [
        "## Impact of pathologic features"
      ]
    },
    {
      "cell_type": "markdown",
      "metadata": {
        "id": "itF7xZ8iRAtJ",
        "colab_type": "text"
      },
      "source": [
        "To determine the impact that the evaluated pathologic features has on PDL1 expresion, machine learning linear models were built using PD-L1 expression as the target and histologic subtype, histologic grade and host response as features. The adjusted $R^2$ was used as a measure of the impact (explanatory power) for the pathologic features in PD-L1 expression in tumor cells (percentage and H-score) and intratumoral lymphocytes (N). For each scenario, 3 models were built: M1) histologic grade alone; M2) histologic grade + histologic subtype; M3) histologic grade + histologic subtype + host response."
      ]
    },
    {
      "cell_type": "code",
      "metadata": {
        "id": "JxbuummtRAtJ",
        "colab_type": "code",
        "colab": {}
      },
      "source": [
        "# Function to calculate adjusted R2. It returns R2 and adjusted R2\n",
        "def r2_adj(x, y):\n",
        "    r2 = reg.score(x, y)\n",
        "    n = x.shape[0]\n",
        "    p = x.shape[1]\n",
        "    adjusted_r2 = 1-(1-r2)*(n-1)/(n-p-1)\n",
        "    return r2, adjusted_r2"
      ],
      "execution_count": 122,
      "outputs": []
    },
    {
      "cell_type": "markdown",
      "metadata": {
        "id": "dSaQxLTKRAtK",
        "colab_type": "text"
      },
      "source": [
        "### Tumor cells (%)"
      ]
    },
    {
      "cell_type": "code",
      "metadata": {
        "id": "Cs3MoEpFRAtK",
        "colab_type": "code",
        "colab": {}
      },
      "source": [
        "# Selecting the target and features\n",
        "df_ml = df[['pdl1_tumor', 'grade', 'subtype', 'host_response']].dropna()\n",
        "y = df_ml['pdl1_tumor']\n",
        "x_m1 = df_ml['grade']\n",
        "x_m2 = df_ml[['grade', 'subtype']]\n",
        "x_m3 = df_ml[['grade', 'subtype', 'host_response']]\n",
        "\n",
        "# Creating dummy variables for features\n",
        "x_m1 = pd.get_dummies(x_m1, drop_first=True)\n",
        "x_m2 = pd.get_dummies(x_m2, drop_first=True)\n",
        "x_m3 = pd.get_dummies(x_m3, drop_first=True)"
      ],
      "execution_count": 123,
      "outputs": []
    },
    {
      "cell_type": "code",
      "metadata": {
        "id": "3MbxXkvURAtL",
        "colab_type": "code",
        "colab": {
          "base_uri": "https://localhost:8080/",
          "height": 34
        },
        "outputId": "7f457896-1d40-4dff-c1eb-6a1ef8210a22"
      },
      "source": [
        "# Only histologic grade\n",
        "reg = LinearRegression()\n",
        "reg.fit(x_m1, y)\n",
        "r2_adj(x_m1, y)"
      ],
      "execution_count": 124,
      "outputs": [
        {
          "output_type": "execute_result",
          "data": {
            "text/plain": [
              "(0.052973569136934184, 0.0491471997193057)"
            ]
          },
          "metadata": {
            "tags": []
          },
          "execution_count": 124
        }
      ]
    },
    {
      "cell_type": "code",
      "metadata": {
        "id": "dtHn5hUFRAtL",
        "colab_type": "code",
        "colab": {
          "base_uri": "https://localhost:8080/",
          "height": 34
        },
        "outputId": "fd21fdb3-8e1a-4975-d106-50b700b7c010"
      },
      "source": [
        "# Histologic grade + histologic subtype\n",
        "reg.fit(x_m2, y)\n",
        "r2_adj(x_m2, y)"
      ],
      "execution_count": 125,
      "outputs": [
        {
          "output_type": "execute_result",
          "data": {
            "text/plain": [
              "(0.13690865177492895, 0.12278854791848604)"
            ]
          },
          "metadata": {
            "tags": []
          },
          "execution_count": 125
        }
      ]
    },
    {
      "cell_type": "code",
      "metadata": {
        "id": "cNltoh6PRAtM",
        "colab_type": "code",
        "colab": {
          "base_uri": "https://localhost:8080/",
          "height": 34
        },
        "outputId": "7aae87b6-e657-4948-f121-41de7e533443"
      },
      "source": [
        "# Histologic grade + histologic subtype + host response\n",
        "reg.fit(x_m3, y)\n",
        "r2_adj(x_m3, y)"
      ],
      "execution_count": 126,
      "outputs": [
        {
          "output_type": "execute_result",
          "data": {
            "text/plain": [
              "(0.17984303824860315, 0.16127981483447684)"
            ]
          },
          "metadata": {
            "tags": []
          },
          "execution_count": 126
        }
      ]
    },
    {
      "cell_type": "markdown",
      "metadata": {
        "id": "Nxmfh-xVRAtN",
        "colab_type": "text"
      },
      "source": [
        "For percentages of PD-L1 in tumor cells, histologic grade explains 4.9% of the variability. When histologic subtype is combined with histologic grade, both features explain 12.2% of the variability in PD-L1 expression in tumor cells. Finally, when host response is added, the 3 features explain 16.1% of the variability. Thus, all the considered pathologic features have a significant impact in PD-L1 expression."
      ]
    },
    {
      "cell_type": "markdown",
      "metadata": {
        "id": "qFYqhHrZRAtN",
        "colab_type": "text"
      },
      "source": [
        "### Tumor cells (H-score)"
      ]
    },
    {
      "cell_type": "code",
      "metadata": {
        "id": "qWBUobIfRAtN",
        "colab_type": "code",
        "colab": {}
      },
      "source": [
        "# Selecting the target and features\n",
        "df_ml = df[['pdl1_tumor_h', 'grade', 'subtype', 'host_response']].dropna()\n",
        "y = df_ml['pdl1_tumor_h']\n",
        "x_m1 = df_ml['grade']\n",
        "x_m2 = df_ml[['grade', 'subtype']]\n",
        "x_m3 = df_ml.drop('pdl1_tumor_h', axis=1)\n",
        "\n",
        "# Creating dummy variables\n",
        "x_m1 = pd.get_dummies(x_m1, drop_first=True)\n",
        "x_m2 = pd.get_dummies(x_m2, drop_first=True)\n",
        "x_m3 = pd.get_dummies(x_m3, drop_first=True)"
      ],
      "execution_count": 127,
      "outputs": []
    },
    {
      "cell_type": "code",
      "metadata": {
        "id": "vmQOkYOwRAtO",
        "colab_type": "code",
        "colab": {
          "base_uri": "https://localhost:8080/",
          "height": 34
        },
        "outputId": "1f56d5d4-0ca4-4f86-ad60-a1e69d42802e"
      },
      "source": [
        "# Only histologic grade\n",
        "reg.fit(x_m1, y)\n",
        "r2_adj(x_m1, y)"
      ],
      "execution_count": 128,
      "outputs": [
        {
          "output_type": "execute_result",
          "data": {
            "text/plain": [
              "(0.04064603194301786, 0.036769854294302795)"
            ]
          },
          "metadata": {
            "tags": []
          },
          "execution_count": 128
        }
      ]
    },
    {
      "cell_type": "code",
      "metadata": {
        "id": "np96Z1JXRAtP",
        "colab_type": "code",
        "colab": {
          "base_uri": "https://localhost:8080/",
          "height": 34
        },
        "outputId": "cd79835d-013b-4411-dbea-a20d7fe6b0b7"
      },
      "source": [
        "# Histologic grade + histologic subtype\n",
        "reg.fit(x_m2, y)\n",
        "r2_adj(x_m2, y)"
      ],
      "execution_count": 129,
      "outputs": [
        {
          "output_type": "execute_result",
          "data": {
            "text/plain": [
              "(0.20108172270504532, 0.18801148503968823)"
            ]
          },
          "metadata": {
            "tags": []
          },
          "execution_count": 129
        }
      ]
    },
    {
      "cell_type": "code",
      "metadata": {
        "id": "gYHm1vKMRAtQ",
        "colab_type": "code",
        "colab": {
          "base_uri": "https://localhost:8080/",
          "height": 34
        },
        "outputId": "2f9a24ad-63d0-41ee-dbe6-951a4ff51f7f"
      },
      "source": [
        "# Histologic grade + histologic subtype + host response\n",
        "reg.fit(x_m3, y)\n",
        "r2_adj(x_m3, y)"
      ],
      "execution_count": 130,
      "outputs": [
        {
          "output_type": "execute_result",
          "data": {
            "text/plain": [
              "(0.237255464504598, 0.21999169929791196)"
            ]
          },
          "metadata": {
            "tags": []
          },
          "execution_count": 130
        }
      ]
    },
    {
      "cell_type": "markdown",
      "metadata": {
        "id": "A5DHm8cbRAtR",
        "colab_type": "text"
      },
      "source": [
        "For H-scores of PD-L1 in tumor cells, histologic grade explains 3.7% of the variability. When histologic subtype is combined with histologic grade, both features explain 18.8% of the variability in PD-L1 expression in tumor cells. Finally, when host response is added, the 3 features explain 22% of the variability. Thus, all the considered pathologic features have a significant impact in PD-L1 expression."
      ]
    },
    {
      "cell_type": "markdown",
      "metadata": {
        "id": "tTBPGJY9RAtR",
        "colab_type": "text"
      },
      "source": [
        "### Intratumoral lymphocytes"
      ]
    },
    {
      "cell_type": "code",
      "metadata": {
        "id": "bbp6DBGgRAtR",
        "colab_type": "code",
        "colab": {}
      },
      "source": [
        "# Selecting the target and the features\n",
        "df_ml = df[['pdl1_lymph', 'grade', 'subtype', 'host_response']].dropna()\n",
        "y = df_ml['pdl1_lymph']\n",
        "x_m1 = df_ml['grade']\n",
        "x_m2 = df_ml[['grade', 'subtype']]\n",
        "x_m3 = df_ml.drop('pdl1_lymph', axis=1)\n",
        "\n",
        "# Creating dummy variables\n",
        "x_m1 = pd.get_dummies(x_m1, drop_first=True)\n",
        "x_m2 = pd.get_dummies(x_m2, drop_first=True)\n",
        "x_m3 = pd.get_dummies(x_m3, drop_first=True)"
      ],
      "execution_count": 131,
      "outputs": []
    },
    {
      "cell_type": "code",
      "metadata": {
        "id": "G4YcAFO5RAtS",
        "colab_type": "code",
        "colab": {
          "base_uri": "https://localhost:8080/",
          "height": 34
        },
        "outputId": "f2812de3-6cf0-4e43-b7ef-ff96481e3748"
      },
      "source": [
        "# Only histologic grade\n",
        "reg.fit(x_m1, y)\n",
        "r2_adj(x_m1, y)"
      ],
      "execution_count": 132,
      "outputs": [
        {
          "output_type": "execute_result",
          "data": {
            "text/plain": [
              "(0.012845784802866802, 0.0088000708061573)"
            ]
          },
          "metadata": {
            "tags": []
          },
          "execution_count": 132
        }
      ]
    },
    {
      "cell_type": "code",
      "metadata": {
        "id": "OkfEzK3IRAtT",
        "colab_type": "code",
        "colab": {
          "base_uri": "https://localhost:8080/",
          "height": 34
        },
        "outputId": "5b09c232-1f83-4e68-91de-3077d3cebdd0"
      },
      "source": [
        "# Histologic grade + histologic subtype\n",
        "reg.fit(x_m2, y)\n",
        "r2_adj(x_m2, y)"
      ],
      "execution_count": 133,
      "outputs": [
        {
          "output_type": "execute_result",
          "data": {
            "text/plain": [
              "(0.0516592936526592, 0.035919198941500086)"
            ]
          },
          "metadata": {
            "tags": []
          },
          "execution_count": 133
        }
      ]
    },
    {
      "cell_type": "code",
      "metadata": {
        "id": "FJ4xe0YfRAtU",
        "colab_type": "code",
        "colab": {
          "base_uri": "https://localhost:8080/",
          "height": 34
        },
        "outputId": "af499d7a-c617-4fc4-c1eb-46de243ac4e1"
      },
      "source": [
        "# Histologic grade + histologic subtype + host response\n",
        "reg.fit(x_m3, y)\n",
        "r2_adj(x_m3, y)"
      ],
      "execution_count": 134,
      "outputs": [
        {
          "output_type": "execute_result",
          "data": {
            "text/plain": [
              "(0.14922975689183737, 0.12969223565135768)"
            ]
          },
          "metadata": {
            "tags": []
          },
          "execution_count": 134
        }
      ]
    },
    {
      "cell_type": "markdown",
      "metadata": {
        "id": "XpqOCqQxRAtV",
        "colab_type": "text"
      },
      "source": [
        "For number of PD-L1 positive intratumoral lymphocytes, histologic grade explains 0.1% of the variability. When histologic subtype is combined with histologic grade, both features explain 3.6% of the variability in PD-L1 expression in tumor cells. Finally, when host response is added, the 3 features explain 13% of the variability. Thus, all the considered pathologic features have a significant impact in PD-L1 expression."
      ]
    }
  ]
}